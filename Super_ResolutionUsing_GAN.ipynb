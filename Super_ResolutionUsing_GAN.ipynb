{
  "cells": [
    {
      "cell_type": "code",
      "execution_count": null,
      "metadata": {
        "colab": {
          "base_uri": "https://localhost:8080/"
        },
        "id": "MvKmiV-BvugV",
        "outputId": "f037b44f-184a-4717-d3e8-d93a17b1d446"
      },
      "outputs": [
        {
          "name": "stdout",
          "output_type": "stream",
          "text": [
            "Archive:  /content/mirflicr_small.zip\n",
            "   creating: mirflicr_small/\n",
            "  inflating: mirflicr_small/im3813.jpg  \n",
            "  inflating: __MACOSX/mirflicr_small/._im3813.jpg  \n",
            "  inflating: mirflicr_small/im6957.jpg  \n",
            "  inflating: __MACOSX/mirflicr_small/._im6957.jpg  \n",
            "  inflating: mirflicr_small/im11231.jpg  \n",
            "  inflating: __MACOSX/mirflicr_small/._im11231.jpg  \n",
            "  inflating: mirflicr_small/im4173.jpg  \n",
            "  inflating: __MACOSX/mirflicr_small/._im4173.jpg  \n",
            "  inflating: mirflicr_small/im22604.jpg  \n",
            "  inflating: __MACOSX/mirflicr_small/._im22604.jpg  \n",
            "  inflating: mirflicr_small/im17697.jpg  \n",
            "  inflating: __MACOSX/mirflicr_small/._im17697.jpg  \n",
            "  inflating: mirflicr_small/im8588.jpg  \n",
            "  inflating: __MACOSX/mirflicr_small/._im8588.jpg  \n",
            "  inflating: mirflicr_small/im11027.jpg  \n",
            "  inflating: __MACOSX/mirflicr_small/._im11027.jpg  \n",
            "  inflating: mirflicr_small/im17456.jpg  \n",
            "  inflating: __MACOSX/mirflicr_small/._im17456.jpg  \n",
            "  inflating: mirflicr_small/im24711.jpg  \n",
            "  inflating: __MACOSX/mirflicr_small/._im24711.jpg  \n",
            "  inflating: mirflicr_small/im759.jpg  \n",
            "  inflating: __MACOSX/mirflicr_small/._im759.jpg  \n",
            "  inflating: mirflicr_small/im16628.jpg  \n",
            "  inflating: __MACOSX/mirflicr_small/._im16628.jpg  \n",
            "  inflating: mirflicr_small/im9721.jpg  \n",
            "  inflating: __MACOSX/mirflicr_small/._im9721.jpg  \n",
            "  inflating: mirflicr_small/im163.jpg  \n",
            "  inflating: __MACOSX/mirflicr_small/._im163.jpg  \n",
            "  inflating: mirflicr_small/im1341.jpg  \n",
            "  inflating: __MACOSX/mirflicr_small/._im1341.jpg  \n",
            "  inflating: mirflicr_small/im5457.jpg  \n",
            "  inflating: __MACOSX/mirflicr_small/._im5457.jpg  \n",
            "  inflating: mirflicr_small/im360.jpg  \n",
            "  inflating: __MACOSX/mirflicr_small/._im360.jpg  \n",
            "  inflating: mirflicr_small/im18360.jpg  \n",
            "  inflating: __MACOSX/mirflicr_small/._im18360.jpg  \n",
            "  inflating: mirflicr_small/im5495.jpg  \n",
            "  inflating: __MACOSX/mirflicr_small/._im5495.jpg  \n",
            "  inflating: mirflicr_small/im19718.jpg  \n",
            "  inflating: __MACOSX/mirflicr_small/._im19718.jpg  \n",
            "  inflating: mirflicr_small/im21907.jpg  \n",
            "  inflating: __MACOSX/mirflicr_small/._im21907.jpg  \n",
            "  inflating: mirflicr_small/im5720.jpg  \n",
            "  inflating: __MACOSX/mirflicr_small/._im5720.jpg  \n",
            "  inflating: mirflicr_small/im980.jpg  \n",
            "  inflating: __MACOSX/mirflicr_small/._im980.jpg  \n",
            "  inflating: mirflicr_small/im24062.jpg  \n",
            "  inflating: __MACOSX/mirflicr_small/._im24062.jpg  \n",
            "  inflating: mirflicr_small/im21697.jpg  \n",
            "  inflating: __MACOSX/mirflicr_small/._im21697.jpg  \n",
            "  inflating: mirflicr_small/im5085.jpg  \n",
            "  inflating: __MACOSX/mirflicr_small/._im5085.jpg  \n",
            "  inflating: mirflicr_small/im13341.jpg  \n",
            "  inflating: __MACOSX/mirflicr_small/._im13341.jpg  \n",
            "  inflating: mirflicr_small/im19134.jpg  \n",
            "  inflating: __MACOSX/mirflicr_small/._im19134.jpg  \n",
            "  inflating: mirflicr_small/im15040.jpg  \n",
            "  inflating: __MACOSX/mirflicr_small/._im15040.jpg  \n",
            "  inflating: mirflicr_small/im2515.jpg  \n",
            "  inflating: __MACOSX/mirflicr_small/._im2515.jpg  \n",
            "  inflating: mirflicr_small/im1008.jpg  \n",
            "  inflating: __MACOSX/mirflicr_small/._im1008.jpg  \n",
            "  inflating: mirflicr_small/im10689.jpg  \n",
            "  inflating: __MACOSX/mirflicr_small/._im10689.jpg  \n",
            "  inflating: mirflicr_small/im21865.jpg  \n",
            "  inflating: __MACOSX/mirflicr_small/._im21865.jpg  \n",
            "  inflating: mirflicr_small/im18772.jpg  \n",
            "  inflating: __MACOSX/mirflicr_small/._im18772.jpg  \n",
            "  inflating: mirflicr_small/im19478.jpg  \n",
            "  inflating: __MACOSX/mirflicr_small/._im19478.jpg  \n",
            "  inflating: mirflicr_small/im22411.jpg  \n",
            "  inflating: __MACOSX/mirflicr_small/._im22411.jpg  \n",
            "  inflating: mirflicr_small/im15295.jpg  \n",
            "  inflating: __MACOSX/mirflicr_small/._im15295.jpg  \n",
            "  inflating: mirflicr_small/im6411.jpg  \n",
            "  inflating: __MACOSX/mirflicr_small/._im6411.jpg  \n",
            "  inflating: mirflicr_small/im24896.jpg  \n",
            "  inflating: __MACOSX/mirflicr_small/._im24896.jpg  \n",
            "  inflating: mirflicr_small/im15493.jpg  \n",
            "  inflating: __MACOSX/mirflicr_small/._im15493.jpg  \n",
            "  inflating: mirflicr_small/im2307.jpg  \n",
            "  inflating: __MACOSX/mirflicr_small/._im2307.jpg  \n",
            "  inflating: mirflicr_small/im5332.jpg  \n",
            "  inflating: __MACOSX/mirflicr_small/._im5332.jpg  \n",
            "  inflating: mirflicr_small/im7257.jpg  \n",
            "  inflating: __MACOSX/mirflicr_small/._im7257.jpg  \n",
            "  inflating: mirflicr_small/im15848.jpg  \n",
            "  inflating: __MACOSX/mirflicr_small/._im15848.jpg  \n",
            "  inflating: mirflicr_small/im3024.jpg  \n",
            "  inflating: __MACOSX/mirflicr_small/._im3024.jpg  \n",
            "  inflating: mirflicr_small/im1155.jpg  \n",
            "  inflating: __MACOSX/mirflicr_small/._im1155.jpg  \n",
            "  inflating: mirflicr_small/im9509.jpg  \n",
            "  inflating: __MACOSX/mirflicr_small/._im9509.jpg  \n",
            "  inflating: mirflicr_small/im22766.jpg  \n",
            "  inflating: __MACOSX/mirflicr_small/._im22766.jpg  \n",
            "  inflating: mirflicr_small/im91.jpg  \n",
            "  inflating: __MACOSX/mirflicr_small/._im91.jpg  \n",
            "  inflating: mirflicr_small/im9253.jpg  \n",
            "  inflating: __MACOSX/mirflicr_small/._im9253.jpg  \n",
            "  inflating: mirflicr_small/im19041.jpg  \n",
            "  inflating: __MACOSX/mirflicr_small/._im19041.jpg  \n",
            "  inflating: mirflicr_small/im8367.jpg  \n",
            "  inflating: __MACOSX/mirflicr_small/._im8367.jpg  \n",
            "  inflating: mirflicr_small/im7732.jpg  \n",
            "  inflating: __MACOSX/mirflicr_small/._im7732.jpg  \n",
            "  inflating: mirflicr_small/im8415.jpg  \n",
            "  inflating: __MACOSX/mirflicr_small/._im8415.jpg  \n",
            "  inflating: mirflicr_small/im2676.jpg  \n",
            "  inflating: __MACOSX/mirflicr_small/._im2676.jpg  \n",
            "  inflating: mirflicr_small/im11810.jpg  \n",
            "  inflating: __MACOSX/mirflicr_small/._im11810.jpg  \n",
            "  inflating: mirflicr_small/im5858.jpg  \n",
            "  inflating: __MACOSX/mirflicr_small/._im5858.jpg  \n",
            "  inflating: mirflicr_small/im9092.jpg  \n",
            "  inflating: __MACOSX/mirflicr_small/._im9092.jpg  \n",
            "  inflating: mirflicr_small/im11958.jpg  \n",
            "  inflating: __MACOSX/mirflicr_small/._im11958.jpg  \n",
            "  inflating: mirflicr_small/im24049.jpg  \n",
            "  inflating: __MACOSX/mirflicr_small/._im24049.jpg  \n",
            "  inflating: mirflicr_small/im7108.jpg  \n",
            "  inflating: __MACOSX/mirflicr_small/._im7108.jpg  \n",
            "  inflating: mirflicr_small/im15243.jpg  \n",
            "  inflating: __MACOSX/mirflicr_small/._im15243.jpg  \n",
            "  inflating: mirflicr_small/im9870.jpg  \n",
            "  inflating: __MACOSX/mirflicr_small/._im9870.jpg  \n",
            "  inflating: mirflicr_small/im18015.jpg  \n",
            "  inflating: __MACOSX/mirflicr_small/._im18015.jpg  \n",
            "  inflating: mirflicr_small/im14161.jpg  \n",
            "  inflating: __MACOSX/mirflicr_small/._im14161.jpg  \n",
            "  inflating: mirflicr_small/im7875.jpg  \n",
            "  inflating: __MACOSX/mirflicr_small/._im7875.jpg  \n",
            "  inflating: mirflicr_small/im2528.jpg  \n",
            "  inflating: __MACOSX/mirflicr_small/._im2528.jpg  \n",
            "  inflating: mirflicr_small/im23242.jpg  \n",
            "  inflating: __MACOSX/mirflicr_small/._im23242.jpg  \n",
            "  inflating: mirflicr_small/im565.jpg  \n",
            "  inflating: __MACOSX/mirflicr_small/._im565.jpg  \n",
            "  inflating: mirflicr_small/im8788.jpg  \n",
            "  inflating: __MACOSX/mirflicr_small/._im8788.jpg  \n",
            "  inflating: mirflicr_small/im15069.jpg  \n",
            "  inflating: __MACOSX/mirflicr_small/._im15069.jpg  \n",
            "  inflating: mirflicr_small/im15079.jpg  \n",
            "  inflating: __MACOSX/mirflicr_small/._im15079.jpg  \n",
            "  inflating: mirflicr_small/im6992.jpg  \n",
            "  inflating: __MACOSX/mirflicr_small/._im6992.jpg  \n",
            "  inflating: mirflicr_small/im23246.jpg  \n",
            "  inflating: __MACOSX/mirflicr_small/._im23246.jpg  \n",
            "  inflating: mirflicr_small/im3154.jpg  \n",
            "  inflating: __MACOSX/mirflicr_small/._im3154.jpg  \n",
            "  inflating: mirflicr_small/im7332.jpg  \n",
            "  inflating: __MACOSX/mirflicr_small/._im7332.jpg  \n",
            "  inflating: mirflicr_small/im15086.jpg  \n",
            "  inflating: __MACOSX/mirflicr_small/._im15086.jpg  \n",
            "  inflating: mirflicr_small/im3381.jpg  \n",
            "  inflating: __MACOSX/mirflicr_small/._im3381.jpg  \n",
            "  inflating: mirflicr_small/im5928.jpg  \n",
            "  inflating: __MACOSX/mirflicr_small/._im5928.jpg  \n",
            "  inflating: mirflicr_small/im5914.jpg  \n",
            "  inflating: __MACOSX/mirflicr_small/._im5914.jpg  \n",
            "  inflating: mirflicr_small/im11141.jpg  \n",
            "  inflating: __MACOSX/mirflicr_small/._im11141.jpg  \n",
            "  inflating: mirflicr_small/im15327.jpg  \n",
            "  inflating: __MACOSX/mirflicr_small/._im15327.jpg  \n",
            "  inflating: mirflicr_small/im9928.jpg  \n",
            "  inflating: __MACOSX/mirflicr_small/._im9928.jpg  \n",
            "  inflating: mirflicr_small/im10288.jpg  \n",
            "  inflating: __MACOSX/mirflicr_small/._im10288.jpg  \n",
            "  inflating: mirflicr_small/im2114.jpg  \n",
            "  inflating: __MACOSX/mirflicr_small/._im2114.jpg  \n",
            "  inflating: mirflicr_small/im13554.jpg  \n",
            "  inflating: __MACOSX/mirflicr_small/._im13554.jpg  \n",
            "  inflating: mirflicr_small/im17068.jpg  \n",
            "  inflating: __MACOSX/mirflicr_small/._im17068.jpg  \n",
            "  inflating: mirflicr_small/im2667.jpg  \n",
            "  inflating: __MACOSX/mirflicr_small/._im2667.jpg  \n",
            "  inflating: mirflicr_small/im14789.jpg  \n",
            "  inflating: __MACOSX/mirflicr_small/._im14789.jpg  \n",
            "  inflating: mirflicr_small/im8404.jpg  \n",
            "  inflating: __MACOSX/mirflicr_small/._im8404.jpg  \n",
            "  inflating: mirflicr_small/im14004.jpg  \n",
            "  inflating: __MACOSX/mirflicr_small/._im14004.jpg  \n",
            "  inflating: mirflicr_small/im24845.jpg  \n",
            "  inflating: __MACOSX/mirflicr_small/._im24845.jpg  \n",
            "  inflating: mirflicr_small/im14819.jpg  \n",
            "  inflating: __MACOSX/mirflicr_small/._im14819.jpg  \n",
            "  inflating: mirflicr_small/im4404.jpg  \n",
            "  inflating: __MACOSX/mirflicr_small/._im4404.jpg  \n",
            "  inflating: mirflicr_small/im13192.jpg  \n",
            "  inflating: __MACOSX/mirflicr_small/._im13192.jpg  \n",
            "  inflating: mirflicr_small/im17445.jpg  \n",
            "  inflating: __MACOSX/mirflicr_small/._im17445.jpg  \n",
            "  inflating: mirflicr_small/im9478.jpg  \n",
            "  inflating: __MACOSX/mirflicr_small/._im9478.jpg  \n",
            "  inflating: mirflicr_small/im548.jpg  \n",
            "  inflating: __MACOSX/mirflicr_small/._im548.jpg  \n",
            "  inflating: mirflicr_small/im17109.jpg  \n",
            "  inflating: __MACOSX/mirflicr_small/._im17109.jpg  \n",
            "  inflating: mirflicr_small/im16203.jpg  \n",
            "  inflating: __MACOSX/mirflicr_small/._im16203.jpg  \n",
            "  inflating: mirflicr_small/im20799.jpg  \n",
            "  inflating: __MACOSX/mirflicr_small/._im20799.jpg  \n",
            "  inflating: mirflicr_small/im16229.jpg  \n",
            "  inflating: __MACOSX/mirflicr_small/._im16229.jpg  \n",
            "  inflating: mirflicr_small/im17137.jpg  \n",
            "  inflating: __MACOSX/mirflicr_small/._im17137.jpg  \n",
            "  inflating: mirflicr_small/im18204.jpg  \n",
            "  inflating: __MACOSX/mirflicr_small/._im18204.jpg  \n",
            "  inflating: mirflicr_small/im7443.jpg  \n",
            "  inflating: __MACOSX/mirflicr_small/._im7443.jpg  \n",
            "  inflating: mirflicr_small/im23537.jpg  \n",
            "  inflating: __MACOSX/mirflicr_small/._im23537.jpg  \n",
            "  inflating: mirflicr_small/im21320.jpg  \n",
            "  inflating: __MACOSX/mirflicr_small/._im21320.jpg  \n",
            "  inflating: mirflicr_small/im19873.jpg  \n",
            "  inflating: __MACOSX/mirflicr_small/._im19873.jpg  \n",
            "  inflating: mirflicr_small/im2249.jpg  \n",
            "  inflating: __MACOSX/mirflicr_small/._im2249.jpg  \n",
            "  inflating: mirflicr_small/im5095.jpg  \n",
            "  inflating: __MACOSX/mirflicr_small/._im5095.jpg  \n",
            "  inflating: mirflicr_small/im17335.jpg  \n",
            "  inflating: __MACOSX/mirflicr_small/._im17335.jpg  \n",
            "  inflating: mirflicr_small/im11988.jpg  \n",
            "  inflating: __MACOSX/mirflicr_small/._im11988.jpg  \n",
            "  inflating: mirflicr_small/im12271.jpg  \n",
            "  inflating: __MACOSX/mirflicr_small/._im12271.jpg  \n",
            "  inflating: mirflicr_small/im7655.jpg  \n",
            "  inflating: __MACOSX/mirflicr_small/._im7655.jpg  \n",
            "  inflating: mirflicr_small/im19481.jpg  \n",
            "  inflating: __MACOSX/mirflicr_small/._im19481.jpg  \n",
            "  inflating: mirflicr_small/im5718.jpg  \n",
            "  inflating: __MACOSX/mirflicr_small/._im5718.jpg  \n",
            "  inflating: mirflicr_small/im21081.jpg  \n",
            "  inflating: __MACOSX/mirflicr_small/._im21081.jpg  \n",
            "  inflating: mirflicr_small/im19250.jpg  \n",
            "  inflating: __MACOSX/mirflicr_small/._im19250.jpg  \n",
            "  inflating: mirflicr_small/im12477.jpg  \n",
            "  inflating: __MACOSX/mirflicr_small/._im12477.jpg  \n",
            "  inflating: mirflicr_small/im10260.jpg  \n",
            "  inflating: __MACOSX/mirflicr_small/._im10260.jpg  \n",
            "  inflating: mirflicr_small/im19522.jpg  \n",
            "  inflating: __MACOSX/mirflicr_small/._im19522.jpg  \n",
            "  inflating: mirflicr_small/im8412.jpg  \n",
            "  inflating: __MACOSX/mirflicr_small/._im8412.jpg  \n",
            "  inflating: mirflicr_small/im20412.jpg  \n",
            "  inflating: __MACOSX/mirflicr_small/._im20412.jpg  \n",
            "  inflating: mirflicr_small/im17043.jpg  \n",
            "  inflating: __MACOSX/mirflicr_small/._im17043.jpg  \n",
            "  inflating: mirflicr_small/im15668.jpg  \n",
            "  inflating: __MACOSX/mirflicr_small/._im15668.jpg  \n",
            "  inflating: mirflicr_small/im1813.jpg  \n",
            "  inflating: __MACOSX/mirflicr_small/._im1813.jpg  \n",
            "  inflating: mirflicr_small/im1634.jpg  \n",
            "  inflating: __MACOSX/mirflicr_small/._im1634.jpg  \n",
            "  inflating: mirflicr_small/im21526.jpg  \n",
            "  inflating: __MACOSX/mirflicr_small/._im21526.jpg  \n",
            "  inflating: mirflicr_small/im6172.jpg  \n",
            "  inflating: __MACOSX/mirflicr_small/._im6172.jpg  \n",
            "  inflating: mirflicr_small/im14205.jpg  \n",
            "  inflating: __MACOSX/mirflicr_small/._im14205.jpg  \n",
            "  inflating: mirflicr_small/im16374.jpg  \n",
            "  inflating: __MACOSX/mirflicr_small/._im16374.jpg  \n",
            "  inflating: mirflicr_small/im1379.jpg  \n",
            "  inflating: __MACOSX/mirflicr_small/._im1379.jpg  \n",
            "  inflating: mirflicr_small/im15494.jpg  \n",
            "  inflating: __MACOSX/mirflicr_small/._im15494.jpg  \n",
            "  inflating: mirflicr_small/im21916.jpg  \n",
            "  inflating: __MACOSX/mirflicr_small/._im21916.jpg  \n",
            "  inflating: mirflicr_small/im15245.jpg  \n",
            "  inflating: __MACOSX/mirflicr_small/._im15245.jpg  \n",
            "  inflating: mirflicr_small/im8759.jpg  \n",
            "  inflating: __MACOSX/mirflicr_small/._im8759.jpg  \n",
            "  inflating: mirflicr_small/im4611.jpg  \n",
            "  inflating: __MACOSX/mirflicr_small/._im4611.jpg  \n",
            "  inflating: mirflicr_small/im12927.jpg  \n",
            "  inflating: __MACOSX/mirflicr_small/._im12927.jpg  \n",
            "  inflating: mirflicr_small/im21453.jpg  \n",
            "  inflating: __MACOSX/mirflicr_small/._im21453.jpg  \n",
            "  inflating: mirflicr_small/im22628.jpg  \n",
            "  inflating: __MACOSX/mirflicr_small/._im22628.jpg  \n",
            "  inflating: mirflicr_small/im19140.jpg  \n",
            "  inflating: __MACOSX/mirflicr_small/._im19140.jpg  \n",
            "  inflating: mirflicr_small/im16515.jpg  \n",
            "  inflating: __MACOSX/mirflicr_small/._im16515.jpg  \n",
            "  inflating: mirflicr_small/im12001.jpg  \n",
            "  inflating: __MACOSX/mirflicr_small/._im12001.jpg  \n",
            "  inflating: mirflicr_small/im15020.jpg  \n",
            "  inflating: __MACOSX/mirflicr_small/._im15020.jpg  \n",
            "  inflating: mirflicr_small/im23592.jpg  \n",
            "  inflating: __MACOSX/mirflicr_small/._im23592.jpg  \n",
            "  inflating: mirflicr_small/im2213.jpg  \n",
            "  inflating: __MACOSX/mirflicr_small/._im2213.jpg  \n",
            "  inflating: mirflicr_small/im24570.jpg  \n",
            "  inflating: __MACOSX/mirflicr_small/._im24570.jpg  \n",
            "  inflating: mirflicr_small/im18289.jpg  \n",
            "  inflating: __MACOSX/mirflicr_small/._im18289.jpg  \n",
            "  inflating: mirflicr_small/im4886.jpg  \n",
            "  inflating: __MACOSX/mirflicr_small/._im4886.jpg  \n",
            "  inflating: mirflicr_small/im8702.jpg  \n",
            "  inflating: __MACOSX/mirflicr_small/._im8702.jpg  \n",
            "  inflating: mirflicr_small/im2978.jpg  \n",
            "  inflating: __MACOSX/mirflicr_small/._im2978.jpg  \n",
            "  inflating: mirflicr_small/im7814.jpg  \n",
            "  inflating: __MACOSX/mirflicr_small/._im7814.jpg  \n",
            "  inflating: mirflicr_small/im23021.jpg  \n",
            "  inflating: __MACOSX/mirflicr_small/._im23021.jpg  \n",
            "  inflating: mirflicr_small/im9781.jpg  \n",
            "  inflating: __MACOSX/mirflicr_small/._im9781.jpg  \n",
            "  inflating: mirflicr_small/im9959.jpg  \n",
            "  inflating: __MACOSX/mirflicr_small/._im9959.jpg  \n",
            "  inflating: mirflicr_small/im17541.jpg  \n",
            "  inflating: __MACOSX/mirflicr_small/._im17541.jpg  \n",
            "  inflating: mirflicr_small/im13055.jpg  \n",
            "  inflating: __MACOSX/mirflicr_small/._im13055.jpg  \n",
            "  inflating: mirflicr_small/im1478.jpg  \n",
            "  inflating: __MACOSX/mirflicr_small/._im1478.jpg  \n",
            "  inflating: mirflicr_small/im8460.jpg  \n",
            "  inflating: __MACOSX/mirflicr_small/._im8460.jpg  \n",
            "  inflating: mirflicr_small/im11326.jpg  \n",
            "  inflating: __MACOSX/mirflicr_small/._im11326.jpg  \n",
            "  inflating: mirflicr_small/im15626.jpg  \n",
            "  inflating: __MACOSX/mirflicr_small/._im15626.jpg  \n",
            "  inflating: mirflicr_small/im19961.jpg  \n",
            "  inflating: __MACOSX/mirflicr_small/._im19961.jpg  \n",
            "  inflating: mirflicr_small/im20139.jpg  \n",
            "  inflating: __MACOSX/mirflicr_small/._im20139.jpg  \n",
            "  inflating: mirflicr_small/im4059.jpg  \n",
            "  inflating: __MACOSX/mirflicr_small/._im4059.jpg  \n",
            "  inflating: mirflicr_small/im22706.jpg  \n",
            "  inflating: __MACOSX/mirflicr_small/._im22706.jpg  \n",
            "  inflating: mirflicr_small/im8139.jpg  \n",
            "  inflating: __MACOSX/mirflicr_small/._im8139.jpg  \n",
            "  inflating: mirflicr_small/im14263.jpg  \n",
            "  inflating: __MACOSX/mirflicr_small/._im14263.jpg  \n",
            "  inflating: mirflicr_small/im10207.jpg  \n",
            "  inflating: __MACOSX/mirflicr_small/._im10207.jpg  \n",
            "  inflating: mirflicr_small/im14129.jpg  \n",
            "  inflating: __MACOSX/mirflicr_small/._im14129.jpg  \n",
            "  inflating: mirflicr_small/im3656.jpg  \n",
            "  inflating: __MACOSX/mirflicr_small/._im3656.jpg  \n",
            "  inflating: mirflicr_small/im7418.jpg  \n",
            "  inflating: __MACOSX/mirflicr_small/._im7418.jpg  \n",
            "  inflating: mirflicr_small/im11535.jpg  \n",
            "  inflating: __MACOSX/mirflicr_small/._im11535.jpg  \n",
            "  inflating: mirflicr_small/im13478.jpg  \n",
            "  inflating: __MACOSX/mirflicr_small/._im13478.jpg  \n",
            "  inflating: mirflicr_small/im12200.jpg  \n",
            "  inflating: __MACOSX/mirflicr_small/._im12200.jpg  \n",
            "  inflating: mirflicr_small/im14671.jpg  \n",
            "  inflating: __MACOSX/mirflicr_small/._im14671.jpg  \n",
            "  inflating: mirflicr_small/im11709.jpg  \n",
            "  inflating: __MACOSX/mirflicr_small/._im11709.jpg  \n",
            "  inflating: mirflicr_small/im9190.jpg  \n",
            "  inflating: __MACOSX/mirflicr_small/._im9190.jpg  \n",
            "  inflating: mirflicr_small/im18739.jpg  \n",
            "  inflating: __MACOSX/mirflicr_small/._im18739.jpg  \n",
            "  inflating: mirflicr_small/im24956.jpg  \n",
            "  inflating: __MACOSX/mirflicr_small/._im24956.jpg  \n",
            "  inflating: mirflicr_small/im1282.jpg  \n",
            "  inflating: __MACOSX/mirflicr_small/._im1282.jpg  \n",
            "  inflating: mirflicr_small/im11669.jpg  \n",
            "  inflating: __MACOSX/mirflicr_small/._im11669.jpg  \n",
            "  inflating: mirflicr_small/im6499.jpg  \n",
            "  inflating: __MACOSX/mirflicr_small/._im6499.jpg  \n",
            "  inflating: mirflicr_small/im2600.jpg  \n",
            "  inflating: __MACOSX/mirflicr_small/._im2600.jpg  \n",
            "  inflating: mirflicr_small/im8852.jpg  \n",
            "  inflating: __MACOSX/mirflicr_small/._im8852.jpg  \n",
            "  inflating: mirflicr_small/im12162.jpg  \n",
            "  inflating: __MACOSX/mirflicr_small/._im12162.jpg  \n",
            "  inflating: mirflicr_small/im8846.jpg  \n",
            "  inflating: __MACOSX/mirflicr_small/._im8846.jpg  \n",
            "  inflating: mirflicr_small/im4926.jpg  \n",
            "  inflating: __MACOSX/mirflicr_small/._im4926.jpg  \n",
            "  inflating: mirflicr_small/im20885.jpg  \n",
            "  inflating: __MACOSX/mirflicr_small/._im20885.jpg  \n",
            "  inflating: mirflicr_small/im7546.jpg  \n",
            "  inflating: __MACOSX/mirflicr_small/._im7546.jpg  \n",
            "  inflating: mirflicr_small/im8106.jpg  \n",
            "  inflating: __MACOSX/mirflicr_small/._im8106.jpg  \n",
            "  inflating: mirflicr_small/im466.jpg  \n",
            "  inflating: __MACOSX/mirflicr_small/._im466.jpg  \n",
            "  inflating: mirflicr_small/im18328.jpg  \n",
            "  inflating: __MACOSX/mirflicr_small/._im18328.jpg  \n",
            "  inflating: mirflicr_small/im1320.jpg  \n",
            "  inflating: __MACOSX/mirflicr_small/._im1320.jpg  \n",
            "  inflating: mirflicr_small/im9998.jpg  \n",
            "  inflating: __MACOSX/mirflicr_small/._im9998.jpg  \n",
            "  inflating: mirflicr_small/im19585.jpg  \n",
            "  inflating: __MACOSX/mirflicr_small/._im19585.jpg  \n",
            "  inflating: mirflicr_small/im16885.jpg  \n",
            "  inflating: __MACOSX/mirflicr_small/._im16885.jpg  \n",
            "  inflating: mirflicr_small/im17543.jpg  \n",
            "  inflating: __MACOSX/mirflicr_small/._im17543.jpg  \n",
            "  inflating: mirflicr_small/im17231.jpg  \n",
            "  inflating: __MACOSX/mirflicr_small/._im17231.jpg  \n",
            "  inflating: mirflicr_small/im5973.jpg  \n",
            "  inflating: __MACOSX/mirflicr_small/._im5973.jpg  \n",
            "  inflating: mirflicr_small/im16067.jpg  \n",
            "  inflating: __MACOSX/mirflicr_small/._im16067.jpg  \n",
            "  inflating: mirflicr_small/im17609.jpg  \n",
            "  inflating: __MACOSX/mirflicr_small/._im17609.jpg  \n",
            "  inflating: mirflicr_small/im3872.jpg  \n",
            "  inflating: __MACOSX/mirflicr_small/._im3872.jpg  \n",
            "  inflating: mirflicr_small/im1913.jpg  \n",
            "  inflating: __MACOSX/mirflicr_small/._im1913.jpg  \n",
            "  inflating: mirflicr_small/im8704.jpg  \n",
            "  inflating: __MACOSX/mirflicr_small/._im8704.jpg  \n",
            "  inflating: mirflicr_small/im5552.jpg  \n",
            "  inflating: __MACOSX/mirflicr_small/._im5552.jpg  \n",
            "  inflating: mirflicr_small/im5208.jpg  \n",
            "  inflating: __MACOSX/mirflicr_small/._im5208.jpg  \n",
            "  inflating: mirflicr_small/im24562.jpg  \n",
            "  inflating: __MACOSX/mirflicr_small/._im24562.jpg  \n",
            "  inflating: mirflicr_small/im17355.jpg  \n",
            "  inflating: __MACOSX/mirflicr_small/._im17355.jpg  \n",
            "  inflating: mirflicr_small/im19224.jpg  \n",
            "  inflating: __MACOSX/mirflicr_small/._im19224.jpg  \n",
            "  inflating: mirflicr_small/im4512.jpg  \n",
            "  inflating: __MACOSX/mirflicr_small/._im4512.jpg  \n",
            "  inflating: mirflicr_small/im18338.jpg  \n",
            "  inflating: __MACOSX/mirflicr_small/._im18338.jpg  \n",
            "  inflating: mirflicr_small/im1.jpg  \n",
            "  inflating: __MACOSX/mirflicr_small/._im1.jpg  \n",
            "  inflating: mirflicr_small/im13292.jpg  \n",
            "  inflating: __MACOSX/mirflicr_small/._im13292.jpg  \n",
            "  inflating: mirflicr_small/im1640.jpg  \n",
            "  inflating: __MACOSX/mirflicr_small/._im1640.jpg  \n",
            "  inflating: mirflicr_small/im22099.jpg  \n",
            "  inflating: __MACOSX/mirflicr_small/._im22099.jpg  \n",
            "  inflating: mirflicr_small/im14259.jpg  \n",
            "  inflating: __MACOSX/mirflicr_small/._im14259.jpg  \n",
            "  inflating: mirflicr_small/im1331.jpg  \n",
            "  inflating: __MACOSX/mirflicr_small/._im1331.jpg  \n",
            "  inflating: mirflicr_small/im8315.jpg  \n",
            "  inflating: __MACOSX/mirflicr_small/._im8315.jpg  \n",
            "  inflating: mirflicr_small/im10201.jpg  \n",
            "  inflating: __MACOSX/mirflicr_small/._im10201.jpg  \n",
            "  inflating: mirflicr_small/im18113.jpg  \n",
            "  inflating: __MACOSX/mirflicr_small/._im18113.jpg  \n",
            "  inflating: mirflicr_small/im24952.jpg  \n",
            "  inflating: __MACOSX/mirflicr_small/._im24952.jpg  \n",
            "  inflating: mirflicr_small/im4842.jpg  \n",
            "  inflating: __MACOSX/mirflicr_small/._im4842.jpg  \n",
            "  inflating: mirflicr_small/im3691.jpg  \n",
            "  inflating: __MACOSX/mirflicr_small/._im3691.jpg  \n",
            "  inflating: mirflicr_small/im17168.jpg  \n",
            "  inflating: __MACOSX/mirflicr_small/._im17168.jpg  \n",
            "  inflating: mirflicr_small/im12762.jpg  \n",
            "  inflating: __MACOSX/mirflicr_small/._im12762.jpg  \n",
            "  inflating: mirflicr_small/im4129.jpg  \n",
            "  inflating: __MACOSX/mirflicr_small/._im4129.jpg  \n",
            "  inflating: mirflicr_small/im21425.jpg  \n",
            "  inflating: __MACOSX/mirflicr_small/._im21425.jpg  \n",
            "  inflating: mirflicr_small/im18065.jpg  \n",
            "  inflating: __MACOSX/mirflicr_small/._im18065.jpg  \n",
            "  inflating: mirflicr_small/im7150.jpg  \n",
            "  inflating: __MACOSX/mirflicr_small/._im7150.jpg  \n",
            "  inflating: mirflicr_small/im13044.jpg  \n",
            "  inflating: __MACOSX/mirflicr_small/._im13044.jpg  \n",
            "  inflating: mirflicr_small/im21948.jpg  \n",
            "  inflating: __MACOSX/mirflicr_small/._im21948.jpg  \n",
            "  inflating: mirflicr_small/im7971.jpg  \n",
            "  inflating: __MACOSX/mirflicr_small/._im7971.jpg  \n",
            "  inflating: mirflicr_small/im16458.jpg  \n",
            "  inflating: __MACOSX/mirflicr_small/._im16458.jpg  \n",
            "  inflating: mirflicr_small/im15192.jpg  \n",
            "  inflating: __MACOSX/mirflicr_small/._im15192.jpg  \n",
            "  inflating: mirflicr_small/im15805.jpg  \n",
            "  inflating: __MACOSX/mirflicr_small/._im15805.jpg  \n",
            "  inflating: mirflicr_small/im15193.jpg  \n",
            "  inflating: __MACOSX/mirflicr_small/._im15193.jpg  \n",
            "  inflating: mirflicr_small/im9593.jpg  \n",
            "  inflating: __MACOSX/mirflicr_small/._im9593.jpg  \n",
            "  inflating: mirflicr_small/im20855.jpg  \n",
            "  inflating: __MACOSX/mirflicr_small/._im20855.jpg  \n",
            "  inflating: mirflicr_small/im20302.jpg  \n",
            "  inflating: __MACOSX/mirflicr_small/._im20302.jpg  \n",
            "  inflating: mirflicr_small/im6461.jpg  \n",
            "  inflating: __MACOSX/mirflicr_small/._im6461.jpg  \n",
            "  inflating: mirflicr_small/im3243.jpg  \n",
            "  inflating: __MACOSX/mirflicr_small/._im3243.jpg  \n",
            "  inflating: mirflicr_small/im21746.jpg  \n",
            "  inflating: __MACOSX/mirflicr_small/._im21746.jpg  \n",
            "  inflating: mirflicr_small/im6273.jpg  \n",
            "  inflating: __MACOSX/mirflicr_small/._im6273.jpg  \n",
            "  inflating: mirflicr_small/im18919.jpg  \n",
            "  inflating: __MACOSX/mirflicr_small/._im18919.jpg  \n",
            "  inflating: mirflicr_small/im5791.jpg  \n",
            "  inflating: __MACOSX/mirflicr_small/._im5791.jpg  \n",
            "  inflating: mirflicr_small/im7353.jpg  \n",
            "  inflating: __MACOSX/mirflicr_small/._im7353.jpg  \n",
            "  inflating: mirflicr_small/im14479.jpg  \n",
            "  inflating: __MACOSX/mirflicr_small/._im14479.jpg  \n",
            "  inflating: mirflicr_small/im6901.jpg  \n",
            "  inflating: __MACOSX/mirflicr_small/._im6901.jpg  \n",
            "  inflating: mirflicr_small/im519.jpg  \n",
            "  inflating: __MACOSX/mirflicr_small/._im519.jpg  \n",
            "  inflating: mirflicr_small/im1713.jpg  \n",
            "  inflating: __MACOSX/mirflicr_small/._im1713.jpg  \n",
            "  inflating: mirflicr_small/im21367.jpg  \n",
            "  inflating: __MACOSX/mirflicr_small/._im21367.jpg  \n",
            "  inflating: mirflicr_small/im2568.jpg  \n",
            "  inflating: __MACOSX/mirflicr_small/._im2568.jpg  \n",
            "  inflating: mirflicr_small/im10353.jpg  \n",
            "  inflating: __MACOSX/mirflicr_small/._im10353.jpg  \n",
            "  inflating: mirflicr_small/im9617.jpg  \n",
            "  inflating: __MACOSX/mirflicr_small/._im9617.jpg  \n",
            "  inflating: mirflicr_small/im10390.jpg  \n",
            "  inflating: __MACOSX/mirflicr_small/._im10390.jpg  \n",
            "  inflating: mirflicr_small/im23014.jpg  \n",
            "  inflating: __MACOSX/mirflicr_small/._im23014.jpg  \n",
            "  inflating: mirflicr_small/im2193.jpg  \n",
            "  inflating: __MACOSX/mirflicr_small/._im2193.jpg  \n",
            "  inflating: mirflicr_small/im2839.jpg  \n",
            "  inflating: __MACOSX/mirflicr_small/._im2839.jpg  \n",
            "  inflating: mirflicr_small/im7799.jpg  \n",
            "  inflating: __MACOSX/mirflicr_small/._im7799.jpg  \n",
            "  inflating: mirflicr_small/im5830.jpg  \n",
            "  inflating: __MACOSX/mirflicr_small/._im5830.jpg  \n",
            "  inflating: mirflicr_small/im22524.jpg  \n",
            "  inflating: __MACOSX/mirflicr_small/._im22524.jpg  \n",
            "  inflating: mirflicr_small/im13921.jpg  \n",
            "  inflating: __MACOSX/mirflicr_small/._im13921.jpg  \n",
            "  inflating: mirflicr_small/im24633.jpg  \n",
            "  inflating: __MACOSX/mirflicr_small/._im24633.jpg  \n",
            "  inflating: mirflicr_small/im9777.jpg  \n",
            "  inflating: __MACOSX/mirflicr_small/._im9777.jpg  \n",
            "  inflating: mirflicr_small/im1303.jpg  \n",
            "  inflating: __MACOSX/mirflicr_small/._im1303.jpg  \n",
            "  inflating: mirflicr_small/im11878.jpg  \n",
            "  inflating: __MACOSX/mirflicr_small/._im11878.jpg  \n",
            "  inflating: mirflicr_small/im21763.jpg  \n",
            "  inflating: __MACOSX/mirflicr_small/._im21763.jpg  \n",
            "  inflating: mirflicr_small/im17789.jpg  \n",
            "  inflating: __MACOSX/mirflicr_small/._im17789.jpg  \n",
            "  inflating: mirflicr_small/im4737.jpg  \n",
            "  inflating: __MACOSX/mirflicr_small/._im4737.jpg  \n",
            "  inflating: mirflicr_small/im12196.jpg  \n",
            "  inflating: __MACOSX/mirflicr_small/._im12196.jpg  \n",
            "  inflating: mirflicr_small/im6653.jpg  \n",
            "  inflating: __MACOSX/mirflicr_small/._im6653.jpg  \n",
            "  inflating: mirflicr_small/im24356.jpg  \n",
            "  inflating: __MACOSX/mirflicr_small/._im24356.jpg  \n",
            "  inflating: mirflicr_small/im11306.jpg  \n",
            "  inflating: __MACOSX/mirflicr_small/._im11306.jpg  \n",
            "  inflating: mirflicr_small/im19772.jpg  \n",
            "  inflating: __MACOSX/mirflicr_small/._im19772.jpg  \n",
            "  inflating: mirflicr_small/im8454.jpg  \n",
            "  inflating: __MACOSX/mirflicr_small/._im8454.jpg  \n",
            "  inflating: mirflicr_small/im11879.jpg  \n",
            "  inflating: __MACOSX/mirflicr_small/._im11879.jpg  \n",
            "  inflating: mirflicr_small/im5158.jpg  \n",
            "  inflating: __MACOSX/mirflicr_small/._im5158.jpg  \n",
            "  inflating: mirflicr_small/im5819.jpg  \n",
            "  inflating: __MACOSX/mirflicr_small/._im5819.jpg  \n",
            "  inflating: mirflicr_small/im19389.jpg  \n",
            "  inflating: __MACOSX/mirflicr_small/._im19389.jpg  \n",
            "  inflating: mirflicr_small/im8246.jpg  \n",
            "  inflating: __MACOSX/mirflicr_small/._im8246.jpg  \n",
            "  inflating: mirflicr_small/im4468.jpg  \n",
            "  inflating: __MACOSX/mirflicr_small/._im4468.jpg  \n",
            "  inflating: mirflicr_small/im15216.jpg  \n",
            "  inflating: __MACOSX/mirflicr_small/._im15216.jpg  \n",
            "  inflating: mirflicr_small/im11070.jpg  \n",
            "  inflating: __MACOSX/mirflicr_small/._im11070.jpg  \n",
            "  inflating: mirflicr_small/im9831.jpg  \n",
            "  inflating: __MACOSX/mirflicr_small/._im9831.jpg  \n",
            "  inflating: mirflicr_small/im21414.jpg  \n",
            "  inflating: __MACOSX/mirflicr_small/._im21414.jpg  \n",
            "  inflating: mirflicr_small/im23203.jpg  \n",
            "  inflating: __MACOSX/mirflicr_small/._im23203.jpg  \n",
            "  inflating: mirflicr_small/im8736.jpg  \n",
            "  inflating: __MACOSX/mirflicr_small/._im8736.jpg  \n",
            "  inflating: mirflicr_small/im242.jpg  \n",
            "  inflating: __MACOSX/mirflicr_small/._im242.jpg  \n",
            "  inflating: mirflicr_small/im15766.jpg  \n",
            "  inflating: __MACOSX/mirflicr_small/._im15766.jpg  \n",
            "  inflating: mirflicr_small/im3688.jpg  \n",
            "  inflating: __MACOSX/mirflicr_small/._im3688.jpg  \n",
            "  inflating: mirflicr_small/im268.jpg  \n",
            "  inflating: __MACOSX/mirflicr_small/._im268.jpg  \n",
            "  inflating: mirflicr_small/im3107.jpg  \n",
            "  inflating: __MACOSX/mirflicr_small/._im3107.jpg  \n",
            "  inflating: mirflicr_small/im16053.jpg  \n",
            "  inflating: __MACOSX/mirflicr_small/._im16053.jpg  \n",
            "  inflating: mirflicr_small/im17365.jpg  \n",
            "  inflating: __MACOSX/mirflicr_small/._im17365.jpg  \n",
            "  inflating: mirflicr_small/im18042.jpg  \n",
            "  inflating: __MACOSX/mirflicr_small/._im18042.jpg  \n",
            "  inflating: mirflicr_small/im10378.jpg  \n",
            "  inflating: __MACOSX/mirflicr_small/._im10378.jpg  \n",
            "  inflating: mirflicr_small/im21628.jpg  \n",
            "  inflating: __MACOSX/mirflicr_small/._im21628.jpg  \n",
            "  inflating: mirflicr_small/im24181.jpg  \n",
            "  inflating: __MACOSX/mirflicr_small/._im24181.jpg  \n",
            "  inflating: mirflicr_small/im2806.jpg  \n",
            "  inflating: __MACOSX/mirflicr_small/._im2806.jpg  \n",
            "  inflating: mirflicr_small/im136.jpg  \n",
            "  inflating: __MACOSX/mirflicr_small/._im136.jpg  \n",
            "  inflating: mirflicr_small/im9984.jpg  \n",
            "  inflating: __MACOSX/mirflicr_small/._im9984.jpg  \n",
            "  inflating: mirflicr_small/im6309.jpg  \n",
            "  inflating: __MACOSX/mirflicr_small/._im6309.jpg  \n",
            "  inflating: mirflicr_small/im14240.jpg  \n",
            "  inflating: __MACOSX/mirflicr_small/._im14240.jpg  \n",
            "  inflating: mirflicr_small/im19758.jpg  \n",
            "  inflating: __MACOSX/mirflicr_small/._im19758.jpg  \n",
            "  inflating: mirflicr_small/im20640.jpg  \n",
            "  inflating: __MACOSX/mirflicr_small/._im20640.jpg  \n",
            "  inflating: mirflicr_small/im2351.jpg  \n",
            "  inflating: __MACOSX/mirflicr_small/._im2351.jpg  \n",
            "  inflating: mirflicr_small/im7566.jpg  \n",
            "  inflating: __MACOSX/mirflicr_small/._im7566.jpg  \n",
            "  inflating: mirflicr_small/im12181.jpg  \n",
            "  inflating: __MACOSX/mirflicr_small/._im12181.jpg  \n",
            "  inflating: mirflicr_small/im22056.jpg  \n",
            "  inflating: __MACOSX/mirflicr_small/._im22056.jpg  \n",
            "  inflating: mirflicr_small/im20641.jpg  \n",
            "  inflating: __MACOSX/mirflicr_small/._im20641.jpg  \n",
            "  inflating: mirflicr_small/im13506.jpg  \n",
            "  inflating: __MACOSX/mirflicr_small/._im13506.jpg  \n",
            "  inflating: mirflicr_small/im8696.jpg  \n",
            "  inflating: __MACOSX/mirflicr_small/._im8696.jpg  \n",
            "  inflating: mirflicr_small/im6863.jpg  \n",
            "  inflating: __MACOSX/mirflicr_small/._im6863.jpg  \n",
            "  inflating: mirflicr_small/im16324.jpg  \n",
            "  inflating: __MACOSX/mirflicr_small/._im16324.jpg  \n",
            "  inflating: mirflicr_small/im7764.jpg  \n",
            "  inflating: __MACOSX/mirflicr_small/._im7764.jpg  \n",
            "  inflating: mirflicr_small/im18876.jpg  \n",
            "  inflating: __MACOSX/mirflicr_small/._im18876.jpg  \n",
            "  inflating: mirflicr_small/im6320.jpg  \n",
            "  inflating: __MACOSX/mirflicr_small/._im6320.jpg  \n",
            "  inflating: mirflicr_small/im1275.jpg  \n",
            "  inflating: __MACOSX/mirflicr_small/._im1275.jpg  \n",
            "  inflating: mirflicr_small/im7638.jpg  \n",
            "  inflating: __MACOSX/mirflicr_small/._im7638.jpg  \n",
            "  inflating: mirflicr_small/im9615.jpg  \n",
            "  inflating: __MACOSX/mirflicr_small/._im9615.jpg  \n",
            "  inflating: mirflicr_small/im15567.jpg  \n",
            "  inflating: __MACOSX/mirflicr_small/._im15567.jpg  \n",
            "  inflating: mirflicr_small/im18731.jpg  \n",
            "  inflating: __MACOSX/mirflicr_small/._im18731.jpg  \n",
            "  inflating: mirflicr_small/im14123.jpg  \n",
            "  inflating: __MACOSX/mirflicr_small/._im14123.jpg  \n",
            "  inflating: mirflicr_small/im6297.jpg  \n",
            "  inflating: __MACOSX/mirflicr_small/._im6297.jpg  \n",
            "  inflating: mirflicr_small/im4655.jpg  \n",
            "  inflating: __MACOSX/mirflicr_small/._im4655.jpg  \n",
            "  inflating: mirflicr_small/im3847.jpg  \n",
            "  inflating: __MACOSX/mirflicr_small/._im3847.jpg  \n",
            "  inflating: mirflicr_small/im12998.jpg  \n",
            "  inflating: __MACOSX/mirflicr_small/._im12998.jpg  \n",
            "  inflating: mirflicr_small/im8057.jpg  \n",
            "  inflating: __MACOSX/mirflicr_small/._im8057.jpg  \n",
            "  inflating: mirflicr_small/im17189.jpg  \n",
            "  inflating: __MACOSX/mirflicr_small/._im17189.jpg  \n",
            "  inflating: mirflicr_small/im4490.jpg  \n",
            "  inflating: __MACOSX/mirflicr_small/._im4490.jpg  \n",
            "  inflating: mirflicr_small/im10209.jpg  \n",
            "  inflating: __MACOSX/mirflicr_small/._im10209.jpg  \n",
            "  inflating: mirflicr_small/im24184.jpg  \n",
            "  inflating: __MACOSX/mirflicr_small/._im24184.jpg  \n",
            "  inflating: mirflicr_small/im16888.jpg  \n",
            "  inflating: __MACOSX/mirflicr_small/._im16888.jpg  \n",
            "  inflating: mirflicr_small/im18669.jpg  \n",
            "  inflating: __MACOSX/mirflicr_small/._im18669.jpg  \n",
            "  inflating: mirflicr_small/im6324.jpg  \n",
            "  inflating: __MACOSX/mirflicr_small/._im6324.jpg  \n",
            "  inflating: mirflicr_small/im17002.jpg  \n",
            "  inflating: __MACOSX/mirflicr_small/._im17002.jpg  \n",
            "  inflating: mirflicr_small/im23364.jpg  \n",
            "  inflating: __MACOSX/mirflicr_small/._im23364.jpg  \n",
            "  inflating: mirflicr_small/im22734.jpg  \n",
            "  inflating: __MACOSX/mirflicr_small/._im22734.jpg  \n",
            "  inflating: mirflicr_small/im8679.jpg  \n",
            "  inflating: __MACOSX/mirflicr_small/._im8679.jpg  \n",
            "  inflating: mirflicr_small/im330.jpg  \n",
            "  inflating: __MACOSX/mirflicr_small/._im330.jpg  \n",
            "  inflating: mirflicr_small/im6457.jpg  \n",
            "  inflating: __MACOSX/mirflicr_small/._im6457.jpg  \n",
            "  inflating: mirflicr_small/im6494.jpg  \n",
            "  inflating: __MACOSX/mirflicr_small/._im6494.jpg  \n",
            "  inflating: mirflicr_small/im10546.jpg  \n",
            "  inflating: __MACOSX/mirflicr_small/._im10546.jpg  \n",
            "  inflating: mirflicr_small/im16651.jpg  \n",
            "  inflating: __MACOSX/mirflicr_small/._im16651.jpg  \n",
            "  inflating: mirflicr_small/im867.jpg  \n",
            "  inflating: __MACOSX/mirflicr_small/._im867.jpg  \n",
            "  inflating: mirflicr_small/im18085.jpg  \n",
            "  inflating: __MACOSX/mirflicr_small/._im18085.jpg  \n",
            "  inflating: mirflicr_small/im7173.jpg  \n",
            "  inflating: __MACOSX/mirflicr_small/._im7173.jpg  \n",
            "  inflating: mirflicr_small/im20283.jpg  \n",
            "  inflating: __MACOSX/mirflicr_small/._im20283.jpg  \n",
            "  inflating: mirflicr_small/im10181.jpg  \n",
            "  inflating: __MACOSX/mirflicr_small/._im10181.jpg  \n",
            "  inflating: mirflicr_small/im18534.jpg  \n",
            "  inflating: __MACOSX/mirflicr_small/._im18534.jpg  \n",
            "  inflating: mirflicr_small/im10140.jpg  \n",
            "  inflating: __MACOSX/mirflicr_small/._im10140.jpg  \n",
            "  inflating: mirflicr_small/im1716.jpg  \n",
            "  inflating: __MACOSX/mirflicr_small/._im1716.jpg  \n",
            "  inflating: mirflicr_small/im21404.jpg  \n",
            "  inflating: __MACOSX/mirflicr_small/._im21404.jpg  \n",
            "  inflating: mirflicr_small/im4120.jpg  \n",
            "  inflating: __MACOSX/mirflicr_small/._im4120.jpg  \n",
            "  inflating: mirflicr_small/im24781.jpg  \n",
            "  inflating: __MACOSX/mirflicr_small/._im24781.jpg  \n",
            "  inflating: mirflicr_small/im5766.jpg  \n",
            "  inflating: __MACOSX/mirflicr_small/._im5766.jpg  \n",
            "  inflating: mirflicr_small/im5821.jpg  \n",
            "  inflating: __MACOSX/mirflicr_small/._im5821.jpg  \n",
            "  inflating: mirflicr_small/im3288.jpg  \n",
            "  inflating: __MACOSX/mirflicr_small/._im3288.jpg  \n",
            "  inflating: mirflicr_small/im2169.jpg  \n",
            "  inflating: __MACOSX/mirflicr_small/._im2169.jpg  \n",
            "  inflating: mirflicr_small/im5612.jpg  \n",
            "  inflating: __MACOSX/mirflicr_small/._im5612.jpg  \n",
            "  inflating: mirflicr_small/im7039.jpg  \n",
            "  inflating: __MACOSX/mirflicr_small/._im7039.jpg  \n",
            "  inflating: mirflicr_small/im8691.jpg  \n",
            "  inflating: __MACOSX/mirflicr_small/._im8691.jpg  \n",
            "  inflating: mirflicr_small/im17.jpg  \n",
            "  inflating: __MACOSX/mirflicr_small/._im17.jpg  \n",
            "  inflating: mirflicr_small/im20849.jpg  \n",
            "  inflating: __MACOSX/mirflicr_small/._im20849.jpg  \n",
            "  inflating: mirflicr_small/im3713.jpg  \n",
            "  inflating: __MACOSX/mirflicr_small/._im3713.jpg  \n",
            "  inflating: mirflicr_small/im17968.jpg  \n",
            "  inflating: __MACOSX/mirflicr_small/._im17968.jpg  \n",
            "  inflating: mirflicr_small/im21565.jpg  \n",
            "  inflating: __MACOSX/mirflicr_small/._im21565.jpg  \n",
            "  inflating: mirflicr_small/im23414.jpg  \n",
            "  inflating: __MACOSX/mirflicr_small/._im23414.jpg  \n",
            "  inflating: mirflicr_small/im19011.jpg  \n",
            "  inflating: __MACOSX/mirflicr_small/._im19011.jpg  \n",
            "  inflating: mirflicr_small/im16478.jpg  \n",
            "  inflating: __MACOSX/mirflicr_small/._im16478.jpg  \n",
            "  inflating: mirflicr_small/im23602.jpg  \n",
            "  inflating: __MACOSX/mirflicr_small/._im23602.jpg  \n",
            "  inflating: mirflicr_small/im2034.jpg  \n",
            "  inflating: __MACOSX/mirflicr_small/._im2034.jpg  \n",
            "  inflating: mirflicr_small/im4323.jpg  \n",
            "  inflating: __MACOSX/mirflicr_small/._im4323.jpg  \n",
            "  inflating: mirflicr_small/im16083.jpg  \n",
            "  inflating: __MACOSX/mirflicr_small/._im16083.jpg  \n",
            "  inflating: mirflicr_small/im16097.jpg  \n",
            "  inflating: __MACOSX/mirflicr_small/._im16097.jpg  \n",
            "  inflating: mirflicr_small/im9149.jpg  \n",
            "  inflating: __MACOSX/mirflicr_small/._im9149.jpg  \n",
            "  inflating: mirflicr_small/im12232.jpg  \n",
            "  inflating: __MACOSX/mirflicr_small/._im12232.jpg  \n",
            "  inflating: mirflicr_small/im15788.jpg  \n",
            "  inflating: __MACOSX/mirflicr_small/._im15788.jpg  \n",
            "  inflating: mirflicr_small/im2236.jpg  \n",
            "  inflating: __MACOSX/mirflicr_small/._im2236.jpg  \n",
            "  inflating: mirflicr_small/im5559.jpg  \n",
            "  inflating: __MACOSX/mirflicr_small/._im5559.jpg  \n",
            "  inflating: mirflicr_small/im16518.jpg  \n",
            "  inflating: __MACOSX/mirflicr_small/._im16518.jpg  \n",
            "  inflating: mirflicr_small/im4860.jpg  \n",
            "  inflating: __MACOSX/mirflicr_small/._im4860.jpg  \n",
            "  inflating: mirflicr_small/im11263.jpg  \n",
            "  inflating: __MACOSX/mirflicr_small/._im11263.jpg  \n",
            "  inflating: mirflicr_small/im10668.jpg  \n",
            "  inflating: __MACOSX/mirflicr_small/._im10668.jpg  \n",
            "  inflating: mirflicr_small/im9462.jpg  \n",
            "  inflating: __MACOSX/mirflicr_small/._im9462.jpg  \n",
            "  inflating: mirflicr_small/im5502.jpg  \n",
            "  inflating: __MACOSX/mirflicr_small/._im5502.jpg  \n",
            "  inflating: mirflicr_small/im12255.jpg  \n",
            "  inflating: __MACOSX/mirflicr_small/._im12255.jpg  \n",
            "  inflating: mirflicr_small/im13639.jpg  \n",
            "  inflating: __MACOSX/mirflicr_small/._im13639.jpg  \n",
            "  inflating: mirflicr_small/im6221.jpg  \n",
            "  inflating: __MACOSX/mirflicr_small/._im6221.jpg  \n",
            "  inflating: mirflicr_small/im9660.jpg  \n",
            "  inflating: __MACOSX/mirflicr_small/._im9660.jpg  \n",
            "  inflating: mirflicr_small/im778.jpg  \n",
            "  inflating: __MACOSX/mirflicr_small/._im778.jpg  \n",
            "  inflating: mirflicr_small/im8556.jpg  \n",
            "  inflating: __MACOSX/mirflicr_small/._im8556.jpg  \n",
            "  inflating: mirflicr_small/im21106.jpg  \n",
            "  inflating: __MACOSX/mirflicr_small/._im21106.jpg  \n",
            "  inflating: mirflicr_small/im3417.jpg  \n",
            "  inflating: __MACOSX/mirflicr_small/._im3417.jpg  \n",
            "  inflating: mirflicr_small/im16147.jpg  \n",
            "  inflating: __MACOSX/mirflicr_small/._im16147.jpg  \n",
            "  inflating: mirflicr_small/im22584.jpg  \n",
            "  inflating: __MACOSX/mirflicr_small/._im22584.jpg  \n",
            "  inflating: mirflicr_small/im22590.jpg  \n",
            "  inflating: __MACOSX/mirflicr_small/._im22590.jpg  \n",
            "  inflating: mirflicr_small/im16153.jpg  \n",
            "  inflating: __MACOSX/mirflicr_small/._im16153.jpg  \n",
            "  inflating: mirflicr_small/im817.jpg  \n",
            "  inflating: __MACOSX/mirflicr_small/._im817.jpg  \n",
            "  inflating: mirflicr_small/im4224.jpg  \n",
            "  inflating: __MACOSX/mirflicr_small/._im4224.jpg  \n",
            "  inflating: mirflicr_small/im12484.jpg  \n",
            "  inflating: __MACOSX/mirflicr_small/._im12484.jpg  \n",
            "  inflating: mirflicr_small/im19710.jpg  \n",
            "  inflating: __MACOSX/mirflicr_small/._im19710.jpg  \n",
            "  inflating: mirflicr_small/im24446.jpg  \n",
            "  inflating: __MACOSX/mirflicr_small/._im24446.jpg  \n",
            "  inflating: mirflicr_small/im427.jpg  \n",
            "  inflating: __MACOSX/mirflicr_small/._im427.jpg  \n",
            "  inflating: mirflicr_small/im11417.jpg  \n",
            "  inflating: __MACOSX/mirflicr_small/._im11417.jpg  \n",
            "  inflating: mirflicr_small/im23102.jpg  \n",
            "  inflating: __MACOSX/mirflicr_small/._im23102.jpg  \n",
            "  inflating: mirflicr_small/im9073.jpg  \n",
            "  inflating: __MACOSX/mirflicr_small/._im9073.jpg  \n",
            "  inflating: mirflicr_small/im11775.jpg  \n",
            "  inflating: __MACOSX/mirflicr_small/._im11775.jpg  \n",
            "  inflating: mirflicr_small/im8741.jpg  \n",
            "  inflating: __MACOSX/mirflicr_small/._im8741.jpg  \n",
            "  inflating: mirflicr_small/im15077.jpg  \n",
            "  inflating: __MACOSX/mirflicr_small/._im15077.jpg  \n",
            "  inflating: mirflicr_small/im16226.jpg  \n",
            "  inflating: __MACOSX/mirflicr_small/._im16226.jpg  \n",
            "  inflating: mirflicr_small/im17110.jpg  \n",
            "  inflating: __MACOSX/mirflicr_small/._im17110.jpg  \n",
            "  inflating: mirflicr_small/im4810.jpg  \n",
            "  inflating: __MACOSX/mirflicr_small/._im4810.jpg  \n",
            "  inflating: mirflicr_small/im17845.jpg  \n",
            "  inflating: __MACOSX/mirflicr_small/._im17845.jpg  \n",
            "  inflating: mirflicr_small/im20555.jpg  \n",
            "  inflating: __MACOSX/mirflicr_small/._im20555.jpg  \n",
            "  inflating: mirflicr_small/im24041.jpg  \n",
            "  inflating: __MACOSX/mirflicr_small/._im24041.jpg  \n",
            "  inflating: mirflicr_small/im22418.jpg  \n",
            "  inflating: __MACOSX/mirflicr_small/._im22418.jpg  \n",
            "  inflating: mirflicr_small/im3366.jpg  \n",
            "  inflating: __MACOSX/mirflicr_small/._im3366.jpg  \n",
            "  inflating: mirflicr_small/im15303.jpg  \n",
            "  inflating: __MACOSX/mirflicr_small/._im15303.jpg  \n",
            "  inflating: mirflicr_small/im21071.jpg  \n",
            "  inflating: __MACOSX/mirflicr_small/._im21071.jpg  \n",
            "  inflating: mirflicr_small/im380.jpg  \n",
            "  inflating: __MACOSX/mirflicr_small/._im380.jpg  \n",
            "  inflating: mirflicr_small/im10086.jpg  \n",
            "  inflating: __MACOSX/mirflicr_small/._im10086.jpg  \n",
            "  inflating: mirflicr_small/im16391.jpg  \n",
            "  inflating: __MACOSX/mirflicr_small/._im16391.jpg  \n",
            "  inflating: mirflicr_small/im5306.jpg  \n",
            "  inflating: __MACOSX/mirflicr_small/._im5306.jpg  \n",
            "  inflating: mirflicr_small/im1174.jpg  \n",
            "  inflating: __MACOSX/mirflicr_small/._im1174.jpg  \n",
            "  inflating: mirflicr_small/im23317.jpg  \n",
            "  inflating: __MACOSX/mirflicr_small/._im23317.jpg  \n",
            "  inflating: mirflicr_small/im15855.jpg  \n",
            "  inflating: __MACOSX/mirflicr_small/._im15855.jpg  \n",
            "  inflating: mirflicr_small/im15896.jpg  \n",
            "  inflating: __MACOSX/mirflicr_small/._im15896.jpg  \n",
            "  inflating: mirflicr_small/im13968.jpg  \n",
            "  inflating: __MACOSX/mirflicr_small/._im13968.jpg  \n",
            "  inflating: mirflicr_small/im23698.jpg  \n",
            "  inflating: __MACOSX/mirflicr_small/._im23698.jpg  \n",
            "  inflating: mirflicr_small/im13983.jpg  \n",
            "  inflating: __MACOSX/mirflicr_small/._im13983.jpg  \n",
            "  inflating: mirflicr_small/im16970.jpg  \n",
            "  inflating: __MACOSX/mirflicr_small/._im16970.jpg  \n",
            "  inflating: mirflicr_small/im23713.jpg  \n",
            "  inflating: __MACOSX/mirflicr_small/._im23713.jpg  \n",
            "  inflating: mirflicr_small/im5702.jpg  \n",
            "  inflating: __MACOSX/mirflicr_small/._im5702.jpg  \n",
            "  inflating: mirflicr_small/im6592.jpg  \n",
            "  inflating: __MACOSX/mirflicr_small/._im6592.jpg  \n",
            "  inflating: mirflicr_small/im24518.jpg  \n",
            "  inflating: __MACOSX/mirflicr_small/._im24518.jpg  \n",
            "  inflating: mirflicr_small/im12069.jpg  \n",
            "  inflating: __MACOSX/mirflicr_small/._im12069.jpg  \n",
            "  inflating: mirflicr_small/im13405.jpg  \n",
            "  inflating: __MACOSX/mirflicr_small/._im13405.jpg  \n",
            "  inflating: mirflicr_small/im15712.jpg  \n",
            "  inflating: __MACOSX/mirflicr_small/._im15712.jpg  \n",
            "  inflating: mirflicr_small/im16223.jpg  \n",
            "  inflating: __MACOSX/mirflicr_small/._im16223.jpg  \n",
            "  inflating: mirflicr_small/im597.jpg  \n",
            "  inflating: __MACOSX/mirflicr_small/._im597.jpg  \n",
            "  inflating: mirflicr_small/im22838.jpg  \n",
            "  inflating: __MACOSX/mirflicr_small/._im22838.jpg  \n",
            "  inflating: mirflicr_small/im16551.jpg  \n",
            "  inflating: __MACOSX/mirflicr_small/._im16551.jpg  \n",
            "  inflating: mirflicr_small/im15931.jpg  \n",
            "  inflating: __MACOSX/mirflicr_small/._im15931.jpg  \n",
            "  inflating: mirflicr_small/im10691.jpg  \n",
            "  inflating: __MACOSX/mirflicr_small/._im10691.jpg  \n",
            "  inflating: mirflicr_small/im20034.jpg  \n",
            "  inflating: __MACOSX/mirflicr_small/._im20034.jpg  \n",
            "  inflating: mirflicr_small/im21458.jpg  \n",
            "  inflating: __MACOSX/mirflicr_small/._im21458.jpg  \n",
            "  inflating: mirflicr_small/im16747.jpg  \n",
            "  inflating: __MACOSX/mirflicr_small/._im16747.jpg  \n",
            "  inflating: mirflicr_small/im20593.jpg  \n",
            "  inflating: __MACOSX/mirflicr_small/._im20593.jpg  \n",
            "  inflating: mirflicr_small/im16960.jpg  \n",
            "  inflating: __MACOSX/mirflicr_small/._im16960.jpg  \n",
            "  inflating: mirflicr_small/im16169.jpg  \n",
            "  inflating: __MACOSX/mirflicr_small/._im16169.jpg  \n",
            "  inflating: mirflicr_small/im6384.jpg  \n",
            "  inflating: __MACOSX/mirflicr_small/._im6384.jpg  \n",
            "  inflating: mirflicr_small/im5100.jpg  \n",
            "  inflating: __MACOSX/mirflicr_small/._im5100.jpg  \n",
            "  inflating: mirflicr_small/im20424.jpg  \n",
            "  inflating: __MACOSX/mirflicr_small/._im20424.jpg  \n",
            "  inflating: mirflicr_small/im8183.jpg  \n",
            "  inflating: __MACOSX/mirflicr_small/._im8183.jpg  \n",
            "  inflating: mirflicr_small/im10726.jpg  \n",
            "  inflating: __MACOSX/mirflicr_small/._im10726.jpg  \n",
            "  inflating: mirflicr_small/im3767.jpg  \n",
            "  inflating: __MACOSX/mirflicr_small/._im3767.jpg  \n",
            "  inflating: mirflicr_small/im3766.jpg  \n",
            "  inflating: __MACOSX/mirflicr_small/._im3766.jpg  \n",
            "  inflating: mirflicr_small/im22781.jpg  \n",
            "  inflating: __MACOSX/mirflicr_small/._im22781.jpg  \n",
            "  inflating: mirflicr_small/im13574.jpg  \n",
            "  inflating: __MACOSX/mirflicr_small/._im13574.jpg  \n",
            "  inflating: mirflicr_small/im7070.jpg  \n",
            "  inflating: __MACOSX/mirflicr_small/._im7070.jpg  \n",
            "  inflating: mirflicr_small/im14031.jpg  \n",
            "  inflating: __MACOSX/mirflicr_small/._im14031.jpg  \n",
            "  inflating: mirflicr_small/im810.jpg  \n",
            "  inflating: __MACOSX/mirflicr_small/._im810.jpg  \n",
            "  inflating: mirflicr_small/im16949.jpg  \n",
            "  inflating: __MACOSX/mirflicr_small/._im16949.jpg  \n",
            "  inflating: mirflicr_small/im24051.jpg  \n",
            "  inflating: __MACOSX/mirflicr_small/._im24051.jpg  \n",
            "  inflating: mirflicr_small/im8579.jpg  \n",
            "  inflating: __MACOSX/mirflicr_small/._im8579.jpg  \n",
            "  inflating: mirflicr_small/im22408.jpg  \n",
            "  inflating: __MACOSX/mirflicr_small/._im22408.jpg  \n",
            "  inflating: mirflicr_small/im21698.jpg  \n",
            "  inflating: __MACOSX/mirflicr_small/._im21698.jpg  \n",
            "  inflating: mirflicr_small/im21840.jpg  \n",
            "  inflating: __MACOSX/mirflicr_small/._im21840.jpg  \n",
            "  inflating: mirflicr_small/im24086.jpg  \n",
            "  inflating: __MACOSX/mirflicr_small/._im24086.jpg  \n",
            "  inflating: mirflicr_small/im5920.jpg  \n",
            "  inflating: __MACOSX/mirflicr_small/._im5920.jpg  \n",
            "  inflating: mirflicr_small/im19313.jpg  \n",
            "  inflating: __MACOSX/mirflicr_small/._im19313.jpg  \n",
            "  inflating: mirflicr_small/im10479.jpg  \n",
            "  inflating: __MACOSX/mirflicr_small/._im10479.jpg  \n",
            "  inflating: mirflicr_small/im15515.jpg  \n",
            "  inflating: __MACOSX/mirflicr_small/._im15515.jpg  \n",
            "  inflating: mirflicr_small/im12736.jpg  \n",
            "  inflating: __MACOSX/mirflicr_small/._im12736.jpg  \n",
            "  inflating: mirflicr_small/im17100.jpg  \n",
            "  inflating: __MACOSX/mirflicr_small/._im17100.jpg  \n",
            "  inflating: mirflicr_small/im18233.jpg  \n",
            "  inflating: __MACOSX/mirflicr_small/._im18233.jpg  \n",
            "  inflating: mirflicr_small/im22608.jpg  \n",
            "  inflating: __MACOSX/mirflicr_small/._im22608.jpg  \n",
            "  inflating: mirflicr_small/im2254.jpg  \n",
            "  inflating: __MACOSX/mirflicr_small/._im2254.jpg  \n",
            "  inflating: mirflicr_small/im16778.jpg  \n",
            "  inflating: __MACOSX/mirflicr_small/._im16778.jpg  \n",
            "  inflating: mirflicr_small/im23072.jpg  \n",
            "  inflating: __MACOSX/mirflicr_small/._im23072.jpg  \n",
            "  inflating: mirflicr_small/im7890.jpg  \n",
            "  inflating: __MACOSX/mirflicr_small/._im7890.jpg  \n",
            "  inflating: mirflicr_small/im13012.jpg  \n",
            "  inflating: __MACOSX/mirflicr_small/._im13012.jpg  \n",
            "  inflating: mirflicr_small/im19271.jpg  \n",
            "  inflating: __MACOSX/mirflicr_small/._im19271.jpg  \n",
            "  inflating: mirflicr_small/im2693.jpg  \n",
            "  inflating: __MACOSX/mirflicr_small/._im2693.jpg  \n",
            "  inflating: mirflicr_small/im5659.jpg  \n",
            "  inflating: __MACOSX/mirflicr_small/._im5659.jpg  \n",
            "  inflating: mirflicr_small/im6350.jpg  \n",
            "  inflating: __MACOSX/mirflicr_small/._im6350.jpg  \n",
            "  inflating: mirflicr_small/im11361.jpg  \n",
            "  inflating: __MACOSX/mirflicr_small/._im11361.jpg  \n",
            "  inflating: mirflicr_small/im8618.jpg  \n",
            "  inflating: __MACOSX/mirflicr_small/._im8618.jpg  \n",
            "  inflating: mirflicr_small/im6153.jpg  \n",
            "  inflating: __MACOSX/mirflicr_small/._im6153.jpg  \n",
            "  inflating: mirflicr_small/im19072.jpg  \n",
            "  inflating: __MACOSX/mirflicr_small/._im19072.jpg  \n",
            "  inflating: mirflicr_small/im14967.jpg  \n",
            "  inflating: __MACOSX/mirflicr_small/._im14967.jpg  \n",
            "  inflating: mirflicr_small/im20552.jpg  \n",
            "  inflating: __MACOSX/mirflicr_small/._im20552.jpg  \n",
            "  inflating: mirflicr_small/im23701.jpg  \n",
            "  inflating: __MACOSX/mirflicr_small/._im23701.jpg  \n",
            "  inflating: mirflicr_small/im18754.jpg  \n",
            "  inflating: __MACOSX/mirflicr_small/._im18754.jpg  \n",
            "  inflating: mirflicr_small/im230.jpg  \n",
            "  inflating: __MACOSX/mirflicr_small/._im230.jpg  \n",
            "  inflating: mirflicr_small/im4630.jpg  \n",
            "  inflating: __MACOSX/mirflicr_small/._im4630.jpg  \n",
            "  inflating: mirflicr_small/im1774.jpg  \n",
            "  inflating: __MACOSX/mirflicr_small/._im1774.jpg  \n",
            "  inflating: mirflicr_small/im4195.jpg  \n",
            "  inflating: __MACOSX/mirflicr_small/._im4195.jpg  \n",
            "  inflating: mirflicr_small/im10678.jpg  \n",
            "  inflating: __MACOSX/mirflicr_small/._im10678.jpg  \n"
          ]
        }
      ],
      "source": [
        "!unzip /content/mirflicr_small.zip"
      ]
    },
    {
      "cell_type": "code",
      "execution_count": null,
      "metadata": {
        "colab": {
          "base_uri": "https://localhost:8080/",
          "height": 250
        },
        "id": "qOQLbBHcwjOj",
        "outputId": "696176cd-e8ed-4488-8c23-aa46823babc1"
      },
      "outputs": [
        {
          "ename": "FileNotFoundError",
          "evalue": "ignored",
          "output_type": "error",
          "traceback": [
            "\u001b[0;31m---------------------------------------------------------------------------\u001b[0m",
            "\u001b[0;31mFileNotFoundError\u001b[0m                         Traceback (most recent call last)",
            "\u001b[0;32m<ipython-input-4-17cc8f6c90fc>\u001b[0m in \u001b[0;36m<cell line: 9>\u001b[0;34m()\u001b[0m\n\u001b[1;32m      7\u001b[0m \u001b[0;34m\u001b[0m\u001b[0m\n\u001b[1;32m      8\u001b[0m \u001b[0;31m# Rename the folder\u001b[0m\u001b[0;34m\u001b[0m\u001b[0;34m\u001b[0m\u001b[0m\n\u001b[0;32m----> 9\u001b[0;31m \u001b[0mos\u001b[0m\u001b[0;34m.\u001b[0m\u001b[0mrename\u001b[0m\u001b[0;34m(\u001b[0m\u001b[0msource_folder\u001b[0m\u001b[0;34m,\u001b[0m \u001b[0mos\u001b[0m\u001b[0;34m.\u001b[0m\u001b[0mpath\u001b[0m\u001b[0;34m.\u001b[0m\u001b[0mjoin\u001b[0m\u001b[0;34m(\u001b[0m\u001b[0mdestination_folder\u001b[0m\u001b[0;34m,\u001b[0m \u001b[0mnew_folder_name\u001b[0m\u001b[0;34m)\u001b[0m\u001b[0;34m)\u001b[0m\u001b[0;34m\u001b[0m\u001b[0;34m\u001b[0m\u001b[0m\n\u001b[0m\u001b[1;32m     10\u001b[0m \u001b[0;34m\u001b[0m\u001b[0m\n\u001b[1;32m     11\u001b[0m \u001b[0mprint\u001b[0m\u001b[0;34m(\u001b[0m\u001b[0;34mf\"Folder '{source_folder}' renamed to '{os.path.join(destination_folder, new_folder_name)}'.\"\u001b[0m\u001b[0;34m)\u001b[0m\u001b[0;34m\u001b[0m\u001b[0;34m\u001b[0m\u001b[0m\n",
            "\u001b[0;31mFileNotFoundError\u001b[0m: [Errno 2] No such file or directory: '/content/mirflicr_small' -> '/content/data/original_images'"
          ]
        }
      ],
      "source": [
        "import os\n",
        "\n",
        "source_folder = \"/content/mirflicr_small\"  # Replace with the path to the folder you want to rename\n",
        "new_folder_name = \"original_images\"  # Replace with the new name you want for the folder\n",
        "\n",
        "destination_folder = \"/content/data\"  # The destination folder named \"data\"\n",
        "\n",
        "# Rename the folder\n",
        "os.rename(source_folder, os.path.join(destination_folder, new_folder_name))\n",
        "\n",
        "print(f\"Folder '{source_folder}' renamed to '{os.path.join(destination_folder, new_folder_name)}'.\")\n"
      ]
    },
    {
      "cell_type": "code",
      "execution_count": null,
      "metadata": {
        "colab": {
          "base_uri": "https://localhost:8080/",
          "height": 35
        },
        "id": "W6BdFZfxy1qh",
        "outputId": "35b23d58-d0f5-4803-b159-e5ecc735bdd8"
      },
      "outputs": [
        {
          "data": {
            "application/vnd.google.colaboratory.intrinsic+json": {
              "type": "string"
            },
            "text/plain": [
              "'/content/data/original_images'"
            ]
          },
          "execution_count": 5,
          "metadata": {},
          "output_type": "execute_result"
        }
      ],
      "source": [
        "import os\n",
        "import shutil\n",
        "\n",
        "source_folder = \"/content\"  # Change this to the source folder path\n",
        "destination_parent_folder = \"/content/data\"  # Change this to the destination folder path\n",
        "\n",
        "if not os.path.exists(destination_parent_folder):\n",
        "    os.makedirs(destination_parent_folder)\n",
        "\n",
        "shutil.copytree('/content/original_images', os.path.join(destination_parent_folder, \"original_images\"))"
      ]
    },
    {
      "cell_type": "code",
      "execution_count": null,
      "metadata": {
        "id": "AJnCvK-XvwxF"
      },
      "outputs": [],
      "source": [
        "import cv2\n",
        "import numpy as np\n",
        "import os\n",
        "import matplotlib.pyplot as plt\n",
        "\n",
        "train_dir = \"/content/data\"\n",
        "\n",
        "for img in os.listdir( train_dir + \"/original_images\"):\n",
        "    img_array = cv2.imread(train_dir + \"/original_images/\" + img)\n",
        "    if img_array is not None:\n",
        "        img_array = cv2.resize(img_array, (128,128))\n",
        "        lr_img_array = cv2.resize(img_array,(32,32))\n",
        "        cv2.imwrite(train_dir+ \"/hr_images/\" + img, img_array)\n",
        "        cv2.imwrite(train_dir+ \"/lr_images/\"+ img, lr_img_array)"
      ]
    },
    {
      "cell_type": "code",
      "execution_count": null,
      "metadata": {
        "colab": {
          "background_save": true,
          "base_uri": "https://localhost:8080/",
          "height": 1000
        },
        "id": "HgosONBlZnAo",
        "outputId": "31740749-1fc5-460d-c475-47fc2b6f361a"
      },
      "outputs": [
        {
          "data": {
            "image/png": "[encoded data removed]",
            "text/plain": [
              "<Figure size 1200x600 with 2 Axes>"
            ]
          },
          "metadata": {},
          "output_type": "display_data"
        },
        {
          "name": "stdout",
          "output_type": "stream",
          "text": [
            "Model: \"model_8\"\n",
            "__________________________________________________________________________________________________\n",
            " Layer (type)                   Output Shape         Param #     Connected to                     \n",
            "==================================================================================================\n",
            " input_9 (InputLayer)           [(None, 32, 32, 3)]  0           []                               \n",
            "                                                                                                  \n",
            " conv2d_96 (Conv2D)             (None, 32, 32, 64)   15616       ['input_9[0][0]']                \n",
            "                                                                                                  \n",
            " p_re_lu_41 (PReLU)             (None, 32, 32, 64)   64          ['conv2d_96[0][0]']              \n",
            "                                                                                                  \n",
            " conv2d_97 (Conv2D)             (None, 32, 32, 64)   36928       ['p_re_lu_41[0][0]']             \n",
            "                                                                                                  \n",
            " batch_normalization_84 (BatchN  (None, 32, 32, 64)  256         ['conv2d_97[0][0]']              \n",
            " ormalization)                                                                                    \n",
            "                                                                                                  \n",
            " p_re_lu_42 (PReLU)             (None, 32, 32, 64)   64          ['batch_normalization_84[0][0]'] \n",
            "                                                                                                  \n",
            " conv2d_98 (Conv2D)             (None, 32, 32, 64)   36928       ['p_re_lu_42[0][0]']             \n",
            "                                                                                                  \n",
            " batch_normalization_85 (BatchN  (None, 32, 32, 64)  256         ['conv2d_98[0][0]']              \n",
            " ormalization)                                                                                    \n",
            "                                                                                                  \n",
            " add_36 (Add)                   (None, 32, 32, 64)   0           ['p_re_lu_41[0][0]',             \n",
            "                                                                  'batch_normalization_85[0][0]'] \n",
            "                                                                                                  \n",
            " conv2d_99 (Conv2D)             (None, 32, 32, 64)   36928       ['add_36[0][0]']                 \n",
            "                                                                                                  \n",
            " batch_normalization_86 (BatchN  (None, 32, 32, 64)  256         ['conv2d_99[0][0]']              \n",
            " ormalization)                                                                                    \n",
            "                                                                                                  \n",
            " p_re_lu_43 (PReLU)             (None, 32, 32, 64)   64          ['batch_normalization_86[0][0]'] \n",
            "                                                                                                  \n",
            " conv2d_100 (Conv2D)            (None, 32, 32, 64)   36928       ['p_re_lu_43[0][0]']             \n",
            "                                                                                                  \n",
            " batch_normalization_87 (BatchN  (None, 32, 32, 64)  256         ['conv2d_100[0][0]']             \n",
            " ormalization)                                                                                    \n",
            "                                                                                                  \n",
            " add_37 (Add)                   (None, 32, 32, 64)   0           ['add_36[0][0]',                 \n",
            "                                                                  'batch_normalization_87[0][0]'] \n",
            "                                                                                                  \n",
            " conv2d_101 (Conv2D)            (None, 32, 32, 64)   36928       ['add_37[0][0]']                 \n",
            "                                                                                                  \n",
            " batch_normalization_88 (BatchN  (None, 32, 32, 64)  256         ['conv2d_101[0][0]']             \n",
            " ormalization)                                                                                    \n",
            "                                                                                                  \n",
            " p_re_lu_44 (PReLU)             (None, 32, 32, 64)   64          ['batch_normalization_88[0][0]'] \n",
            "                                                                                                  \n",
            " conv2d_102 (Conv2D)            (None, 32, 32, 64)   36928       ['p_re_lu_44[0][0]']             \n",
            "                                                                                                  \n",
            " batch_normalization_89 (BatchN  (None, 32, 32, 64)  256         ['conv2d_102[0][0]']             \n",
            " ormalization)                                                                                    \n",
            "                                                                                                  \n",
            " add_38 (Add)                   (None, 32, 32, 64)   0           ['add_37[0][0]',                 \n",
            "                                                                  'batch_normalization_89[0][0]'] \n",
            "                                                                                                  \n",
            " conv2d_103 (Conv2D)            (None, 32, 32, 64)   36928       ['add_38[0][0]']                 \n",
            "                                                                                                  \n",
            " batch_normalization_90 (BatchN  (None, 32, 32, 64)  256         ['conv2d_103[0][0]']             \n",
            " ormalization)                                                                                    \n",
            "                                                                                                  \n",
            " p_re_lu_45 (PReLU)             (None, 32, 32, 64)   64          ['batch_normalization_90[0][0]'] \n",
            "                                                                                                  \n",
            " conv2d_104 (Conv2D)            (None, 32, 32, 64)   36928       ['p_re_lu_45[0][0]']             \n",
            "                                                                                                  \n",
            " batch_normalization_91 (BatchN  (None, 32, 32, 64)  256         ['conv2d_104[0][0]']             \n",
            " ormalization)                                                                                    \n",
            "                                                                                                  \n",
            " add_39 (Add)                   (None, 32, 32, 64)   0           ['add_38[0][0]',                 \n",
            "                                                                  'batch_normalization_91[0][0]'] \n",
            "                                                                                                  \n",
            " conv2d_105 (Conv2D)            (None, 32, 32, 64)   36928       ['add_39[0][0]']                 \n",
            "                                                                                                  \n",
            " batch_normalization_92 (BatchN  (None, 32, 32, 64)  256         ['conv2d_105[0][0]']             \n",
            " ormalization)                                                                                    \n",
            "                                                                                                  \n",
            " p_re_lu_46 (PReLU)             (None, 32, 32, 64)   64          ['batch_normalization_92[0][0]'] \n",
            "                                                                                                  \n",
            " conv2d_106 (Conv2D)            (None, 32, 32, 64)   36928       ['p_re_lu_46[0][0]']             \n",
            "                                                                                                  \n",
            " batch_normalization_93 (BatchN  (None, 32, 32, 64)  256         ['conv2d_106[0][0]']             \n",
            " ormalization)                                                                                    \n",
            "                                                                                                  \n",
            " add_40 (Add)                   (None, 32, 32, 64)   0           ['add_39[0][0]',                 \n",
            "                                                                  'batch_normalization_93[0][0]'] \n",
            "                                                                                                  \n",
            " conv2d_107 (Conv2D)            (None, 32, 32, 64)   36928       ['add_40[0][0]']                 \n",
            "                                                                                                  \n",
            " batch_normalization_94 (BatchN  (None, 32, 32, 64)  256         ['conv2d_107[0][0]']             \n",
            " ormalization)                                                                                    \n",
            "                                                                                                  \n",
            " p_re_lu_47 (PReLU)             (None, 32, 32, 64)   64          ['batch_normalization_94[0][0]'] \n",
            "                                                                                                  \n",
            " conv2d_108 (Conv2D)            (None, 32, 32, 64)   36928       ['p_re_lu_47[0][0]']             \n",
            "                                                                                                  \n",
            " batch_normalization_95 (BatchN  (None, 32, 32, 64)  256         ['conv2d_108[0][0]']             \n",
            " ormalization)                                                                                    \n",
            "                                                                                                  \n",
            " add_41 (Add)                   (None, 32, 32, 64)   0           ['add_40[0][0]',                 \n",
            "                                                                  'batch_normalization_95[0][0]'] \n",
            "                                                                                                  \n",
            " conv2d_109 (Conv2D)            (None, 32, 32, 64)   36928       ['add_41[0][0]']                 \n",
            "                                                                                                  \n",
            " batch_normalization_96 (BatchN  (None, 32, 32, 64)  256         ['conv2d_109[0][0]']             \n",
            " ormalization)                                                                                    \n",
            "                                                                                                  \n",
            " p_re_lu_48 (PReLU)             (None, 32, 32, 64)   64          ['batch_normalization_96[0][0]'] \n",
            "                                                                                                  \n",
            " conv2d_110 (Conv2D)            (None, 32, 32, 64)   36928       ['p_re_lu_48[0][0]']             \n",
            "                                                                                                  \n",
            " batch_normalization_97 (BatchN  (None, 32, 32, 64)  256         ['conv2d_110[0][0]']             \n",
            " ormalization)                                                                                    \n",
            "                                                                                                  \n",
            " add_42 (Add)                   (None, 32, 32, 64)   0           ['add_41[0][0]',                 \n",
            "                                                                  'batch_normalization_97[0][0]'] \n",
            "                                                                                                  \n",
            " conv2d_111 (Conv2D)            (None, 32, 32, 64)   36928       ['add_42[0][0]']                 \n",
            "                                                                                                  \n",
            " batch_normalization_98 (BatchN  (None, 32, 32, 64)  256         ['conv2d_111[0][0]']             \n",
            " ormalization)                                                                                    \n",
            "                                                                                                  \n",
            " p_re_lu_49 (PReLU)             (None, 32, 32, 64)   64          ['batch_normalization_98[0][0]'] \n",
            "                                                                                                  \n",
            " conv2d_112 (Conv2D)            (None, 32, 32, 64)   36928       ['p_re_lu_49[0][0]']             \n",
            "                                                                                                  \n",
            " batch_normalization_99 (BatchN  (None, 32, 32, 64)  256         ['conv2d_112[0][0]']             \n",
            " ormalization)                                                                                    \n",
            "                                                                                                  \n",
            " add_43 (Add)                   (None, 32, 32, 64)   0           ['add_42[0][0]',                 \n",
            "                                                                  'batch_normalization_99[0][0]'] \n",
            "                                                                                                  \n",
            " conv2d_113 (Conv2D)            (None, 32, 32, 64)   36928       ['add_43[0][0]']                 \n",
            "                                                                                                  \n",
            " batch_normalization_100 (Batch  (None, 32, 32, 64)  256         ['conv2d_113[0][0]']             \n",
            " Normalization)                                                                                   \n",
            "                                                                                                  \n",
            " p_re_lu_50 (PReLU)             (None, 32, 32, 64)   64          ['batch_normalization_100[0][0]']\n",
            "                                                                                                  \n",
            " conv2d_114 (Conv2D)            (None, 32, 32, 64)   36928       ['p_re_lu_50[0][0]']             \n",
            "                                                                                                  \n",
            " batch_normalization_101 (Batch  (None, 32, 32, 64)  256         ['conv2d_114[0][0]']             \n",
            " Normalization)                                                                                   \n",
            "                                                                                                  \n",
            " add_44 (Add)                   (None, 32, 32, 64)   0           ['add_43[0][0]',                 \n",
            "                                                                  'batch_normalization_101[0][0]']\n",
            "                                                                                                  \n",
            " conv2d_115 (Conv2D)            (None, 32, 32, 64)   36928       ['add_44[0][0]']                 \n",
            "                                                                                                  \n",
            " batch_normalization_102 (Batch  (None, 32, 32, 64)  256         ['conv2d_115[0][0]']             \n",
            " Normalization)                                                                                   \n",
            "                                                                                                  \n",
            " p_re_lu_51 (PReLU)             (None, 32, 32, 64)   64          ['batch_normalization_102[0][0]']\n",
            "                                                                                                  \n",
            " conv2d_116 (Conv2D)            (None, 32, 32, 64)   36928       ['p_re_lu_51[0][0]']             \n",
            "                                                                                                  \n",
            " batch_normalization_103 (Batch  (None, 32, 32, 64)  256         ['conv2d_116[0][0]']             \n",
            " Normalization)                                                                                   \n",
            "                                                                                                  \n",
            " add_45 (Add)                   (None, 32, 32, 64)   0           ['add_44[0][0]',                 \n",
            "                                                                  'batch_normalization_103[0][0]']\n",
            "                                                                                                  \n",
            " conv2d_117 (Conv2D)            (None, 32, 32, 64)   36928       ['add_45[0][0]']                 \n",
            "                                                                                                  \n",
            " batch_normalization_104 (Batch  (None, 32, 32, 64)  256         ['conv2d_117[0][0]']             \n",
            " Normalization)                                                                                   \n",
            "                                                                                                  \n",
            " p_re_lu_52 (PReLU)             (None, 32, 32, 64)   64          ['batch_normalization_104[0][0]']\n",
            "                                                                                                  \n",
            " conv2d_118 (Conv2D)            (None, 32, 32, 64)   36928       ['p_re_lu_52[0][0]']             \n",
            "                                                                                                  \n",
            " batch_normalization_105 (Batch  (None, 32, 32, 64)  256         ['conv2d_118[0][0]']             \n",
            " Normalization)                                                                                   \n",
            "                                                                                                  \n",
            " add_46 (Add)                   (None, 32, 32, 64)   0           ['add_45[0][0]',                 \n",
            "                                                                  'batch_normalization_105[0][0]']\n",
            "                                                                                                  \n",
            " conv2d_119 (Conv2D)            (None, 32, 32, 64)   36928       ['add_46[0][0]']                 \n",
            "                                                                                                  \n",
            " batch_normalization_106 (Batch  (None, 32, 32, 64)  256         ['conv2d_119[0][0]']             \n",
            " Normalization)                                                                                   \n",
            "                                                                                                  \n",
            " p_re_lu_53 (PReLU)             (None, 32, 32, 64)   64          ['batch_normalization_106[0][0]']\n",
            "                                                                                                  \n",
            " conv2d_120 (Conv2D)            (None, 32, 32, 64)   36928       ['p_re_lu_53[0][0]']             \n",
            "                                                                                                  \n",
            " batch_normalization_107 (Batch  (None, 32, 32, 64)  256         ['conv2d_120[0][0]']             \n",
            " Normalization)                                                                                   \n",
            "                                                                                                  \n",
            " add_47 (Add)                   (None, 32, 32, 64)   0           ['add_46[0][0]',                 \n",
            "                                                                  'batch_normalization_107[0][0]']\n",
            "                                                                                                  \n",
            " conv2d_121 (Conv2D)            (None, 32, 32, 64)   36928       ['add_47[0][0]']                 \n",
            "                                                                                                  \n",
            " batch_normalization_108 (Batch  (None, 32, 32, 64)  256         ['conv2d_121[0][0]']             \n",
            " Normalization)                                                                                   \n",
            "                                                                                                  \n",
            " p_re_lu_54 (PReLU)             (None, 32, 32, 64)   64          ['batch_normalization_108[0][0]']\n",
            "                                                                                                  \n",
            " conv2d_122 (Conv2D)            (None, 32, 32, 64)   36928       ['p_re_lu_54[0][0]']             \n",
            "                                                                                                  \n",
            " batch_normalization_109 (Batch  (None, 32, 32, 64)  256         ['conv2d_122[0][0]']             \n",
            " Normalization)                                                                                   \n",
            "                                                                                                  \n",
            " add_48 (Add)                   (None, 32, 32, 64)   0           ['add_47[0][0]',                 \n",
            "                                                                  'batch_normalization_109[0][0]']\n",
            "                                                                                                  \n",
            " conv2d_123 (Conv2D)            (None, 32, 32, 64)   36928       ['add_48[0][0]']                 \n",
            "                                                                                                  \n",
            " batch_normalization_110 (Batch  (None, 32, 32, 64)  256         ['conv2d_123[0][0]']             \n",
            " Normalization)                                                                                   \n",
            "                                                                                                  \n",
            " p_re_lu_55 (PReLU)             (None, 32, 32, 64)   64          ['batch_normalization_110[0][0]']\n",
            "                                                                                                  \n",
            " conv2d_124 (Conv2D)            (None, 32, 32, 64)   36928       ['p_re_lu_55[0][0]']             \n",
            "                                                                                                  \n",
            " batch_normalization_111 (Batch  (None, 32, 32, 64)  256         ['conv2d_124[0][0]']             \n",
            " Normalization)                                                                                   \n",
            "                                                                                                  \n",
            " add_49 (Add)                   (None, 32, 32, 64)   0           ['add_48[0][0]',                 \n",
            "                                                                  'batch_normalization_111[0][0]']\n",
            "                                                                                                  \n",
            " conv2d_125 (Conv2D)            (None, 32, 32, 64)   36928       ['add_49[0][0]']                 \n",
            "                                                                                                  \n",
            " batch_normalization_112 (Batch  (None, 32, 32, 64)  256         ['conv2d_125[0][0]']             \n",
            " Normalization)                                                                                   \n",
            "                                                                                                  \n",
            " p_re_lu_56 (PReLU)             (None, 32, 32, 64)   64          ['batch_normalization_112[0][0]']\n",
            "                                                                                                  \n",
            " conv2d_126 (Conv2D)            (None, 32, 32, 64)   36928       ['p_re_lu_56[0][0]']             \n",
            "                                                                                                  \n",
            " batch_normalization_113 (Batch  (None, 32, 32, 64)  256         ['conv2d_126[0][0]']             \n",
            " Normalization)                                                                                   \n",
            "                                                                                                  \n",
            " add_50 (Add)                   (None, 32, 32, 64)   0           ['add_49[0][0]',                 \n",
            "                                                                  'batch_normalization_113[0][0]']\n",
            "                                                                                                  \n",
            " conv2d_127 (Conv2D)            (None, 32, 32, 64)   36928       ['add_50[0][0]']                 \n",
            "                                                                                                  \n",
            " batch_normalization_114 (Batch  (None, 32, 32, 64)  256         ['conv2d_127[0][0]']             \n",
            " Normalization)                                                                                   \n",
            "                                                                                                  \n",
            " p_re_lu_57 (PReLU)             (None, 32, 32, 64)   64          ['batch_normalization_114[0][0]']\n",
            "                                                                                                  \n",
            " conv2d_128 (Conv2D)            (None, 32, 32, 64)   36928       ['p_re_lu_57[0][0]']             \n",
            "                                                                                                  \n",
            " batch_normalization_115 (Batch  (None, 32, 32, 64)  256         ['conv2d_128[0][0]']             \n",
            " Normalization)                                                                                   \n",
            "                                                                                                  \n",
            " add_51 (Add)                   (None, 32, 32, 64)   0           ['add_50[0][0]',                 \n",
            "                                                                  'batch_normalization_115[0][0]']\n",
            "                                                                                                  \n",
            " conv2d_129 (Conv2D)            (None, 32, 32, 64)   36928       ['add_51[0][0]']                 \n",
            "                                                                                                  \n",
            " batch_normalization_116 (Batch  (None, 32, 32, 64)  256         ['conv2d_129[0][0]']             \n",
            " Normalization)                                                                                   \n",
            "                                                                                                  \n",
            " add_52 (Add)                   (None, 32, 32, 64)   0           ['batch_normalization_116[0][0]',\n",
            "                                                                  'p_re_lu_41[0][0]']             \n",
            "                                                                                                  \n",
            " conv2d_130 (Conv2D)            (None, 32, 32, 256)  147712      ['add_52[0][0]']                 \n",
            "                                                                                                  \n",
            " up_sampling2d_4 (UpSampling2D)  (None, 64, 64, 256)  0          ['conv2d_130[0][0]']             \n",
            "                                                                                                  \n",
            " p_re_lu_58 (PReLU)             (None, 64, 64, 256)  256         ['up_sampling2d_4[0][0]']        \n",
            "                                                                                                  \n",
            " conv2d_131 (Conv2D)            (None, 64, 64, 256)  590080      ['p_re_lu_58[0][0]']             \n",
            "                                                                                                  \n",
            " up_sampling2d_5 (UpSampling2D)  (None, 128, 128, 25  0          ['conv2d_131[0][0]']             \n",
            "                                6)                                                                \n",
            "                                                                                                  \n",
            " p_re_lu_59 (PReLU)             (None, 128, 128, 25  256         ['up_sampling2d_5[0][0]']        \n",
            "                                6)                                                                \n",
            "                                                                                                  \n",
            " conv2d_132 (Conv2D)            (None, 128, 128, 3)  62211       ['p_re_lu_59[0][0]']             \n",
            "                                                                                                  \n",
            "==================================================================================================\n",
            "Total params: 2,044,291\n",
            "Trainable params: 2,040,067\n",
            "Non-trainable params: 4,224\n",
            "__________________________________________________________________________________________________\n",
            "Model: \"model_9\"\n",
            "_________________________________________________________________\n",
            " Layer (type)                Output Shape              Param #   \n",
            "=================================================================\n",
            " input_10 (InputLayer)       [(None, 128, 128, 3)]     0         \n",
            "                                                                 \n",
            " conv2d_133 (Conv2D)         (None, 128, 128, 64)      1792      \n",
            "                                                                 \n",
            " leaky_re_lu_18 (LeakyReLU)  (None, 128, 128, 64)      0         \n",
            "                                                                 \n",
            " conv2d_134 (Conv2D)         (None, 64, 64, 64)        36928     \n",
            "                                                                 \n",
            " batch_normalization_117 (Ba  (None, 64, 64, 64)       256       \n",
            " tchNormalization)                                               \n",
            "                                                                 \n",
            " leaky_re_lu_19 (LeakyReLU)  (None, 64, 64, 64)        0         \n",
            "                                                                 \n",
            " conv2d_135 (Conv2D)         (None, 64, 64, 128)       73856     \n",
            "                                                                 \n",
            " batch_normalization_118 (Ba  (None, 64, 64, 128)      512       \n",
            " tchNormalization)                                               \n",
            "                                                                 \n",
            " leaky_re_lu_20 (LeakyReLU)  (None, 64, 64, 128)       0         \n",
            "                                                                 \n",
            " conv2d_136 (Conv2D)         (None, 32, 32, 128)       147584    \n",
            "                                                                 \n",
            " batch_normalization_119 (Ba  (None, 32, 32, 128)      512       \n",
            " tchNormalization)                                               \n",
            "                                                                 \n",
            " leaky_re_lu_21 (LeakyReLU)  (None, 32, 32, 128)       0         \n",
            "                                                                 \n",
            " conv2d_137 (Conv2D)         (None, 32, 32, 256)       295168    \n",
            "                                                                 \n",
            " batch_normalization_120 (Ba  (None, 32, 32, 256)      1024      \n",
            " tchNormalization)                                               \n",
            "                                                                 \n",
            " leaky_re_lu_22 (LeakyReLU)  (None, 32, 32, 256)       0         \n",
            "                                                                 \n",
            " conv2d_138 (Conv2D)         (None, 16, 16, 256)       590080    \n",
            "                                                                 \n",
            " batch_normalization_121 (Ba  (None, 16, 16, 256)      1024      \n",
            " tchNormalization)                                               \n",
            "                                                                 \n",
            " leaky_re_lu_23 (LeakyReLU)  (None, 16, 16, 256)       0         \n",
            "                                                                 \n",
            " conv2d_139 (Conv2D)         (None, 16, 16, 512)       1180160   \n",
            "                                                                 \n",
            " batch_normalization_122 (Ba  (None, 16, 16, 512)      2048      \n",
            " tchNormalization)                                               \n",
            "                                                                 \n",
            " leaky_re_lu_24 (LeakyReLU)  (None, 16, 16, 512)       0         \n",
            "                                                                 \n",
            " conv2d_140 (Conv2D)         (None, 8, 8, 512)         2359808   \n",
            "                                                                 \n",
            " batch_normalization_123 (Ba  (None, 8, 8, 512)        2048      \n",
            " tchNormalization)                                               \n",
            "                                                                 \n",
            " leaky_re_lu_25 (LeakyReLU)  (None, 8, 8, 512)         0         \n",
            "                                                                 \n",
            " flatten_2 (Flatten)         (None, 32768)             0         \n",
            "                                                                 \n",
            " dense_4 (Dense)             (None, 1024)              33555456  \n",
            "                                                                 \n",
            " leaky_re_lu_26 (LeakyReLU)  (None, 1024)              0         \n",
            "                                                                 \n",
            " dense_5 (Dense)             (None, 1)                 1025      \n",
            "                                                                 \n",
            "=================================================================\n",
            "Total params: 38,249,281\n",
            "Trainable params: 38,245,569\n",
            "Non-trainable params: 3,712\n",
            "_________________________________________________________________\n",
            "Model: \"model_10\"\n",
            "_________________________________________________________________\n",
            " Layer (type)                Output Shape              Param #   \n",
            "=================================================================\n",
            " input_11 (InputLayer)       [(None, 128, 128, 3)]     0         \n",
            "                                                                 \n",
            " block1_conv1 (Conv2D)       (None, 128, 128, 64)      1792      \n",
            "                                                                 \n",
            " block1_conv2 (Conv2D)       (None, 128, 128, 64)      36928     \n",
            "                                                                 \n",
            " block1_pool (MaxPooling2D)  (None, 64, 64, 64)        0         \n",
            "                                                                 \n",
            " block2_conv1 (Conv2D)       (None, 64, 64, 128)       73856     \n",
            "                                                                 \n",
            " block2_conv2 (Conv2D)       (None, 64, 64, 128)       147584    \n",
            "                                                                 \n",
            " block2_pool (MaxPooling2D)  (None, 32, 32, 128)       0         \n",
            "                                                                 \n",
            " block3_conv1 (Conv2D)       (None, 32, 32, 256)       295168    \n",
            "                                                                 \n",
            " block3_conv2 (Conv2D)       (None, 32, 32, 256)       590080    \n",
            "                                                                 \n",
            " block3_conv3 (Conv2D)       (None, 32, 32, 256)       590080    \n",
            "                                                                 \n",
            " block3_conv4 (Conv2D)       (None, 32, 32, 256)       590080    \n",
            "                                                                 \n",
            "=================================================================\n",
            "Total params: 2,325,568\n",
            "Trainable params: 2,325,568\n",
            "Non-trainable params: 0\n",
            "_________________________________________________________________\n",
            "None\n",
            "Model: \"model_11\"\n",
            "__________________________________________________________________________________________________\n",
            " Layer (type)                   Output Shape         Param #     Connected to                     \n",
            "==================================================================================================\n",
            " input_9 (InputLayer)           [(None, 32, 32, 3)]  0           []                               \n",
            "                                                                                                  \n",
            " model_8 (Functional)           (None, 128, 128, 3)  2044291     ['input_9[0][0]']                \n",
            "                                                                                                  \n",
            " input_10 (InputLayer)          [(None, 128, 128, 3  0           []                               \n",
            "                                )]                                                                \n",
            "                                                                                                  \n",
            " model_9 (Functional)           (None, 1)            38249281    ['model_8[0][0]']                \n",
            "                                                                                                  \n",
            " model_10 (Functional)          (None, 32, 32, 256)  2325568     ['model_8[0][0]']                \n",
            "                                                                                                  \n",
            "==================================================================================================\n",
            "Total params: 42,619,140\n",
            "Trainable params: 2,040,067\n",
            "Non-trainable params: 40,579,073\n",
            "__________________________________________________________________________________________________\n"
          ]
        },
        {
          "name": "stderr",
          "output_type": "stream",
          "text": [
            "\r  0%|          | 0/335 [00:00<?, ?it/s]"
          ]
        },
        {
          "name": "stdout",
          "output_type": "stream",
          "text": [
            "1/1 [==============================] - 0s 219ms/step\n"
          ]
        },
        {
          "name": "stderr",
          "output_type": "stream",
          "text": [
            "\r  0%|          | 1/335 [00:36<3:24:59, 36.82s/it]"
          ]
        },
        {
          "name": "stdout",
          "output_type": "stream",
          "text": [
            "1/1 [==============================] - 0s 147ms/step\n"
          ]
        },
        {
          "name": "stderr",
          "output_type": "stream",
          "text": [
            "\r  1%|          | 2/335 [00:43<1:47:10, 19.31s/it]"
          ]
        },
        {
          "name": "stdout",
          "output_type": "stream",
          "text": [
            "1/1 [==============================] - 0s 139ms/step\n"
          ]
        },
        {
          "name": "stderr",
          "output_type": "stream",
          "text": [
            "\r  1%|          | 3/335 [00:49<1:12:22, 13.08s/it]"
          ]
        },
        {
          "name": "stdout",
          "output_type": "stream",
          "text": [
            "1/1 [==============================] - 0s 140ms/step\n"
          ]
        },
        {
          "name": "stderr",
          "output_type": "stream",
          "text": [
            "\r  1%|          | 4/335 [00:54<55:25, 10.05s/it]  "
          ]
        },
        {
          "name": "stdout",
          "output_type": "stream",
          "text": [
            "1/1 [==============================] - 0s 138ms/step\n"
          ]
        },
        {
          "name": "stderr",
          "output_type": "stream",
          "text": [
            "\r  1%|▏         | 5/335 [01:01<48:43,  8.86s/it]"
          ]
        },
        {
          "name": "stdout",
          "output_type": "stream",
          "text": [
            "1/1 [==============================] - 0s 151ms/step\n"
          ]
        },
        {
          "name": "stderr",
          "output_type": "stream",
          "text": [
            "\r  2%|▏         | 6/335 [01:24<1:13:54, 13.48s/it]"
          ]
        },
        {
          "name": "stdout",
          "output_type": "stream",
          "text": [
            "1/1 [==============================] - 0s 170ms/step\n"
          ]
        },
        {
          "name": "stderr",
          "output_type": "stream",
          "text": [
            "\r  2%|▏         | 7/335 [01:33<1:05:54, 12.06s/it]"
          ]
        },
        {
          "name": "stdout",
          "output_type": "stream",
          "text": [
            "1/1 [==============================] - 0s 237ms/step\n"
          ]
        },
        {
          "name": "stderr",
          "output_type": "stream",
          "text": [
            "\r  2%|▏         | 8/335 [01:40<57:04, 10.47s/it]  "
          ]
        },
        {
          "name": "stdout",
          "output_type": "stream",
          "text": [
            "1/1 [==============================] - 0s 136ms/step\n"
          ]
        },
        {
          "name": "stderr",
          "output_type": "stream",
          "text": [
            "\r  3%|▎         | 9/335 [01:45<48:15,  8.88s/it]"
          ]
        },
        {
          "name": "stdout",
          "output_type": "stream",
          "text": [
            "1/1 [==============================] - 0s 283ms/step\n"
          ]
        },
        {
          "name": "stderr",
          "output_type": "stream",
          "text": [
            "\r  3%|▎         | 10/335 [01:52<45:14,  8.35s/it]"
          ]
        },
        {
          "name": "stdout",
          "output_type": "stream",
          "text": [
            "1/1 [==============================] - 0s 166ms/step\n"
          ]
        },
        {
          "name": "stderr",
          "output_type": "stream",
          "text": [
            "\r  3%|▎         | 11/335 [01:59<41:42,  7.72s/it]"
          ]
        },
        {
          "name": "stdout",
          "output_type": "stream",
          "text": [
            "1/1 [==============================] - 0s 275ms/step\n"
          ]
        },
        {
          "name": "stderr",
          "output_type": "stream",
          "text": [
            "\r  4%|▎         | 12/335 [02:06<41:19,  7.68s/it]"
          ]
        },
        {
          "name": "stdout",
          "output_type": "stream",
          "text": [
            "1/1 [==============================] - 0s 165ms/step\n"
          ]
        },
        {
          "name": "stderr",
          "output_type": "stream",
          "text": [
            "\r  4%|▍         | 13/335 [02:13<39:40,  7.39s/it]"
          ]
        },
        {
          "name": "stdout",
          "output_type": "stream",
          "text": [
            "1/1 [==============================] - 0s 165ms/step\n"
          ]
        },
        {
          "name": "stderr",
          "output_type": "stream",
          "text": [
            "\r  4%|▍         | 14/335 [02:21<40:10,  7.51s/it]"
          ]
        },
        {
          "name": "stdout",
          "output_type": "stream",
          "text": [
            "1/1 [==============================] - 0s 147ms/step\n"
          ]
        },
        {
          "name": "stderr",
          "output_type": "stream",
          "text": [
            "\r  4%|▍         | 15/335 [02:28<39:36,  7.43s/it]"
          ]
        },
        {
          "name": "stdout",
          "output_type": "stream",
          "text": [
            "1/1 [==============================] - 0s 136ms/step\n"
          ]
        },
        {
          "name": "stderr",
          "output_type": "stream",
          "text": [
            "\r  5%|▍         | 16/335 [02:34<36:39,  6.89s/it]"
          ]
        },
        {
          "name": "stdout",
          "output_type": "stream",
          "text": [
            "1/1 [==============================] - 0s 139ms/step\n"
          ]
        },
        {
          "name": "stderr",
          "output_type": "stream",
          "text": [
            "\r  5%|▌         | 17/335 [02:40<35:27,  6.69s/it]"
          ]
        },
        {
          "name": "stdout",
          "output_type": "stream",
          "text": [
            "1/1 [==============================] - 0s 139ms/step\n"
          ]
        },
        {
          "name": "stderr",
          "output_type": "stream",
          "text": [
            "\r  5%|▌         | 18/335 [02:47<35:23,  6.70s/it]"
          ]
        },
        {
          "name": "stdout",
          "output_type": "stream",
          "text": [
            "1/1 [==============================] - 0s 138ms/step\n"
          ]
        },
        {
          "name": "stderr",
          "output_type": "stream",
          "text": [
            "\r  6%|▌         | 19/335 [02:53<35:04,  6.66s/it]"
          ]
        },
        {
          "name": "stdout",
          "output_type": "stream",
          "text": [
            "1/1 [==============================] - 0s 158ms/step\n"
          ]
        },
        {
          "name": "stderr",
          "output_type": "stream",
          "text": [
            "\r  6%|▌         | 20/335 [03:01<36:13,  6.90s/it]"
          ]
        },
        {
          "name": "stdout",
          "output_type": "stream",
          "text": [
            "1/1 [==============================] - 0s 140ms/step\n"
          ]
        },
        {
          "name": "stderr",
          "output_type": "stream",
          "text": [
            "\r  6%|▋         | 21/335 [03:07<35:37,  6.81s/it]"
          ]
        },
        {
          "name": "stdout",
          "output_type": "stream",
          "text": [
            "1/1 [==============================] - 0s 160ms/step\n"
          ]
        },
        {
          "name": "stderr",
          "output_type": "stream",
          "text": [
            "\r  7%|▋         | 22/335 [03:14<34:57,  6.70s/it]"
          ]
        },
        {
          "name": "stdout",
          "output_type": "stream",
          "text": [
            "1/1 [==============================] - 0s 140ms/step\n"
          ]
        },
        {
          "name": "stderr",
          "output_type": "stream",
          "text": [
            "\r  7%|▋         | 23/335 [03:21<36:05,  6.94s/it]"
          ]
        },
        {
          "name": "stdout",
          "output_type": "stream",
          "text": [
            "1/1 [==============================] - 0s 143ms/step\n"
          ]
        },
        {
          "name": "stderr",
          "output_type": "stream",
          "text": [
            "\r  7%|▋         | 24/335 [03:27<34:38,  6.68s/it]"
          ]
        },
        {
          "name": "stdout",
          "output_type": "stream",
          "text": [
            "1/1 [==============================] - 0s 149ms/step\n"
          ]
        },
        {
          "name": "stderr",
          "output_type": "stream",
          "text": [
            "\r  7%|▋         | 25/335 [03:34<35:15,  6.82s/it]"
          ]
        },
        {
          "name": "stdout",
          "output_type": "stream",
          "text": [
            "1/1 [==============================] - 0s 140ms/step\n"
          ]
        },
        {
          "name": "stderr",
          "output_type": "stream",
          "text": [
            "\r  8%|▊         | 26/335 [03:40<33:25,  6.49s/it]"
          ]
        },
        {
          "name": "stdout",
          "output_type": "stream",
          "text": [
            "1/1 [==============================] - 0s 150ms/step\n"
          ]
        },
        {
          "name": "stderr",
          "output_type": "stream",
          "text": [
            "\r  8%|▊         | 27/335 [03:47<33:27,  6.52s/it]"
          ]
        },
        {
          "name": "stdout",
          "output_type": "stream",
          "text": [
            "1/1 [==============================] - 0s 143ms/step\n"
          ]
        },
        {
          "name": "stderr",
          "output_type": "stream",
          "text": [
            "\r  8%|▊         | 28/335 [03:53<32:15,  6.31s/it]"
          ]
        },
        {
          "name": "stdout",
          "output_type": "stream",
          "text": [
            "1/1 [==============================] - 0s 141ms/step\n"
          ]
        },
        {
          "name": "stderr",
          "output_type": "stream",
          "text": [
            "\r  9%|▊         | 29/335 [04:00<34:21,  6.74s/it]"
          ]
        },
        {
          "name": "stdout",
          "output_type": "stream",
          "text": [
            "1/1 [==============================] - 0s 141ms/step\n"
          ]
        },
        {
          "name": "stderr",
          "output_type": "stream",
          "text": [
            "\r  9%|▉         | 30/335 [04:06<32:19,  6.36s/it]"
          ]
        },
        {
          "name": "stdout",
          "output_type": "stream",
          "text": [
            "1/1 [==============================] - 0s 145ms/step\n"
          ]
        },
        {
          "name": "stderr",
          "output_type": "stream",
          "text": [
            "\r  9%|▉         | 31/335 [04:12<32:11,  6.35s/it]"
          ]
        },
        {
          "name": "stdout",
          "output_type": "stream",
          "text": [
            "1/1 [==============================] - 0s 148ms/step\n"
          ]
        },
        {
          "name": "stderr",
          "output_type": "stream",
          "text": [
            "\r 10%|▉         | 32/335 [04:19<32:23,  6.42s/it]"
          ]
        },
        {
          "name": "stdout",
          "output_type": "stream",
          "text": [
            "1/1 [==============================] - 0s 187ms/step\n"
          ]
        },
        {
          "name": "stderr",
          "output_type": "stream",
          "text": [
            "\r 10%|▉         | 33/335 [04:26<34:16,  6.81s/it]"
          ]
        },
        {
          "name": "stdout",
          "output_type": "stream",
          "text": [
            "1/1 [==============================] - 0s 149ms/step\n"
          ]
        },
        {
          "name": "stderr",
          "output_type": "stream",
          "text": [
            "\r 10%|█         | 34/335 [04:32<32:26,  6.47s/it]"
          ]
        },
        {
          "name": "stdout",
          "output_type": "stream",
          "text": [
            "1/1 [==============================] - 0s 148ms/step\n"
          ]
        },
        {
          "name": "stderr",
          "output_type": "stream",
          "text": [
            "\r 10%|█         | 35/335 [04:39<32:21,  6.47s/it]"
          ]
        },
        {
          "name": "stdout",
          "output_type": "stream",
          "text": [
            "1/1 [==============================] - 0s 160ms/step\n"
          ]
        },
        {
          "name": "stderr",
          "output_type": "stream",
          "text": [
            "\r 11%|█         | 36/335 [04:46<34:02,  6.83s/it]"
          ]
        },
        {
          "name": "stdout",
          "output_type": "stream",
          "text": [
            "1/1 [==============================] - 0s 139ms/step\n"
          ]
        },
        {
          "name": "stderr",
          "output_type": "stream",
          "text": [
            "\r 11%|█         | 37/335 [04:53<34:16,  6.90s/it]"
          ]
        },
        {
          "name": "stdout",
          "output_type": "stream",
          "text": [
            "1/1 [==============================] - 0s 136ms/step\n"
          ]
        },
        {
          "name": "stderr",
          "output_type": "stream",
          "text": [
            "\r 11%|█▏        | 38/335 [04:59<32:10,  6.50s/it]"
          ]
        },
        {
          "name": "stdout",
          "output_type": "stream",
          "text": [
            "1/1 [==============================] - 0s 136ms/step\n"
          ]
        },
        {
          "name": "stderr",
          "output_type": "stream",
          "text": [
            "\r 12%|█▏        | 39/335 [05:06<32:41,  6.63s/it]"
          ]
        },
        {
          "name": "stdout",
          "output_type": "stream",
          "text": [
            "1/1 [==============================] - 0s 152ms/step\n"
          ]
        },
        {
          "name": "stderr",
          "output_type": "stream",
          "text": [
            "\r 12%|█▏        | 40/335 [05:12<31:20,  6.37s/it]"
          ]
        },
        {
          "name": "stdout",
          "output_type": "stream",
          "text": [
            "1/1 [==============================] - 0s 144ms/step\n"
          ]
        },
        {
          "name": "stderr",
          "output_type": "stream",
          "text": [
            "\r 12%|█▏        | 41/335 [05:18<31:23,  6.40s/it]"
          ]
        },
        {
          "name": "stdout",
          "output_type": "stream",
          "text": [
            "1/1 [==============================] - 0s 141ms/step\n"
          ]
        },
        {
          "name": "stderr",
          "output_type": "stream",
          "text": [
            "\r 13%|█▎        | 42/335 [05:24<30:30,  6.25s/it]"
          ]
        },
        {
          "name": "stdout",
          "output_type": "stream",
          "text": [
            "1/1 [==============================] - 0s 146ms/step\n"
          ]
        },
        {
          "name": "stderr",
          "output_type": "stream",
          "text": [
            "\r 13%|█▎        | 43/335 [05:31<31:42,  6.51s/it]"
          ]
        },
        {
          "name": "stdout",
          "output_type": "stream",
          "text": [
            "1/1 [==============================] - 0s 157ms/step\n"
          ]
        },
        {
          "name": "stderr",
          "output_type": "stream",
          "text": [
            "\r 13%|█▎        | 44/335 [05:37<31:25,  6.48s/it]"
          ]
        },
        {
          "name": "stdout",
          "output_type": "stream",
          "text": [
            "1/1 [==============================] - 0s 160ms/step\n"
          ]
        },
        {
          "name": "stderr",
          "output_type": "stream",
          "text": [
            "\r 13%|█▎        | 45/335 [05:44<31:34,  6.53s/it]"
          ]
        },
        {
          "name": "stdout",
          "output_type": "stream",
          "text": [
            "1/1 [==============================] - 0s 137ms/step\n"
          ]
        },
        {
          "name": "stderr",
          "output_type": "stream",
          "text": [
            "\r 14%|█▎        | 46/335 [05:51<32:41,  6.79s/it]"
          ]
        },
        {
          "name": "stdout",
          "output_type": "stream",
          "text": [
            "1/1 [==============================] - 0s 163ms/step\n"
          ]
        },
        {
          "name": "stderr",
          "output_type": "stream",
          "text": [
            "\r 14%|█▍        | 47/335 [05:59<33:35,  7.00s/it]"
          ]
        },
        {
          "name": "stdout",
          "output_type": "stream",
          "text": [
            "1/1 [==============================] - 0s 139ms/step\n"
          ]
        },
        {
          "name": "stderr",
          "output_type": "stream",
          "text": [
            "\r 14%|█▍        | 48/335 [06:04<31:11,  6.52s/it]"
          ]
        },
        {
          "name": "stdout",
          "output_type": "stream",
          "text": [
            "1/1 [==============================] - 0s 174ms/step\n"
          ]
        },
        {
          "name": "stderr",
          "output_type": "stream",
          "text": [
            "\r 15%|█▍        | 49/335 [06:12<32:42,  6.86s/it]"
          ]
        },
        {
          "name": "stdout",
          "output_type": "stream",
          "text": [
            "1/1 [==============================] - 0s 155ms/step\n"
          ]
        },
        {
          "name": "stderr",
          "output_type": "stream",
          "text": [
            "\r 15%|█▍        | 50/335 [06:19<32:03,  6.75s/it]"
          ]
        },
        {
          "name": "stdout",
          "output_type": "stream",
          "text": [
            "1/1 [==============================] - 0s 136ms/step\n"
          ]
        },
        {
          "name": "stderr",
          "output_type": "stream",
          "text": [
            "\r 15%|█▌        | 51/335 [06:25<31:47,  6.72s/it]"
          ]
        },
        {
          "name": "stdout",
          "output_type": "stream",
          "text": [
            "1/1 [==============================] - 0s 138ms/step\n"
          ]
        },
        {
          "name": "stderr",
          "output_type": "stream",
          "text": [
            "\r 16%|█▌        | 52/335 [06:31<30:04,  6.38s/it]"
          ]
        },
        {
          "name": "stdout",
          "output_type": "stream",
          "text": [
            "1/1 [==============================] - 0s 152ms/step\n"
          ]
        },
        {
          "name": "stderr",
          "output_type": "stream",
          "text": [
            "\r 16%|█▌        | 53/335 [06:38<30:45,  6.55s/it]"
          ]
        },
        {
          "name": "stdout",
          "output_type": "stream",
          "text": [
            "1/1 [==============================] - 0s 139ms/step\n"
          ]
        },
        {
          "name": "stderr",
          "output_type": "stream",
          "text": [
            "\r 16%|█▌        | 54/335 [06:43<29:09,  6.23s/it]"
          ]
        },
        {
          "name": "stdout",
          "output_type": "stream",
          "text": [
            "1/1 [==============================] - 0s 153ms/step\n"
          ]
        },
        {
          "name": "stderr",
          "output_type": "stream",
          "text": [
            "\r 16%|█▋        | 55/335 [06:51<31:16,  6.70s/it]"
          ]
        },
        {
          "name": "stdout",
          "output_type": "stream",
          "text": [
            "1/1 [==============================] - 0s 135ms/step\n"
          ]
        },
        {
          "name": "stderr",
          "output_type": "stream",
          "text": [
            "\r 17%|█▋        | 56/335 [06:57<29:34,  6.36s/it]"
          ]
        },
        {
          "name": "stdout",
          "output_type": "stream",
          "text": [
            "1/1 [==============================] - 0s 133ms/step\n"
          ]
        },
        {
          "name": "stderr",
          "output_type": "stream",
          "text": [
            "\r 17%|█▋        | 57/335 [07:04<30:46,  6.64s/it]"
          ]
        },
        {
          "name": "stdout",
          "output_type": "stream",
          "text": [
            "1/1 [==============================] - 0s 143ms/step\n"
          ]
        },
        {
          "name": "stderr",
          "output_type": "stream",
          "text": [
            "\r 17%|█▋        | 58/335 [07:10<30:02,  6.51s/it]"
          ]
        },
        {
          "name": "stdout",
          "output_type": "stream",
          "text": [
            "1/1 [==============================] - 0s 141ms/step\n"
          ]
        },
        {
          "name": "stderr",
          "output_type": "stream",
          "text": [
            "\r 18%|█▊        | 59/335 [07:17<30:35,  6.65s/it]"
          ]
        },
        {
          "name": "stdout",
          "output_type": "stream",
          "text": [
            "1/1 [==============================] - 0s 132ms/step\n"
          ]
        },
        {
          "name": "stderr",
          "output_type": "stream",
          "text": [
            "\r 18%|█▊        | 60/335 [07:22<28:46,  6.28s/it]"
          ]
        },
        {
          "name": "stdout",
          "output_type": "stream",
          "text": [
            "1/1 [==============================] - 0s 142ms/step\n"
          ]
        },
        {
          "name": "stderr",
          "output_type": "stream",
          "text": [
            "\r 18%|█▊        | 61/335 [07:30<29:52,  6.54s/it]"
          ]
        },
        {
          "name": "stdout",
          "output_type": "stream",
          "text": [
            "1/1 [==============================] - 0s 133ms/step\n"
          ]
        },
        {
          "name": "stderr",
          "output_type": "stream",
          "text": [
            "\r 19%|█▊        | 62/335 [07:35<28:22,  6.24s/it]"
          ]
        },
        {
          "name": "stdout",
          "output_type": "stream",
          "text": [
            "1/1 [==============================] - 0s 135ms/step\n"
          ]
        },
        {
          "name": "stderr",
          "output_type": "stream",
          "text": [
            "\r 19%|█▉        | 63/335 [07:42<29:16,  6.46s/it]"
          ]
        },
        {
          "name": "stdout",
          "output_type": "stream",
          "text": [
            "1/1 [==============================] - 0s 141ms/step\n"
          ]
        },
        {
          "name": "stderr",
          "output_type": "stream",
          "text": [
            "\r 19%|█▉        | 64/335 [07:48<27:59,  6.20s/it]"
          ]
        },
        {
          "name": "stdout",
          "output_type": "stream",
          "text": [
            "1/1 [==============================] - 0s 138ms/step\n"
          ]
        },
        {
          "name": "stderr",
          "output_type": "stream",
          "text": [
            "\r 19%|█▉        | 65/335 [07:55<28:55,  6.43s/it]"
          ]
        },
        {
          "name": "stdout",
          "output_type": "stream",
          "text": [
            "1/1 [==============================] - 0s 144ms/step\n"
          ]
        },
        {
          "name": "stderr",
          "output_type": "stream",
          "text": [
            "\r 20%|█▉        | 66/335 [08:01<28:08,  6.28s/it]"
          ]
        },
        {
          "name": "stdout",
          "output_type": "stream",
          "text": [
            "1/1 [==============================] - 0s 237ms/step\n"
          ]
        },
        {
          "name": "stderr",
          "output_type": "stream",
          "text": [
            "\r 20%|██        | 67/335 [08:08<30:12,  6.76s/it]"
          ]
        },
        {
          "name": "stdout",
          "output_type": "stream",
          "text": [
            "1/1 [==============================] - 0s 146ms/step\n"
          ]
        },
        {
          "name": "stderr",
          "output_type": "stream",
          "text": [
            "\r 20%|██        | 68/335 [08:15<29:23,  6.61s/it]"
          ]
        },
        {
          "name": "stdout",
          "output_type": "stream",
          "text": [
            "1/1 [==============================] - 0s 139ms/step\n"
          ]
        },
        {
          "name": "stderr",
          "output_type": "stream",
          "text": [
            "\r 21%|██        | 69/335 [08:22<30:01,  6.77s/it]"
          ]
        },
        {
          "name": "stdout",
          "output_type": "stream",
          "text": [
            "1/1 [==============================] - 0s 137ms/step\n"
          ]
        },
        {
          "name": "stderr",
          "output_type": "stream",
          "text": [
            "\r 21%|██        | 70/335 [08:28<28:36,  6.48s/it]"
          ]
        },
        {
          "name": "stdout",
          "output_type": "stream",
          "text": [
            "1/1 [==============================] - 0s 135ms/step\n"
          ]
        },
        {
          "name": "stderr",
          "output_type": "stream",
          "text": [
            "\r 21%|██        | 71/335 [08:35<29:11,  6.63s/it]"
          ]
        },
        {
          "name": "stdout",
          "output_type": "stream",
          "text": [
            "1/1 [==============================] - 0s 139ms/step\n"
          ]
        },
        {
          "name": "stderr",
          "output_type": "stream",
          "text": [
            "\r 21%|██▏       | 72/335 [08:40<27:50,  6.35s/it]"
          ]
        },
        {
          "name": "stdout",
          "output_type": "stream",
          "text": [
            "1/1 [==============================] - 0s 139ms/step\n"
          ]
        },
        {
          "name": "stderr",
          "output_type": "stream",
          "text": [
            "\r 22%|██▏       | 73/335 [08:47<28:14,  6.47s/it]"
          ]
        },
        {
          "name": "stdout",
          "output_type": "stream",
          "text": [
            "1/1 [==============================] - 0s 143ms/step\n"
          ]
        },
        {
          "name": "stderr",
          "output_type": "stream",
          "text": [
            "\r 22%|██▏       | 74/335 [08:53<28:01,  6.44s/it]"
          ]
        },
        {
          "name": "stdout",
          "output_type": "stream",
          "text": [
            "1/1 [==============================] - 0s 142ms/step\n"
          ]
        },
        {
          "name": "stderr",
          "output_type": "stream",
          "text": [
            "\r 22%|██▏       | 75/335 [09:00<28:02,  6.47s/it]"
          ]
        },
        {
          "name": "stdout",
          "output_type": "stream",
          "text": [
            "1/1 [==============================] - 0s 138ms/step\n"
          ]
        },
        {
          "name": "stderr",
          "output_type": "stream",
          "text": [
            "\r 23%|██▎       | 76/335 [09:05<26:29,  6.14s/it]"
          ]
        },
        {
          "name": "stdout",
          "output_type": "stream",
          "text": [
            "1/1 [==============================] - 0s 144ms/step\n"
          ]
        },
        {
          "name": "stderr",
          "output_type": "stream",
          "text": [
            "\r 23%|██▎       | 77/335 [09:12<27:09,  6.31s/it]"
          ]
        },
        {
          "name": "stdout",
          "output_type": "stream",
          "text": [
            "1/1 [==============================] - 0s 134ms/step\n"
          ]
        },
        {
          "name": "stderr",
          "output_type": "stream",
          "text": [
            "\r 23%|██▎       | 78/335 [09:18<26:18,  6.14s/it]"
          ]
        },
        {
          "name": "stdout",
          "output_type": "stream",
          "text": [
            "1/1 [==============================] - 0s 141ms/step\n"
          ]
        },
        {
          "name": "stderr",
          "output_type": "stream",
          "text": [
            "\r 24%|██▎       | 79/335 [09:24<26:14,  6.15s/it]"
          ]
        },
        {
          "name": "stdout",
          "output_type": "stream",
          "text": [
            "1/1 [==============================] - 0s 132ms/step\n"
          ]
        },
        {
          "name": "stderr",
          "output_type": "stream",
          "text": [
            "\r 24%|██▍       | 80/335 [09:30<26:22,  6.21s/it]"
          ]
        },
        {
          "name": "stdout",
          "output_type": "stream",
          "text": [
            "1/1 [==============================] - 0s 147ms/step\n"
          ]
        },
        {
          "name": "stderr",
          "output_type": "stream",
          "text": [
            "\r 24%|██▍       | 81/335 [09:38<27:33,  6.51s/it]"
          ]
        },
        {
          "name": "stdout",
          "output_type": "stream",
          "text": [
            "1/1 [==============================] - 0s 132ms/step\n"
          ]
        },
        {
          "name": "stderr",
          "output_type": "stream",
          "text": [
            "\r 24%|██▍       | 82/335 [09:43<26:38,  6.32s/it]"
          ]
        },
        {
          "name": "stdout",
          "output_type": "stream",
          "text": [
            "1/1 [==============================] - 0s 135ms/step\n"
          ]
        },
        {
          "name": "stderr",
          "output_type": "stream",
          "text": [
            "\r 25%|██▍       | 83/335 [09:51<28:04,  6.69s/it]"
          ]
        },
        {
          "name": "stdout",
          "output_type": "stream",
          "text": [
            "1/1 [==============================] - 0s 137ms/step\n"
          ]
        },
        {
          "name": "stderr",
          "output_type": "stream",
          "text": [
            "\r 25%|██▌       | 84/335 [09:57<26:37,  6.36s/it]"
          ]
        },
        {
          "name": "stdout",
          "output_type": "stream",
          "text": [
            "1/1 [==============================] - 0s 154ms/step\n"
          ]
        },
        {
          "name": "stderr",
          "output_type": "stream",
          "text": [
            "\r 25%|██▌       | 85/335 [10:04<27:47,  6.67s/it]"
          ]
        },
        {
          "name": "stdout",
          "output_type": "stream",
          "text": [
            "1/1 [==============================] - 0s 148ms/step\n"
          ]
        },
        {
          "name": "stderr",
          "output_type": "stream",
          "text": [
            "\r 26%|██▌       | 86/335 [10:10<27:00,  6.51s/it]"
          ]
        },
        {
          "name": "stdout",
          "output_type": "stream",
          "text": [
            "1/1 [==============================] - 0s 133ms/step\n"
          ]
        },
        {
          "name": "stderr",
          "output_type": "stream",
          "text": [
            "\r 26%|██▌       | 87/335 [10:17<27:23,  6.63s/it]"
          ]
        },
        {
          "name": "stdout",
          "output_type": "stream",
          "text": [
            "1/1 [==============================] - 0s 141ms/step\n"
          ]
        },
        {
          "name": "stderr",
          "output_type": "stream",
          "text": [
            "\r 26%|██▋       | 88/335 [10:23<26:13,  6.37s/it]"
          ]
        },
        {
          "name": "stdout",
          "output_type": "stream",
          "text": [
            "1/1 [==============================] - 0s 141ms/step\n"
          ]
        },
        {
          "name": "stderr",
          "output_type": "stream",
          "text": [
            "\r 27%|██▋       | 89/335 [10:30<26:55,  6.57s/it]"
          ]
        },
        {
          "name": "stdout",
          "output_type": "stream",
          "text": [
            "1/1 [==============================] - 0s 398ms/step\n"
          ]
        },
        {
          "name": "stderr",
          "output_type": "stream",
          "text": [
            "\r 27%|██▋       | 90/335 [10:40<31:06,  7.62s/it]"
          ]
        },
        {
          "name": "stdout",
          "output_type": "stream",
          "text": [
            "1/1 [==============================] - 0s 144ms/step\n"
          ]
        },
        {
          "name": "stderr",
          "output_type": "stream",
          "text": [
            "\r 27%|██▋       | 91/335 [10:47<30:43,  7.55s/it]"
          ]
        },
        {
          "name": "stdout",
          "output_type": "stream",
          "text": [
            "1/1 [==============================] - 0s 141ms/step\n"
          ]
        },
        {
          "name": "stderr",
          "output_type": "stream",
          "text": [
            "\r 27%|██▋       | 92/335 [10:55<30:16,  7.48s/it]"
          ]
        },
        {
          "name": "stdout",
          "output_type": "stream",
          "text": [
            "1/1 [==============================] - 0s 139ms/step\n"
          ]
        },
        {
          "name": "stderr",
          "output_type": "stream",
          "text": [
            "\r 28%|██▊       | 93/335 [11:00<28:13,  7.00s/it]"
          ]
        },
        {
          "name": "stdout",
          "output_type": "stream",
          "text": [
            "1/1 [==============================] - 0s 144ms/step\n"
          ]
        },
        {
          "name": "stderr",
          "output_type": "stream",
          "text": [
            "\r 28%|██▊       | 94/335 [11:07<28:04,  6.99s/it]"
          ]
        },
        {
          "name": "stdout",
          "output_type": "stream",
          "text": [
            "1/1 [==============================] - 0s 152ms/step\n"
          ]
        },
        {
          "name": "stderr",
          "output_type": "stream",
          "text": [
            "\r 28%|██▊       | 95/335 [11:13<26:32,  6.64s/it]"
          ]
        },
        {
          "name": "stdout",
          "output_type": "stream",
          "text": [
            "1/1 [==============================] - 0s 136ms/step\n"
          ]
        },
        {
          "name": "stderr",
          "output_type": "stream",
          "text": [
            "\r 29%|██▊       | 96/335 [11:36<45:41, 11.47s/it]"
          ]
        },
        {
          "name": "stdout",
          "output_type": "stream",
          "text": [
            "1/1 [==============================] - 0s 134ms/step\n"
          ]
        },
        {
          "name": "stderr",
          "output_type": "stream",
          "text": [
            "\r 29%|██▉       | 97/335 [11:44<41:14, 10.40s/it]"
          ]
        },
        {
          "name": "stdout",
          "output_type": "stream",
          "text": [
            "1/1 [==============================] - 0s 132ms/step\n"
          ]
        },
        {
          "name": "stderr",
          "output_type": "stream",
          "text": [
            "\r 29%|██▉       | 98/335 [11:50<35:29,  8.99s/it]"
          ]
        },
        {
          "name": "stdout",
          "output_type": "stream",
          "text": [
            "1/1 [==============================] - 0s 266ms/step\n"
          ]
        },
        {
          "name": "stderr",
          "output_type": "stream",
          "text": [
            "\r 30%|██▉       | 99/335 [11:57<33:06,  8.42s/it]"
          ]
        },
        {
          "name": "stdout",
          "output_type": "stream",
          "text": [
            "1/1 [==============================] - 0s 143ms/step\n"
          ]
        },
        {
          "name": "stderr",
          "output_type": "stream",
          "text": [
            "\r 30%|██▉       | 100/335 [12:02<29:42,  7.59s/it]"
          ]
        },
        {
          "name": "stdout",
          "output_type": "stream",
          "text": [
            "1/1 [==============================] - 0s 246ms/step\n"
          ]
        },
        {
          "name": "stderr",
          "output_type": "stream",
          "text": [
            "\r 30%|███       | 101/335 [12:09<28:17,  7.25s/it]"
          ]
        },
        {
          "name": "stdout",
          "output_type": "stream",
          "text": [
            "1/1 [==============================] - 0s 142ms/step\n"
          ]
        },
        {
          "name": "stderr",
          "output_type": "stream",
          "text": [
            "\r 30%|███       | 102/335 [12:15<26:31,  6.83s/it]"
          ]
        },
        {
          "name": "stdout",
          "output_type": "stream",
          "text": [
            "1/1 [==============================] - 0s 133ms/step\n"
          ]
        },
        {
          "name": "stderr",
          "output_type": "stream",
          "text": [
            "\r 31%|███       | 103/335 [12:21<26:09,  6.77s/it]"
          ]
        },
        {
          "name": "stdout",
          "output_type": "stream",
          "text": [
            "1/1 [==============================] - 0s 142ms/step\n"
          ]
        },
        {
          "name": "stderr",
          "output_type": "stream",
          "text": [
            "\r 31%|███       | 104/335 [12:27<25:21,  6.59s/it]"
          ]
        },
        {
          "name": "stdout",
          "output_type": "stream",
          "text": [
            "1/1 [==============================] - 0s 131ms/step\n"
          ]
        },
        {
          "name": "stderr",
          "output_type": "stream",
          "text": [
            "\r 31%|███▏      | 105/335 [12:34<25:33,  6.67s/it]"
          ]
        },
        {
          "name": "stdout",
          "output_type": "stream",
          "text": [
            "1/1 [==============================] - 0s 135ms/step\n"
          ]
        },
        {
          "name": "stderr",
          "output_type": "stream",
          "text": [
            "\r 32%|███▏      | 106/335 [12:40<24:46,  6.49s/it]"
          ]
        },
        {
          "name": "stdout",
          "output_type": "stream",
          "text": [
            "1/1 [==============================] - 0s 241ms/step\n"
          ]
        },
        {
          "name": "stderr",
          "output_type": "stream",
          "text": [
            "\r 32%|███▏      | 107/335 [12:48<25:44,  6.77s/it]"
          ]
        },
        {
          "name": "stdout",
          "output_type": "stream",
          "text": [
            "1/1 [==============================] - 0s 142ms/step\n"
          ]
        },
        {
          "name": "stderr",
          "output_type": "stream",
          "text": [
            "\r 32%|███▏      | 108/335 [12:54<24:37,  6.51s/it]"
          ]
        },
        {
          "name": "stdout",
          "output_type": "stream",
          "text": [
            "1/1 [==============================] - 0s 264ms/step\n"
          ]
        },
        {
          "name": "stderr",
          "output_type": "stream",
          "text": [
            "\r 33%|███▎      | 109/335 [13:00<24:07,  6.40s/it]"
          ]
        },
        {
          "name": "stdout",
          "output_type": "stream",
          "text": [
            "1/1 [==============================] - 0s 142ms/step\n"
          ]
        },
        {
          "name": "stderr",
          "output_type": "stream",
          "text": [
            "\r 33%|███▎      | 110/335 [13:05<22:51,  6.09s/it]"
          ]
        },
        {
          "name": "stdout",
          "output_type": "stream",
          "text": [
            "1/1 [==============================] - 0s 139ms/step\n"
          ]
        },
        {
          "name": "stderr",
          "output_type": "stream",
          "text": [
            "\r 33%|███▎      | 111/335 [13:12<23:25,  6.27s/it]"
          ]
        },
        {
          "name": "stdout",
          "output_type": "stream",
          "text": [
            "1/1 [==============================] - 0s 139ms/step\n"
          ]
        },
        {
          "name": "stderr",
          "output_type": "stream",
          "text": [
            "\r 33%|███▎      | 112/335 [13:17<22:31,  6.06s/it]"
          ]
        },
        {
          "name": "stdout",
          "output_type": "stream",
          "text": [
            "1/1 [==============================] - 0s 157ms/step\n"
          ]
        },
        {
          "name": "stderr",
          "output_type": "stream",
          "text": [
            "\r 34%|███▎      | 113/335 [13:24<22:33,  6.10s/it]"
          ]
        },
        {
          "name": "stdout",
          "output_type": "stream",
          "text": [
            "1/1 [==============================] - 0s 142ms/step\n"
          ]
        },
        {
          "name": "stderr",
          "output_type": "stream",
          "text": [
            "\r 34%|███▍      | 114/335 [13:29<21:53,  5.94s/it]"
          ]
        },
        {
          "name": "stdout",
          "output_type": "stream",
          "text": [
            "1/1 [==============================] - 0s 234ms/step\n"
          ]
        },
        {
          "name": "stderr",
          "output_type": "stream",
          "text": [
            "\r 34%|███▍      | 115/335 [13:36<22:14,  6.06s/it]"
          ]
        },
        {
          "name": "stdout",
          "output_type": "stream",
          "text": [
            "1/1 [==============================] - 0s 135ms/step\n"
          ]
        },
        {
          "name": "stderr",
          "output_type": "stream",
          "text": [
            "\r 35%|███▍      | 116/335 [13:41<21:18,  5.84s/it]"
          ]
        },
        {
          "name": "stdout",
          "output_type": "stream",
          "text": [
            "1/1 [==============================] - 0s 141ms/step\n"
          ]
        },
        {
          "name": "stderr",
          "output_type": "stream",
          "text": [
            "\r 35%|███▍      | 117/335 [13:47<21:56,  6.04s/it]"
          ]
        },
        {
          "name": "stdout",
          "output_type": "stream",
          "text": [
            "1/1 [==============================] - 0s 164ms/step\n"
          ]
        },
        {
          "name": "stderr",
          "output_type": "stream",
          "text": [
            "\r 35%|███▌      | 118/335 [13:53<21:31,  5.95s/it]"
          ]
        },
        {
          "name": "stdout",
          "output_type": "stream",
          "text": [
            "1/1 [==============================] - 0s 268ms/step\n"
          ]
        },
        {
          "name": "stderr",
          "output_type": "stream",
          "text": [
            "\r 36%|███▌      | 119/335 [14:00<22:25,  6.23s/it]"
          ]
        },
        {
          "name": "stdout",
          "output_type": "stream",
          "text": [
            "1/1 [==============================] - 0s 133ms/step\n"
          ]
        },
        {
          "name": "stderr",
          "output_type": "stream",
          "text": [
            "\r 36%|███▌      | 120/335 [14:06<22:06,  6.17s/it]"
          ]
        },
        {
          "name": "stdout",
          "output_type": "stream",
          "text": [
            "1/1 [==============================] - 0s 133ms/step\n"
          ]
        },
        {
          "name": "stderr",
          "output_type": "stream",
          "text": [
            "\r 36%|███▌      | 121/335 [14:13<22:48,  6.39s/it]"
          ]
        },
        {
          "name": "stdout",
          "output_type": "stream",
          "text": [
            "1/1 [==============================] - 0s 163ms/step\n"
          ]
        },
        {
          "name": "stderr",
          "output_type": "stream",
          "text": [
            "\r 36%|███▋      | 122/335 [14:21<24:10,  6.81s/it]"
          ]
        },
        {
          "name": "stdout",
          "output_type": "stream",
          "text": [
            "1/1 [==============================] - 0s 149ms/step\n"
          ]
        },
        {
          "name": "stderr",
          "output_type": "stream",
          "text": [
            "\r 37%|███▋      | 123/335 [14:26<22:33,  6.38s/it]"
          ]
        },
        {
          "name": "stdout",
          "output_type": "stream",
          "text": [
            "1/1 [==============================] - 0s 134ms/step\n"
          ]
        },
        {
          "name": "stderr",
          "output_type": "stream",
          "text": [
            "\r 37%|███▋      | 124/335 [14:32<22:26,  6.38s/it]"
          ]
        },
        {
          "name": "stdout",
          "output_type": "stream",
          "text": [
            "1/1 [==============================] - 0s 133ms/step\n"
          ]
        },
        {
          "name": "stderr",
          "output_type": "stream",
          "text": [
            "\r 37%|███▋      | 125/335 [14:38<21:38,  6.18s/it]"
          ]
        },
        {
          "name": "stdout",
          "output_type": "stream",
          "text": [
            "1/1 [==============================] - 0s 131ms/step\n"
          ]
        },
        {
          "name": "stderr",
          "output_type": "stream",
          "text": [
            "\r 38%|███▊      | 126/335 [14:45<22:14,  6.38s/it]"
          ]
        },
        {
          "name": "stdout",
          "output_type": "stream",
          "text": [
            "1/1 [==============================] - 0s 133ms/step\n"
          ]
        },
        {
          "name": "stderr",
          "output_type": "stream",
          "text": [
            "\r 38%|███▊      | 127/335 [14:51<21:20,  6.15s/it]"
          ]
        },
        {
          "name": "stdout",
          "output_type": "stream",
          "text": [
            "1/1 [==============================] - 0s 135ms/step\n"
          ]
        },
        {
          "name": "stderr",
          "output_type": "stream",
          "text": [
            "\r 38%|███▊      | 128/335 [14:57<21:02,  6.10s/it]"
          ]
        },
        {
          "name": "stdout",
          "output_type": "stream",
          "text": [
            "1/1 [==============================] - 0s 135ms/step\n"
          ]
        },
        {
          "name": "stderr",
          "output_type": "stream",
          "text": [
            "\r 39%|███▊      | 129/335 [15:02<20:14,  5.90s/it]"
          ]
        },
        {
          "name": "stdout",
          "output_type": "stream",
          "text": [
            "1/1 [==============================] - 0s 148ms/step\n"
          ]
        },
        {
          "name": "stderr",
          "output_type": "stream",
          "text": [
            "\r 39%|███▉      | 130/335 [15:09<21:16,  6.23s/it]"
          ]
        },
        {
          "name": "stdout",
          "output_type": "stream",
          "text": [
            "1/1 [==============================] - 0s 145ms/step\n"
          ]
        },
        {
          "name": "stderr",
          "output_type": "stream",
          "text": [
            "\r 39%|███▉      | 131/335 [15:15<20:50,  6.13s/it]"
          ]
        },
        {
          "name": "stdout",
          "output_type": "stream",
          "text": [
            "1/1 [==============================] - 0s 135ms/step\n"
          ]
        },
        {
          "name": "stderr",
          "output_type": "stream",
          "text": [
            "\r 39%|███▉      | 132/335 [15:21<20:56,  6.19s/it]"
          ]
        },
        {
          "name": "stdout",
          "output_type": "stream",
          "text": [
            "1/1 [==============================] - 0s 139ms/step\n"
          ]
        },
        {
          "name": "stderr",
          "output_type": "stream",
          "text": [
            "\r 40%|███▉      | 133/335 [15:27<20:03,  5.96s/it]"
          ]
        },
        {
          "name": "stdout",
          "output_type": "stream",
          "text": [
            "1/1 [==============================] - 0s 138ms/step\n"
          ]
        },
        {
          "name": "stderr",
          "output_type": "stream",
          "text": [
            "\r 40%|████      | 134/335 [15:33<20:24,  6.09s/it]"
          ]
        },
        {
          "name": "stdout",
          "output_type": "stream",
          "text": [
            "1/1 [==============================] - 0s 135ms/step\n"
          ]
        },
        {
          "name": "stderr",
          "output_type": "stream",
          "text": [
            "\r 40%|████      | 135/335 [15:39<20:09,  6.05s/it]"
          ]
        },
        {
          "name": "stdout",
          "output_type": "stream",
          "text": [
            "1/1 [==============================] - 0s 148ms/step\n"
          ]
        },
        {
          "name": "stderr",
          "output_type": "stream",
          "text": [
            "\r 41%|████      | 136/335 [15:46<20:36,  6.21s/it]"
          ]
        },
        {
          "name": "stdout",
          "output_type": "stream",
          "text": [
            "1/1 [==============================] - 0s 137ms/step\n"
          ]
        },
        {
          "name": "stderr",
          "output_type": "stream",
          "text": [
            "\r 41%|████      | 137/335 [15:52<20:14,  6.13s/it]"
          ]
        },
        {
          "name": "stdout",
          "output_type": "stream",
          "text": [
            "1/1 [==============================] - 0s 141ms/step\n"
          ]
        },
        {
          "name": "stderr",
          "output_type": "stream",
          "text": [
            "\r 41%|████      | 138/335 [15:59<20:55,  6.37s/it]"
          ]
        },
        {
          "name": "stdout",
          "output_type": "stream",
          "text": [
            "1/1 [==============================] - 0s 144ms/step\n"
          ]
        },
        {
          "name": "stderr",
          "output_type": "stream",
          "text": [
            "\r 41%|████▏     | 139/335 [16:04<20:17,  6.21s/it]"
          ]
        },
        {
          "name": "stdout",
          "output_type": "stream",
          "text": [
            "1/1 [==============================] - 0s 133ms/step\n"
          ]
        },
        {
          "name": "stderr",
          "output_type": "stream",
          "text": [
            "\r 42%|████▏     | 140/335 [16:11<20:19,  6.25s/it]"
          ]
        },
        {
          "name": "stdout",
          "output_type": "stream",
          "text": [
            "1/1 [==============================] - 0s 154ms/step\n"
          ]
        },
        {
          "name": "stderr",
          "output_type": "stream",
          "text": [
            "\r 42%|████▏     | 141/335 [16:17<19:57,  6.17s/it]"
          ]
        },
        {
          "name": "stdout",
          "output_type": "stream",
          "text": [
            "1/1 [==============================] - 0s 156ms/step\n"
          ]
        },
        {
          "name": "stderr",
          "output_type": "stream",
          "text": [
            "\r 42%|████▏     | 142/335 [16:24<21:01,  6.54s/it]"
          ]
        },
        {
          "name": "stdout",
          "output_type": "stream",
          "text": [
            "1/1 [==============================] - 0s 146ms/step\n"
          ]
        },
        {
          "name": "stderr",
          "output_type": "stream",
          "text": [
            "\r 43%|████▎     | 143/335 [16:30<20:27,  6.39s/it]"
          ]
        },
        {
          "name": "stdout",
          "output_type": "stream",
          "text": [
            "1/1 [==============================] - 0s 257ms/step\n"
          ]
        },
        {
          "name": "stderr",
          "output_type": "stream",
          "text": [
            "\r 43%|████▎     | 144/335 [16:36<20:09,  6.33s/it]"
          ]
        },
        {
          "name": "stdout",
          "output_type": "stream",
          "text": [
            "1/1 [==============================] - 0s 151ms/step\n"
          ]
        },
        {
          "name": "stderr",
          "output_type": "stream",
          "text": [
            "\r 43%|████▎     | 145/335 [16:42<19:51,  6.27s/it]"
          ]
        },
        {
          "name": "stdout",
          "output_type": "stream",
          "text": [
            "1/1 [==============================] - 0s 154ms/step\n"
          ]
        },
        {
          "name": "stderr",
          "output_type": "stream",
          "text": [
            "\r 44%|████▎     | 146/335 [16:49<19:50,  6.30s/it]"
          ]
        },
        {
          "name": "stdout",
          "output_type": "stream",
          "text": [
            "1/1 [==============================] - 0s 134ms/step\n"
          ]
        },
        {
          "name": "stderr",
          "output_type": "stream",
          "text": [
            "\r 44%|████▍     | 147/335 [16:55<19:36,  6.26s/it]"
          ]
        },
        {
          "name": "stdout",
          "output_type": "stream",
          "text": [
            "1/1 [==============================] - 0s 148ms/step\n"
          ]
        },
        {
          "name": "stderr",
          "output_type": "stream",
          "text": [
            "\r 44%|████▍     | 148/335 [17:02<20:18,  6.51s/it]"
          ]
        },
        {
          "name": "stdout",
          "output_type": "stream",
          "text": [
            "1/1 [==============================] - 0s 135ms/step\n"
          ]
        },
        {
          "name": "stderr",
          "output_type": "stream",
          "text": [
            "\r 44%|████▍     | 149/335 [17:08<19:29,  6.29s/it]"
          ]
        },
        {
          "name": "stdout",
          "output_type": "stream",
          "text": [
            "1/1 [==============================] - 0s 133ms/step\n"
          ]
        },
        {
          "name": "stderr",
          "output_type": "stream",
          "text": [
            "\r 45%|████▍     | 150/335 [17:14<19:04,  6.18s/it]"
          ]
        },
        {
          "name": "stdout",
          "output_type": "stream",
          "text": [
            "1/1 [==============================] - 0s 136ms/step\n"
          ]
        },
        {
          "name": "stderr",
          "output_type": "stream",
          "text": [
            "\r 45%|████▌     | 151/335 [17:20<18:40,  6.09s/it]"
          ]
        },
        {
          "name": "stdout",
          "output_type": "stream",
          "text": [
            "1/1 [==============================] - 0s 170ms/step\n"
          ]
        },
        {
          "name": "stderr",
          "output_type": "stream",
          "text": [
            "\r 45%|████▌     | 152/335 [17:27<19:33,  6.42s/it]"
          ]
        },
        {
          "name": "stdout",
          "output_type": "stream",
          "text": [
            "1/1 [==============================] - 0s 146ms/step\n"
          ]
        },
        {
          "name": "stderr",
          "output_type": "stream",
          "text": [
            "\r 46%|████▌     | 153/335 [17:33<19:25,  6.40s/it]"
          ]
        },
        {
          "name": "stdout",
          "output_type": "stream",
          "text": [
            "1/1 [==============================] - 0s 137ms/step\n"
          ]
        },
        {
          "name": "stderr",
          "output_type": "stream",
          "text": [
            "\r 46%|████▌     | 154/335 [17:39<19:06,  6.33s/it]"
          ]
        },
        {
          "name": "stdout",
          "output_type": "stream",
          "text": [
            "1/1 [==============================] - 0s 156ms/step\n"
          ]
        },
        {
          "name": "stderr",
          "output_type": "stream",
          "text": [
            "\r 46%|████▋     | 155/335 [17:46<19:31,  6.51s/it]"
          ]
        },
        {
          "name": "stdout",
          "output_type": "stream",
          "text": [
            "1/1 [==============================] - 0s 136ms/step\n"
          ]
        },
        {
          "name": "stderr",
          "output_type": "stream",
          "text": [
            "\r 47%|████▋     | 156/335 [17:52<18:38,  6.25s/it]"
          ]
        },
        {
          "name": "stdout",
          "output_type": "stream",
          "text": [
            "1/1 [==============================] - 0s 156ms/step\n"
          ]
        },
        {
          "name": "stderr",
          "output_type": "stream",
          "text": [
            "\r 47%|████▋     | 157/335 [17:59<18:54,  6.37s/it]"
          ]
        },
        {
          "name": "stdout",
          "output_type": "stream",
          "text": [
            "1/1 [==============================] - 0s 138ms/step\n"
          ]
        },
        {
          "name": "stderr",
          "output_type": "stream",
          "text": [
            "\r 47%|████▋     | 158/335 [18:05<19:00,  6.44s/it]"
          ]
        },
        {
          "name": "stdout",
          "output_type": "stream",
          "text": [
            "1/1 [==============================] - 0s 267ms/step\n"
          ]
        },
        {
          "name": "stderr",
          "output_type": "stream",
          "text": [
            "\r 47%|████▋     | 159/335 [18:12<19:24,  6.61s/it]"
          ]
        },
        {
          "name": "stdout",
          "output_type": "stream",
          "text": [
            "1/1 [==============================] - 0s 132ms/step\n"
          ]
        },
        {
          "name": "stderr",
          "output_type": "stream",
          "text": [
            "\r 48%|████▊     | 160/335 [18:18<18:10,  6.23s/it]"
          ]
        },
        {
          "name": "stdout",
          "output_type": "stream",
          "text": [
            "1/1 [==============================] - 0s 260ms/step\n"
          ]
        },
        {
          "name": "stderr",
          "output_type": "stream",
          "text": [
            "\r 48%|████▊     | 161/335 [18:25<19:13,  6.63s/it]"
          ]
        },
        {
          "name": "stdout",
          "output_type": "stream",
          "text": [
            "1/1 [==============================] - 0s 155ms/step\n"
          ]
        },
        {
          "name": "stderr",
          "output_type": "stream",
          "text": [
            "\r 48%|████▊     | 162/335 [18:33<20:04,  6.96s/it]"
          ]
        },
        {
          "name": "stdout",
          "output_type": "stream",
          "text": [
            "1/1 [==============================] - 0s 164ms/step\n"
          ]
        },
        {
          "name": "stderr",
          "output_type": "stream",
          "text": [
            "\r 49%|████▊     | 163/335 [18:38<18:42,  6.53s/it]"
          ]
        },
        {
          "name": "stdout",
          "output_type": "stream",
          "text": [
            "1/1 [==============================] - 0s 135ms/step\n"
          ]
        },
        {
          "name": "stderr",
          "output_type": "stream",
          "text": [
            "\r 49%|████▉     | 164/335 [18:45<18:59,  6.67s/it]"
          ]
        },
        {
          "name": "stdout",
          "output_type": "stream",
          "text": [
            "1/1 [==============================] - 0s 136ms/step\n"
          ]
        },
        {
          "name": "stderr",
          "output_type": "stream",
          "text": [
            "\r 49%|████▉     | 165/335 [18:51<18:03,  6.37s/it]"
          ]
        },
        {
          "name": "stdout",
          "output_type": "stream",
          "text": [
            "1/1 [==============================] - 0s 155ms/step\n"
          ]
        },
        {
          "name": "stderr",
          "output_type": "stream",
          "text": [
            "\r 50%|████▉     | 166/335 [18:58<18:26,  6.55s/it]"
          ]
        },
        {
          "name": "stdout",
          "output_type": "stream",
          "text": [
            "1/1 [==============================] - 0s 137ms/step\n"
          ]
        },
        {
          "name": "stderr",
          "output_type": "stream",
          "text": [
            "\r 50%|████▉     | 167/335 [19:04<17:29,  6.24s/it]"
          ]
        },
        {
          "name": "stdout",
          "output_type": "stream",
          "text": [
            "1/1 [==============================] - 0s 156ms/step\n"
          ]
        },
        {
          "name": "stderr",
          "output_type": "stream",
          "text": [
            "\r 50%|█████     | 168/335 [19:10<17:28,  6.28s/it]"
          ]
        },
        {
          "name": "stdout",
          "output_type": "stream",
          "text": [
            "1/1 [==============================] - 0s 153ms/step\n"
          ]
        },
        {
          "name": "stderr",
          "output_type": "stream",
          "text": [
            "\r 50%|█████     | 169/335 [19:16<17:13,  6.22s/it]"
          ]
        },
        {
          "name": "stdout",
          "output_type": "stream",
          "text": [
            "1/1 [==============================] - 0s 134ms/step\n"
          ]
        },
        {
          "name": "stderr",
          "output_type": "stream",
          "text": [
            "\r 51%|█████     | 170/335 [19:22<17:14,  6.27s/it]"
          ]
        },
        {
          "name": "stdout",
          "output_type": "stream",
          "text": [
            "1/1 [==============================] - 0s 135ms/step\n"
          ]
        },
        {
          "name": "stderr",
          "output_type": "stream",
          "text": [
            "\r 51%|█████     | 171/335 [19:28<16:19,  5.97s/it]"
          ]
        },
        {
          "name": "stdout",
          "output_type": "stream",
          "text": [
            "1/1 [==============================] - 0s 158ms/step\n"
          ]
        },
        {
          "name": "stderr",
          "output_type": "stream",
          "text": [
            "\r 51%|█████▏    | 172/335 [19:35<16:59,  6.25s/it]"
          ]
        },
        {
          "name": "stdout",
          "output_type": "stream",
          "text": [
            "1/1 [==============================] - 0s 175ms/step\n"
          ]
        },
        {
          "name": "stderr",
          "output_type": "stream",
          "text": [
            "\r 52%|█████▏    | 173/335 [19:40<16:28,  6.10s/it]"
          ]
        },
        {
          "name": "stdout",
          "output_type": "stream",
          "text": [
            "1/1 [==============================] - 0s 140ms/step\n"
          ]
        },
        {
          "name": "stderr",
          "output_type": "stream",
          "text": [
            "\r 52%|█████▏    | 174/335 [19:47<16:38,  6.20s/it]"
          ]
        },
        {
          "name": "stdout",
          "output_type": "stream",
          "text": [
            "1/1 [==============================] - 0s 133ms/step\n"
          ]
        },
        {
          "name": "stderr",
          "output_type": "stream",
          "text": [
            "\r 52%|█████▏    | 175/335 [19:53<16:10,  6.06s/it]"
          ]
        },
        {
          "name": "stdout",
          "output_type": "stream",
          "text": [
            "1/1 [==============================] - 0s 143ms/step\n"
          ]
        },
        {
          "name": "stderr",
          "output_type": "stream",
          "text": [
            "\r 53%|█████▎    | 176/335 [19:59<16:37,  6.27s/it]"
          ]
        },
        {
          "name": "stdout",
          "output_type": "stream",
          "text": [
            "1/1 [==============================] - 0s 159ms/step\n"
          ]
        },
        {
          "name": "stderr",
          "output_type": "stream",
          "text": [
            "\r 53%|█████▎    | 177/335 [20:05<16:06,  6.12s/it]"
          ]
        },
        {
          "name": "stdout",
          "output_type": "stream",
          "text": [
            "1/1 [==============================] - 0s 307ms/step\n"
          ]
        },
        {
          "name": "stderr",
          "output_type": "stream",
          "text": [
            "\r 53%|█████▎    | 178/335 [20:12<16:43,  6.39s/it]"
          ]
        },
        {
          "name": "stdout",
          "output_type": "stream",
          "text": [
            "1/1 [==============================] - 0s 136ms/step\n"
          ]
        },
        {
          "name": "stderr",
          "output_type": "stream",
          "text": [
            "\r 53%|█████▎    | 179/335 [20:18<16:10,  6.22s/it]"
          ]
        },
        {
          "name": "stdout",
          "output_type": "stream",
          "text": [
            "1/1 [==============================] - 0s 132ms/step\n"
          ]
        },
        {
          "name": "stderr",
          "output_type": "stream",
          "text": [
            "\r 54%|█████▎    | 180/335 [20:25<16:30,  6.39s/it]"
          ]
        },
        {
          "name": "stdout",
          "output_type": "stream",
          "text": [
            "1/1 [==============================] - 0s 144ms/step\n"
          ]
        },
        {
          "name": "stderr",
          "output_type": "stream",
          "text": [
            "\r 54%|█████▍    | 181/335 [20:31<16:04,  6.26s/it]"
          ]
        },
        {
          "name": "stdout",
          "output_type": "stream",
          "text": [
            "1/1 [==============================] - 0s 139ms/step\n"
          ]
        },
        {
          "name": "stderr",
          "output_type": "stream",
          "text": [
            "\r 54%|█████▍    | 182/335 [20:37<16:01,  6.28s/it]"
          ]
        },
        {
          "name": "stdout",
          "output_type": "stream",
          "text": [
            "1/1 [==============================] - 0s 152ms/step\n"
          ]
        },
        {
          "name": "stderr",
          "output_type": "stream",
          "text": [
            "\r 55%|█████▍    | 183/335 [20:43<15:35,  6.15s/it]"
          ]
        },
        {
          "name": "stdout",
          "output_type": "stream",
          "text": [
            "1/1 [==============================] - 0s 146ms/step\n"
          ]
        },
        {
          "name": "stderr",
          "output_type": "stream",
          "text": [
            "\r 55%|█████▍    | 184/335 [20:50<16:03,  6.38s/it]"
          ]
        },
        {
          "name": "stdout",
          "output_type": "stream",
          "text": [
            "1/1 [==============================] - 0s 136ms/step\n"
          ]
        },
        {
          "name": "stderr",
          "output_type": "stream",
          "text": [
            "\r 55%|█████▌    | 185/335 [20:57<16:41,  6.68s/it]"
          ]
        },
        {
          "name": "stdout",
          "output_type": "stream",
          "text": [
            "1/1 [==============================] - 0s 156ms/step\n"
          ]
        },
        {
          "name": "stderr",
          "output_type": "stream",
          "text": [
            "\r 56%|█████▌    | 186/335 [21:03<16:05,  6.48s/it]"
          ]
        },
        {
          "name": "stdout",
          "output_type": "stream",
          "text": [
            "1/1 [==============================] - 0s 137ms/step\n"
          ]
        },
        {
          "name": "stderr",
          "output_type": "stream",
          "text": [
            "\r 56%|█████▌    | 187/335 [21:09<15:48,  6.41s/it]"
          ]
        },
        {
          "name": "stdout",
          "output_type": "stream",
          "text": [
            "1/1 [==============================] - 0s 138ms/step\n"
          ]
        },
        {
          "name": "stderr",
          "output_type": "stream",
          "text": [
            "\r 56%|█████▌    | 188/335 [21:15<15:13,  6.22s/it]"
          ]
        },
        {
          "name": "stdout",
          "output_type": "stream",
          "text": [
            "1/1 [==============================] - 0s 167ms/step\n"
          ]
        },
        {
          "name": "stderr",
          "output_type": "stream",
          "text": [
            "\r 56%|█████▋    | 189/335 [21:23<16:40,  6.85s/it]"
          ]
        },
        {
          "name": "stdout",
          "output_type": "stream",
          "text": [
            "1/1 [==============================] - 0s 158ms/step\n"
          ]
        },
        {
          "name": "stderr",
          "output_type": "stream",
          "text": [
            "\r 57%|█████▋    | 190/335 [21:30<16:20,  6.76s/it]"
          ]
        },
        {
          "name": "stdout",
          "output_type": "stream",
          "text": [
            "1/1 [==============================] - 0s 320ms/step\n"
          ]
        },
        {
          "name": "stderr",
          "output_type": "stream",
          "text": [
            "\r 57%|█████▋    | 191/335 [21:51<26:10, 10.90s/it]"
          ]
        },
        {
          "name": "stdout",
          "output_type": "stream",
          "text": [
            "1/1 [==============================] - 0s 136ms/step\n"
          ]
        },
        {
          "name": "stderr",
          "output_type": "stream",
          "text": [
            "\r 57%|█████▋    | 192/335 [21:58<23:25,  9.83s/it]"
          ]
        },
        {
          "name": "stdout",
          "output_type": "stream",
          "text": [
            "1/1 [==============================] - 0s 156ms/step\n"
          ]
        },
        {
          "name": "stderr",
          "output_type": "stream",
          "text": [
            "\r 58%|█████▊    | 193/335 [22:05<21:13,  8.97s/it]"
          ]
        },
        {
          "name": "stdout",
          "output_type": "stream",
          "text": [
            "1/1 [==============================] - 0s 155ms/step\n"
          ]
        },
        {
          "name": "stderr",
          "output_type": "stream",
          "text": [
            "\r 58%|█████▊    | 194/335 [22:11<19:06,  8.13s/it]"
          ]
        },
        {
          "name": "stdout",
          "output_type": "stream",
          "text": [
            "1/1 [==============================] - 0s 157ms/step\n"
          ]
        },
        {
          "name": "stderr",
          "output_type": "stream",
          "text": [
            "\r 58%|█████▊    | 195/335 [22:17<17:44,  7.60s/it]"
          ]
        },
        {
          "name": "stdout",
          "output_type": "stream",
          "text": [
            "1/1 [==============================] - 0s 135ms/step\n"
          ]
        },
        {
          "name": "stderr",
          "output_type": "stream",
          "text": [
            "\r 59%|█████▊    | 196/335 [22:24<17:09,  7.41s/it]"
          ]
        },
        {
          "name": "stdout",
          "output_type": "stream",
          "text": [
            "1/1 [==============================] - 0s 137ms/step\n"
          ]
        },
        {
          "name": "stderr",
          "output_type": "stream",
          "text": [
            "\r 59%|█████▉    | 197/335 [22:30<15:43,  6.84s/it]"
          ]
        },
        {
          "name": "stdout",
          "output_type": "stream",
          "text": [
            "1/1 [==============================] - 0s 160ms/step\n"
          ]
        },
        {
          "name": "stderr",
          "output_type": "stream",
          "text": [
            "\r 59%|█████▉    | 198/335 [22:37<16:01,  7.02s/it]"
          ]
        },
        {
          "name": "stdout",
          "output_type": "stream",
          "text": [
            "1/1 [==============================] - 0s 139ms/step\n"
          ]
        },
        {
          "name": "stderr",
          "output_type": "stream",
          "text": [
            "\r 59%|█████▉    | 199/335 [22:43<14:50,  6.55s/it]"
          ]
        },
        {
          "name": "stdout",
          "output_type": "stream",
          "text": [
            "1/1 [==============================] - 0s 176ms/step\n"
          ]
        },
        {
          "name": "stderr",
          "output_type": "stream",
          "text": [
            "\r 60%|█████▉    | 200/335 [22:50<14:59,  6.66s/it]"
          ]
        },
        {
          "name": "stdout",
          "output_type": "stream",
          "text": [
            "1/1 [==============================] - 0s 146ms/step\n"
          ]
        },
        {
          "name": "stderr",
          "output_type": "stream",
          "text": [
            "\r 60%|██████    | 201/335 [22:56<14:42,  6.59s/it]"
          ]
        },
        {
          "name": "stdout",
          "output_type": "stream",
          "text": [
            "1/1 [==============================] - 0s 244ms/step\n"
          ]
        },
        {
          "name": "stderr",
          "output_type": "stream",
          "text": [
            "\r 60%|██████    | 202/335 [23:03<14:36,  6.59s/it]"
          ]
        },
        {
          "name": "stdout",
          "output_type": "stream",
          "text": [
            "1/1 [==============================] - 0s 136ms/step\n"
          ]
        },
        {
          "name": "stderr",
          "output_type": "stream",
          "text": [
            "\r 61%|██████    | 203/335 [23:09<14:07,  6.42s/it]"
          ]
        },
        {
          "name": "stdout",
          "output_type": "stream",
          "text": [
            "1/1 [==============================] - 0s 230ms/step\n"
          ]
        },
        {
          "name": "stderr",
          "output_type": "stream",
          "text": [
            "\r 61%|██████    | 204/335 [23:16<14:25,  6.61s/it]"
          ]
        },
        {
          "name": "stdout",
          "output_type": "stream",
          "text": [
            "1/1 [==============================] - 0s 140ms/step\n"
          ]
        },
        {
          "name": "stderr",
          "output_type": "stream",
          "text": [
            "\r 61%|██████    | 205/335 [23:21<13:41,  6.32s/it]"
          ]
        },
        {
          "name": "stdout",
          "output_type": "stream",
          "text": [
            "1/1 [==============================] - 0s 137ms/step\n"
          ]
        },
        {
          "name": "stderr",
          "output_type": "stream",
          "text": [
            "\r 61%|██████▏   | 206/335 [23:29<14:14,  6.63s/it]"
          ]
        },
        {
          "name": "stdout",
          "output_type": "stream",
          "text": [
            "1/1 [==============================] - 0s 159ms/step\n"
          ]
        },
        {
          "name": "stderr",
          "output_type": "stream",
          "text": [
            "\r 62%|██████▏   | 207/335 [23:36<14:14,  6.68s/it]"
          ]
        },
        {
          "name": "stdout",
          "output_type": "stream",
          "text": [
            "1/1 [==============================] - 0s 140ms/step\n"
          ]
        },
        {
          "name": "stderr",
          "output_type": "stream",
          "text": [
            "\r 62%|██████▏   | 208/335 [23:41<13:30,  6.38s/it]"
          ]
        },
        {
          "name": "stdout",
          "output_type": "stream",
          "text": [
            "1/1 [==============================] - 0s 140ms/step\n"
          ]
        },
        {
          "name": "stderr",
          "output_type": "stream",
          "text": [
            "\r 62%|██████▏   | 209/335 [23:47<13:12,  6.29s/it]"
          ]
        },
        {
          "name": "stdout",
          "output_type": "stream",
          "text": [
            "1/1 [==============================] - 0s 167ms/step\n"
          ]
        },
        {
          "name": "stderr",
          "output_type": "stream",
          "text": [
            "\r 63%|██████▎   | 210/335 [23:54<13:22,  6.42s/it]"
          ]
        },
        {
          "name": "stdout",
          "output_type": "stream",
          "text": [
            "1/1 [==============================] - 0s 153ms/step\n"
          ]
        },
        {
          "name": "stderr",
          "output_type": "stream",
          "text": [
            "\r 63%|██████▎   | 211/335 [24:01<13:20,  6.45s/it]"
          ]
        },
        {
          "name": "stdout",
          "output_type": "stream",
          "text": [
            "1/1 [==============================] - 0s 154ms/step\n"
          ]
        },
        {
          "name": "stderr",
          "output_type": "stream",
          "text": [
            "\r 63%|██████▎   | 212/335 [24:06<12:49,  6.26s/it]"
          ]
        },
        {
          "name": "stdout",
          "output_type": "stream",
          "text": [
            "1/1 [==============================] - 0s 147ms/step\n"
          ]
        },
        {
          "name": "stderr",
          "output_type": "stream",
          "text": [
            "\r 64%|██████▎   | 213/335 [24:13<12:56,  6.37s/it]"
          ]
        },
        {
          "name": "stdout",
          "output_type": "stream",
          "text": [
            "1/1 [==============================] - 0s 137ms/step\n"
          ]
        },
        {
          "name": "stderr",
          "output_type": "stream",
          "text": [
            "\r 64%|██████▍   | 214/335 [24:19<12:25,  6.16s/it]"
          ]
        },
        {
          "name": "stdout",
          "output_type": "stream",
          "text": [
            "1/1 [==============================] - 0s 136ms/step\n"
          ]
        },
        {
          "name": "stderr",
          "output_type": "stream",
          "text": [
            "\r 64%|██████▍   | 215/335 [24:25<12:38,  6.32s/it]"
          ]
        },
        {
          "name": "stdout",
          "output_type": "stream",
          "text": [
            "1/1 [==============================] - 0s 145ms/step\n"
          ]
        },
        {
          "name": "stderr",
          "output_type": "stream",
          "text": [
            "\r 64%|██████▍   | 216/335 [24:31<12:03,  6.08s/it]"
          ]
        },
        {
          "name": "stdout",
          "output_type": "stream",
          "text": [
            "1/1 [==============================] - 0s 144ms/step\n"
          ]
        },
        {
          "name": "stderr",
          "output_type": "stream",
          "text": [
            "\r 65%|██████▍   | 217/335 [24:38<12:18,  6.25s/it]"
          ]
        },
        {
          "name": "stdout",
          "output_type": "stream",
          "text": [
            "1/1 [==============================] - 0s 249ms/step\n"
          ]
        },
        {
          "name": "stderr",
          "output_type": "stream",
          "text": [
            "\r 65%|██████▌   | 218/335 [24:44<12:31,  6.42s/it]"
          ]
        },
        {
          "name": "stdout",
          "output_type": "stream",
          "text": [
            "1/1 [==============================] - 0s 146ms/step\n"
          ]
        },
        {
          "name": "stderr",
          "output_type": "stream",
          "text": [
            "\r 65%|██████▌   | 219/335 [24:52<12:55,  6.68s/it]"
          ]
        },
        {
          "name": "stdout",
          "output_type": "stream",
          "text": [
            "1/1 [==============================] - 0s 154ms/step\n"
          ]
        },
        {
          "name": "stderr",
          "output_type": "stream",
          "text": [
            "\r 66%|██████▌   | 220/335 [24:58<12:42,  6.63s/it]"
          ]
        },
        {
          "name": "stdout",
          "output_type": "stream",
          "text": [
            "1/1 [==============================] - 0s 149ms/step\n"
          ]
        },
        {
          "name": "stderr",
          "output_type": "stream",
          "text": [
            "\r 66%|██████▌   | 221/335 [25:06<13:21,  7.03s/it]"
          ]
        },
        {
          "name": "stdout",
          "output_type": "stream",
          "text": [
            "1/1 [==============================] - 0s 147ms/step\n"
          ]
        },
        {
          "name": "stderr",
          "output_type": "stream",
          "text": [
            "\r 66%|██████▋   | 222/335 [25:13<13:24,  7.12s/it]"
          ]
        },
        {
          "name": "stdout",
          "output_type": "stream",
          "text": [
            "1/1 [==============================] - 0s 153ms/step\n"
          ]
        },
        {
          "name": "stderr",
          "output_type": "stream",
          "text": [
            "\r 67%|██████▋   | 223/335 [25:21<13:24,  7.18s/it]"
          ]
        },
        {
          "name": "stdout",
          "output_type": "stream",
          "text": [
            "1/1 [==============================] - 0s 269ms/step\n"
          ]
        },
        {
          "name": "stderr",
          "output_type": "stream",
          "text": [
            "\r 67%|██████▋   | 224/335 [25:27<12:53,  6.97s/it]"
          ]
        },
        {
          "name": "stdout",
          "output_type": "stream",
          "text": [
            "1/1 [==============================] - 0s 135ms/step\n"
          ]
        },
        {
          "name": "stderr",
          "output_type": "stream",
          "text": [
            "\r 67%|██████▋   | 225/335 [25:33<12:04,  6.59s/it]"
          ]
        },
        {
          "name": "stdout",
          "output_type": "stream",
          "text": [
            "1/1 [==============================] - 0s 245ms/step\n"
          ]
        },
        {
          "name": "stderr",
          "output_type": "stream",
          "text": [
            "\r 67%|██████▋   | 226/335 [25:40<12:05,  6.66s/it]"
          ]
        },
        {
          "name": "stdout",
          "output_type": "stream",
          "text": [
            "1/1 [==============================] - 0s 159ms/step\n"
          ]
        },
        {
          "name": "stderr",
          "output_type": "stream",
          "text": [
            "\r 68%|██████▊   | 227/335 [25:46<11:51,  6.59s/it]"
          ]
        },
        {
          "name": "stdout",
          "output_type": "stream",
          "text": [
            "1/1 [==============================] - 0s 140ms/step\n"
          ]
        },
        {
          "name": "stderr",
          "output_type": "stream",
          "text": [
            "\r 68%|██████▊   | 228/335 [25:52<11:31,  6.47s/it]"
          ]
        },
        {
          "name": "stdout",
          "output_type": "stream",
          "text": [
            "1/1 [==============================] - 0s 151ms/step\n"
          ]
        },
        {
          "name": "stderr",
          "output_type": "stream",
          "text": [
            "\r 68%|██████▊   | 229/335 [25:58<11:03,  6.26s/it]"
          ]
        },
        {
          "name": "stdout",
          "output_type": "stream",
          "text": [
            "1/1 [==============================] - 0s 138ms/step\n"
          ]
        },
        {
          "name": "stderr",
          "output_type": "stream",
          "text": [
            "\r 69%|██████▊   | 230/335 [26:05<11:30,  6.57s/it]"
          ]
        },
        {
          "name": "stdout",
          "output_type": "stream",
          "text": [
            "1/1 [==============================] - 0s 164ms/step\n"
          ]
        },
        {
          "name": "stderr",
          "output_type": "stream",
          "text": [
            "\r 69%|██████▉   | 231/335 [26:13<11:44,  6.77s/it]"
          ]
        },
        {
          "name": "stdout",
          "output_type": "stream",
          "text": [
            "1/1 [==============================] - 0s 141ms/step\n"
          ]
        },
        {
          "name": "stderr",
          "output_type": "stream",
          "text": [
            "\r 69%|██████▉   | 232/335 [26:19<11:13,  6.54s/it]"
          ]
        },
        {
          "name": "stdout",
          "output_type": "stream",
          "text": [
            "1/1 [==============================] - 0s 174ms/step\n"
          ]
        },
        {
          "name": "stderr",
          "output_type": "stream",
          "text": [
            "\r 70%|██████▉   | 233/335 [26:26<11:27,  6.74s/it]"
          ]
        },
        {
          "name": "stdout",
          "output_type": "stream",
          "text": [
            "1/1 [==============================] - 0s 155ms/step\n"
          ]
        },
        {
          "name": "stderr",
          "output_type": "stream",
          "text": [
            "\r 70%|██████▉   | 234/335 [26:32<11:04,  6.57s/it]"
          ]
        },
        {
          "name": "stdout",
          "output_type": "stream",
          "text": [
            "1/1 [==============================] - 0s 134ms/step\n"
          ]
        },
        {
          "name": "stderr",
          "output_type": "stream",
          "text": [
            "\r 70%|███████   | 235/335 [26:38<10:46,  6.47s/it]"
          ]
        },
        {
          "name": "stdout",
          "output_type": "stream",
          "text": [
            "1/1 [==============================] - 0s 153ms/step\n"
          ]
        },
        {
          "name": "stderr",
          "output_type": "stream",
          "text": [
            "\r 70%|███████   | 236/335 [26:44<10:27,  6.34s/it]"
          ]
        },
        {
          "name": "stdout",
          "output_type": "stream",
          "text": [
            "1/1 [==============================] - 0s 146ms/step\n"
          ]
        },
        {
          "name": "stderr",
          "output_type": "stream",
          "text": [
            "\r 71%|███████   | 237/335 [26:51<10:36,  6.49s/it]"
          ]
        },
        {
          "name": "stdout",
          "output_type": "stream",
          "text": [
            "1/1 [==============================] - 0s 147ms/step\n"
          ]
        },
        {
          "name": "stderr",
          "output_type": "stream",
          "text": [
            "\r 71%|███████   | 238/335 [26:57<10:15,  6.35s/it]"
          ]
        },
        {
          "name": "stdout",
          "output_type": "stream",
          "text": [
            "1/1 [==============================] - 0s 256ms/step\n"
          ]
        },
        {
          "name": "stderr",
          "output_type": "stream",
          "text": [
            "\r 71%|███████▏  | 239/335 [27:04<10:13,  6.39s/it]"
          ]
        },
        {
          "name": "stdout",
          "output_type": "stream",
          "text": [
            "1/1 [==============================] - 0s 135ms/step\n"
          ]
        },
        {
          "name": "stderr",
          "output_type": "stream",
          "text": [
            "\r 72%|███████▏  | 240/335 [27:10<09:52,  6.23s/it]"
          ]
        },
        {
          "name": "stdout",
          "output_type": "stream",
          "text": [
            "1/1 [==============================] - 0s 213ms/step\n"
          ]
        },
        {
          "name": "stderr",
          "output_type": "stream",
          "text": [
            "\r 72%|███████▏  | 241/335 [27:16<09:52,  6.30s/it]"
          ]
        },
        {
          "name": "stdout",
          "output_type": "stream",
          "text": [
            "1/1 [==============================] - 0s 131ms/step\n"
          ]
        },
        {
          "name": "stderr",
          "output_type": "stream",
          "text": [
            "\r 72%|███████▏  | 242/335 [27:22<09:29,  6.13s/it]"
          ]
        },
        {
          "name": "stdout",
          "output_type": "stream",
          "text": [
            "1/1 [==============================] - 0s 145ms/step\n"
          ]
        },
        {
          "name": "stderr",
          "output_type": "stream",
          "text": [
            "\r 73%|███████▎  | 243/335 [27:30<10:15,  6.69s/it]"
          ]
        },
        {
          "name": "stdout",
          "output_type": "stream",
          "text": [
            "1/1 [==============================] - 0s 139ms/step\n"
          ]
        },
        {
          "name": "stderr",
          "output_type": "stream",
          "text": [
            "\r 73%|███████▎  | 244/335 [27:37<10:23,  6.85s/it]"
          ]
        },
        {
          "name": "stdout",
          "output_type": "stream",
          "text": [
            "1/1 [==============================] - 0s 141ms/step\n"
          ]
        },
        {
          "name": "stderr",
          "output_type": "stream",
          "text": [
            "\r 73%|███████▎  | 245/335 [27:43<09:47,  6.52s/it]"
          ]
        },
        {
          "name": "stdout",
          "output_type": "stream",
          "text": [
            "1/1 [==============================] - 0s 131ms/step\n"
          ]
        },
        {
          "name": "stderr",
          "output_type": "stream",
          "text": [
            "\r 73%|███████▎  | 246/335 [27:49<09:31,  6.42s/it]"
          ]
        },
        {
          "name": "stdout",
          "output_type": "stream",
          "text": [
            "1/1 [==============================] - 0s 141ms/step\n"
          ]
        },
        {
          "name": "stderr",
          "output_type": "stream",
          "text": [
            "\r 74%|███████▎  | 247/335 [27:55<09:06,  6.21s/it]"
          ]
        },
        {
          "name": "stdout",
          "output_type": "stream",
          "text": [
            "1/1 [==============================] - 0s 134ms/step\n"
          ]
        },
        {
          "name": "stderr",
          "output_type": "stream",
          "text": [
            "\r 74%|███████▍  | 248/335 [28:01<09:09,  6.31s/it]"
          ]
        },
        {
          "name": "stdout",
          "output_type": "stream",
          "text": [
            "1/1 [==============================] - 0s 134ms/step\n"
          ]
        },
        {
          "name": "stderr",
          "output_type": "stream",
          "text": [
            "\r 74%|███████▍  | 249/335 [28:08<09:04,  6.33s/it]"
          ]
        },
        {
          "name": "stdout",
          "output_type": "stream",
          "text": [
            "1/1 [==============================] - 0s 142ms/step\n"
          ]
        },
        {
          "name": "stderr",
          "output_type": "stream",
          "text": [
            "\r 75%|███████▍  | 250/335 [28:14<09:01,  6.37s/it]"
          ]
        },
        {
          "name": "stdout",
          "output_type": "stream",
          "text": [
            "1/1 [==============================] - 0s 141ms/step\n"
          ]
        },
        {
          "name": "stderr",
          "output_type": "stream",
          "text": [
            "\r 75%|███████▍  | 251/335 [28:20<08:38,  6.18s/it]"
          ]
        },
        {
          "name": "stdout",
          "output_type": "stream",
          "text": [
            "1/1 [==============================] - 0s 130ms/step\n"
          ]
        },
        {
          "name": "stderr",
          "output_type": "stream",
          "text": [
            "\r 75%|███████▌  | 252/335 [28:29<09:44,  7.05s/it]"
          ]
        },
        {
          "name": "stdout",
          "output_type": "stream",
          "text": [
            "1/1 [==============================] - 0s 132ms/step\n"
          ]
        },
        {
          "name": "stderr",
          "output_type": "stream",
          "text": [
            "\r 76%|███████▌  | 253/335 [28:34<09:01,  6.61s/it]"
          ]
        },
        {
          "name": "stdout",
          "output_type": "stream",
          "text": [
            "1/1 [==============================] - 0s 144ms/step\n"
          ]
        },
        {
          "name": "stderr",
          "output_type": "stream",
          "text": [
            "\r 76%|███████▌  | 254/335 [28:41<08:48,  6.52s/it]"
          ]
        },
        {
          "name": "stdout",
          "output_type": "stream",
          "text": [
            "1/1 [==============================] - 0s 133ms/step\n"
          ]
        },
        {
          "name": "stderr",
          "output_type": "stream",
          "text": [
            "\r 76%|███████▌  | 255/335 [28:47<08:25,  6.32s/it]"
          ]
        },
        {
          "name": "stdout",
          "output_type": "stream",
          "text": [
            "1/1 [==============================] - 0s 142ms/step\n"
          ]
        },
        {
          "name": "stderr",
          "output_type": "stream",
          "text": [
            "\r 76%|███████▋  | 256/335 [28:53<08:32,  6.49s/it]"
          ]
        },
        {
          "name": "stdout",
          "output_type": "stream",
          "text": [
            "1/1 [==============================] - 0s 140ms/step\n"
          ]
        },
        {
          "name": "stderr",
          "output_type": "stream",
          "text": [
            "\r 77%|███████▋  | 257/335 [28:59<08:15,  6.35s/it]"
          ]
        },
        {
          "name": "stdout",
          "output_type": "stream",
          "text": [
            "1/1 [==============================] - 0s 254ms/step\n"
          ]
        },
        {
          "name": "stderr",
          "output_type": "stream",
          "text": [
            "\r 77%|███████▋  | 258/335 [29:06<08:15,  6.44s/it]"
          ]
        },
        {
          "name": "stdout",
          "output_type": "stream",
          "text": [
            "1/1 [==============================] - 0s 140ms/step\n"
          ]
        },
        {
          "name": "stderr",
          "output_type": "stream",
          "text": [
            "\r 77%|███████▋  | 259/335 [29:12<07:50,  6.18s/it]"
          ]
        },
        {
          "name": "stdout",
          "output_type": "stream",
          "text": [
            "1/1 [==============================] - 0s 263ms/step\n"
          ]
        },
        {
          "name": "stderr",
          "output_type": "stream",
          "text": [
            "\r 78%|███████▊  | 260/335 [29:18<07:44,  6.20s/it]"
          ]
        },
        {
          "name": "stdout",
          "output_type": "stream",
          "text": [
            "1/1 [==============================] - 0s 134ms/step\n"
          ]
        },
        {
          "name": "stderr",
          "output_type": "stream",
          "text": [
            "\r 78%|███████▊  | 261/335 [29:23<07:20,  5.95s/it]"
          ]
        },
        {
          "name": "stdout",
          "output_type": "stream",
          "text": [
            "1/1 [==============================] - 0s 265ms/step\n"
          ]
        },
        {
          "name": "stderr",
          "output_type": "stream",
          "text": [
            "\r 78%|███████▊  | 262/335 [29:30<07:36,  6.26s/it]"
          ]
        },
        {
          "name": "stdout",
          "output_type": "stream",
          "text": [
            "1/1 [==============================] - 0s 133ms/step\n"
          ]
        },
        {
          "name": "stderr",
          "output_type": "stream",
          "text": [
            "\r 79%|███████▊  | 263/335 [29:36<07:13,  6.02s/it]"
          ]
        },
        {
          "name": "stdout",
          "output_type": "stream",
          "text": [
            "1/1 [==============================] - 0s 246ms/step\n"
          ]
        },
        {
          "name": "stderr",
          "output_type": "stream",
          "text": [
            "\r 79%|███████▉  | 264/335 [29:42<07:17,  6.16s/it]"
          ]
        },
        {
          "name": "stdout",
          "output_type": "stream",
          "text": [
            "1/1 [==============================] - 0s 137ms/step\n"
          ]
        },
        {
          "name": "stderr",
          "output_type": "stream",
          "text": [
            "\r 79%|███████▉  | 265/335 [29:48<06:59,  5.99s/it]"
          ]
        },
        {
          "name": "stdout",
          "output_type": "stream",
          "text": [
            "1/1 [==============================] - 0s 195ms/step\n"
          ]
        },
        {
          "name": "stderr",
          "output_type": "stream",
          "text": [
            "\r 79%|███████▉  | 266/335 [29:54<07:02,  6.12s/it]"
          ]
        },
        {
          "name": "stdout",
          "output_type": "stream",
          "text": [
            "1/1 [==============================] - 0s 140ms/step\n"
          ]
        },
        {
          "name": "stderr",
          "output_type": "stream",
          "text": [
            "\r 80%|███████▉  | 267/335 [30:01<07:18,  6.45s/it]"
          ]
        },
        {
          "name": "stdout",
          "output_type": "stream",
          "text": [
            "1/1 [==============================] - 0s 153ms/step\n"
          ]
        },
        {
          "name": "stderr",
          "output_type": "stream",
          "text": [
            "\r 80%|████████  | 268/335 [30:07<07:03,  6.32s/it]"
          ]
        },
        {
          "name": "stdout",
          "output_type": "stream",
          "text": [
            "1/1 [==============================] - 0s 134ms/step\n"
          ]
        },
        {
          "name": "stderr",
          "output_type": "stream",
          "text": [
            "\r 80%|████████  | 269/335 [30:14<06:58,  6.34s/it]"
          ]
        },
        {
          "name": "stdout",
          "output_type": "stream",
          "text": [
            "1/1 [==============================] - 0s 137ms/step\n"
          ]
        },
        {
          "name": "stderr",
          "output_type": "stream",
          "text": [
            "\r 81%|████████  | 270/335 [30:20<06:40,  6.17s/it]"
          ]
        },
        {
          "name": "stdout",
          "output_type": "stream",
          "text": [
            "1/1 [==============================] - 0s 142ms/step\n"
          ]
        },
        {
          "name": "stderr",
          "output_type": "stream",
          "text": [
            "\r 81%|████████  | 271/335 [30:26<06:43,  6.30s/it]"
          ]
        },
        {
          "name": "stdout",
          "output_type": "stream",
          "text": [
            "1/1 [==============================] - 0s 130ms/step\n"
          ]
        },
        {
          "name": "stderr",
          "output_type": "stream",
          "text": [
            "\r 81%|████████  | 272/335 [30:32<06:24,  6.11s/it]"
          ]
        },
        {
          "name": "stdout",
          "output_type": "stream",
          "text": [
            "1/1 [==============================] - 0s 133ms/step\n"
          ]
        },
        {
          "name": "stderr",
          "output_type": "stream",
          "text": [
            "\r 81%|████████▏ | 273/335 [30:38<06:26,  6.24s/it]"
          ]
        },
        {
          "name": "stdout",
          "output_type": "stream",
          "text": [
            "1/1 [==============================] - 0s 131ms/step\n"
          ]
        },
        {
          "name": "stderr",
          "output_type": "stream",
          "text": [
            "\r 82%|████████▏ | 274/335 [30:44<06:05,  5.99s/it]"
          ]
        },
        {
          "name": "stdout",
          "output_type": "stream",
          "text": [
            "1/1 [==============================] - 0s 146ms/step\n"
          ]
        },
        {
          "name": "stderr",
          "output_type": "stream",
          "text": [
            "\r 82%|████████▏ | 275/335 [30:50<06:10,  6.17s/it]"
          ]
        },
        {
          "name": "stdout",
          "output_type": "stream",
          "text": [
            "1/1 [==============================] - 0s 131ms/step\n"
          ]
        },
        {
          "name": "stderr",
          "output_type": "stream",
          "text": [
            "\r 82%|████████▏ | 276/335 [30:56<05:50,  5.94s/it]"
          ]
        },
        {
          "name": "stdout",
          "output_type": "stream",
          "text": [
            "1/1 [==============================] - 0s 131ms/step\n"
          ]
        },
        {
          "name": "stderr",
          "output_type": "stream",
          "text": [
            "\r 83%|████████▎ | 277/335 [31:02<05:52,  6.07s/it]"
          ]
        },
        {
          "name": "stdout",
          "output_type": "stream",
          "text": [
            "1/1 [==============================] - 0s 131ms/step\n"
          ]
        },
        {
          "name": "stderr",
          "output_type": "stream",
          "text": [
            "\r 83%|████████▎ | 278/335 [31:08<05:45,  6.06s/it]"
          ]
        },
        {
          "name": "stdout",
          "output_type": "stream",
          "text": [
            "1/1 [==============================] - 0s 139ms/step\n"
          ]
        },
        {
          "name": "stderr",
          "output_type": "stream",
          "text": [
            "\r 83%|████████▎ | 279/335 [31:15<05:49,  6.23s/it]"
          ]
        },
        {
          "name": "stdout",
          "output_type": "stream",
          "text": [
            "1/1 [==============================] - 0s 139ms/step\n"
          ]
        },
        {
          "name": "stderr",
          "output_type": "stream",
          "text": [
            "\r 84%|████████▎ | 280/335 [31:21<05:40,  6.18s/it]"
          ]
        },
        {
          "name": "stdout",
          "output_type": "stream",
          "text": [
            "1/1 [==============================] - 0s 266ms/step\n"
          ]
        },
        {
          "name": "stderr",
          "output_type": "stream",
          "text": [
            "\r 84%|████████▍ | 281/335 [31:29<05:56,  6.61s/it]"
          ]
        },
        {
          "name": "stdout",
          "output_type": "stream",
          "text": [
            "1/1 [==============================] - 0s 132ms/step\n"
          ]
        },
        {
          "name": "stderr",
          "output_type": "stream",
          "text": [
            "\r 84%|████████▍ | 282/335 [31:34<05:37,  6.37s/it]"
          ]
        },
        {
          "name": "stdout",
          "output_type": "stream",
          "text": [
            "1/1 [==============================] - 0s 136ms/step\n"
          ]
        },
        {
          "name": "stderr",
          "output_type": "stream",
          "text": [
            "\r 84%|████████▍ | 283/335 [31:41<05:42,  6.58s/it]"
          ]
        },
        {
          "name": "stdout",
          "output_type": "stream",
          "text": [
            "1/1 [==============================] - 0s 136ms/step\n"
          ]
        },
        {
          "name": "stderr",
          "output_type": "stream",
          "text": [
            "\r 85%|████████▍ | 284/335 [31:54<07:06,  8.35s/it]"
          ]
        },
        {
          "name": "stdout",
          "output_type": "stream",
          "text": [
            "1/1 [==============================] - 0s 382ms/step\n"
          ]
        },
        {
          "name": "stderr",
          "output_type": "stream",
          "text": [
            "\r 85%|████████▌ | 285/335 [32:09<08:32, 10.25s/it]"
          ]
        },
        {
          "name": "stdout",
          "output_type": "stream",
          "text": [
            "1/1 [==============================] - 0s 133ms/step\n"
          ]
        },
        {
          "name": "stderr",
          "output_type": "stream",
          "text": [
            "\r 85%|████████▌ | 286/335 [32:15<07:25,  9.10s/it]"
          ]
        },
        {
          "name": "stdout",
          "output_type": "stream",
          "text": [
            "1/1 [==============================] - 0s 143ms/step\n"
          ]
        },
        {
          "name": "stderr",
          "output_type": "stream",
          "text": [
            "\r 86%|████████▌ | 287/335 [32:22<06:45,  8.45s/it]"
          ]
        },
        {
          "name": "stdout",
          "output_type": "stream",
          "text": [
            "1/1 [==============================] - 0s 138ms/step\n"
          ]
        },
        {
          "name": "stderr",
          "output_type": "stream",
          "text": [
            "\r 86%|████████▌ | 288/335 [32:29<06:17,  8.03s/it]"
          ]
        },
        {
          "name": "stdout",
          "output_type": "stream",
          "text": [
            "1/1 [==============================] - 0s 140ms/step\n"
          ]
        },
        {
          "name": "stderr",
          "output_type": "stream",
          "text": [
            "\r 86%|████████▋ | 289/335 [32:35<05:37,  7.33s/it]"
          ]
        },
        {
          "name": "stdout",
          "output_type": "stream",
          "text": [
            "1/1 [==============================] - 0s 151ms/step\n"
          ]
        },
        {
          "name": "stderr",
          "output_type": "stream",
          "text": [
            "\r 87%|████████▋ | 290/335 [32:41<05:18,  7.08s/it]"
          ]
        },
        {
          "name": "stdout",
          "output_type": "stream",
          "text": [
            "1/1 [==============================] - 0s 141ms/step\n"
          ]
        },
        {
          "name": "stderr",
          "output_type": "stream",
          "text": [
            "\r 87%|████████▋ | 291/335 [32:47<04:58,  6.79s/it]"
          ]
        },
        {
          "name": "stdout",
          "output_type": "stream",
          "text": [
            "1/1 [==============================] - 0s 139ms/step\n"
          ]
        },
        {
          "name": "stderr",
          "output_type": "stream",
          "text": [
            "\r 87%|████████▋ | 292/335 [32:54<04:47,  6.70s/it]"
          ]
        },
        {
          "name": "stdout",
          "output_type": "stream",
          "text": [
            "1/1 [==============================] - 0s 137ms/step\n"
          ]
        },
        {
          "name": "stderr",
          "output_type": "stream",
          "text": [
            "\r 87%|████████▋ | 293/335 [33:00<04:33,  6.50s/it]"
          ]
        },
        {
          "name": "stdout",
          "output_type": "stream",
          "text": [
            "1/1 [==============================] - 0s 133ms/step\n"
          ]
        },
        {
          "name": "stderr",
          "output_type": "stream",
          "text": [
            "\r 88%|████████▊ | 294/335 [33:06<04:26,  6.50s/it]"
          ]
        },
        {
          "name": "stdout",
          "output_type": "stream",
          "text": [
            "1/1 [==============================] - 0s 140ms/step\n"
          ]
        },
        {
          "name": "stderr",
          "output_type": "stream",
          "text": [
            "\r 88%|████████▊ | 295/335 [33:12<04:12,  6.32s/it]"
          ]
        },
        {
          "name": "stdout",
          "output_type": "stream",
          "text": [
            "1/1 [==============================] - 0s 146ms/step\n"
          ]
        },
        {
          "name": "stderr",
          "output_type": "stream",
          "text": [
            "\r 88%|████████▊ | 296/335 [33:19<04:13,  6.50s/it]"
          ]
        },
        {
          "name": "stdout",
          "output_type": "stream",
          "text": [
            "1/1 [==============================] - 0s 134ms/step\n"
          ]
        },
        {
          "name": "stderr",
          "output_type": "stream",
          "text": [
            "\r 89%|████████▊ | 297/335 [33:25<03:57,  6.24s/it]"
          ]
        },
        {
          "name": "stdout",
          "output_type": "stream",
          "text": [
            "1/1 [==============================] - 0s 259ms/step\n"
          ]
        },
        {
          "name": "stderr",
          "output_type": "stream",
          "text": [
            "\r 89%|████████▉ | 298/335 [33:32<03:56,  6.40s/it]"
          ]
        },
        {
          "name": "stdout",
          "output_type": "stream",
          "text": [
            "1/1 [==============================] - 0s 153ms/step\n"
          ]
        },
        {
          "name": "stderr",
          "output_type": "stream",
          "text": [
            "\r 89%|████████▉ | 299/335 [33:38<03:47,  6.33s/it]"
          ]
        },
        {
          "name": "stdout",
          "output_type": "stream",
          "text": [
            "1/1 [==============================] - 0s 137ms/step\n"
          ]
        },
        {
          "name": "stderr",
          "output_type": "stream",
          "text": [
            "\r 90%|████████▉ | 300/335 [33:44<03:44,  6.43s/it]"
          ]
        },
        {
          "name": "stdout",
          "output_type": "stream",
          "text": [
            "1/1 [==============================] - 0s 143ms/step\n"
          ]
        },
        {
          "name": "stderr",
          "output_type": "stream",
          "text": [
            "\r 90%|████████▉ | 301/335 [33:51<03:39,  6.46s/it]"
          ]
        },
        {
          "name": "stdout",
          "output_type": "stream",
          "text": [
            "1/1 [==============================] - 0s 159ms/step\n"
          ]
        },
        {
          "name": "stderr",
          "output_type": "stream",
          "text": [
            "\r 90%|█████████ | 302/335 [33:58<03:35,  6.54s/it]"
          ]
        },
        {
          "name": "stdout",
          "output_type": "stream",
          "text": [
            "1/1 [==============================] - 0s 162ms/step\n"
          ]
        },
        {
          "name": "stderr",
          "output_type": "stream",
          "text": [
            "\r 90%|█████████ | 303/335 [34:04<03:30,  6.58s/it]"
          ]
        },
        {
          "name": "stdout",
          "output_type": "stream",
          "text": [
            "1/1 [==============================] - 0s 152ms/step\n"
          ]
        },
        {
          "name": "stderr",
          "output_type": "stream",
          "text": [
            "\r 91%|█████████ | 304/335 [34:10<03:17,  6.37s/it]"
          ]
        },
        {
          "name": "stdout",
          "output_type": "stream",
          "text": [
            "1/1 [==============================] - 0s 141ms/step\n"
          ]
        },
        {
          "name": "stderr",
          "output_type": "stream",
          "text": [
            "\r 91%|█████████ | 305/335 [34:17<03:15,  6.52s/it]"
          ]
        },
        {
          "name": "stdout",
          "output_type": "stream",
          "text": [
            "1/1 [==============================] - 0s 151ms/step\n"
          ]
        },
        {
          "name": "stderr",
          "output_type": "stream",
          "text": [
            "\r 91%|█████████▏| 306/335 [34:23<03:05,  6.41s/it]"
          ]
        },
        {
          "name": "stdout",
          "output_type": "stream",
          "text": [
            "1/1 [==============================] - 0s 158ms/step\n"
          ]
        },
        {
          "name": "stderr",
          "output_type": "stream",
          "text": [
            "\r 92%|█████████▏| 307/335 [34:30<03:06,  6.66s/it]"
          ]
        },
        {
          "name": "stdout",
          "output_type": "stream",
          "text": [
            "1/1 [==============================] - 0s 157ms/step\n"
          ]
        },
        {
          "name": "stderr",
          "output_type": "stream",
          "text": [
            "\r 92%|█████████▏| 308/335 [34:37<02:55,  6.51s/it]"
          ]
        },
        {
          "name": "stdout",
          "output_type": "stream",
          "text": [
            "1/1 [==============================] - 0s 274ms/step\n"
          ]
        },
        {
          "name": "stderr",
          "output_type": "stream",
          "text": [
            "\r 92%|█████████▏| 309/335 [34:44<02:57,  6.84s/it]"
          ]
        },
        {
          "name": "stdout",
          "output_type": "stream",
          "text": [
            "1/1 [==============================] - 0s 157ms/step\n"
          ]
        },
        {
          "name": "stderr",
          "output_type": "stream",
          "text": [
            "\r 93%|█████████▎| 310/335 [34:50<02:43,  6.56s/it]"
          ]
        },
        {
          "name": "stdout",
          "output_type": "stream",
          "text": [
            "1/1 [==============================] - 0s 134ms/step\n"
          ]
        },
        {
          "name": "stderr",
          "output_type": "stream",
          "text": [
            "\r 93%|█████████▎| 311/335 [34:57<02:38,  6.59s/it]"
          ]
        },
        {
          "name": "stdout",
          "output_type": "stream",
          "text": [
            "1/1 [==============================] - 0s 139ms/step\n"
          ]
        },
        {
          "name": "stderr",
          "output_type": "stream",
          "text": [
            "\r 93%|█████████▎| 312/335 [35:03<02:27,  6.42s/it]"
          ]
        },
        {
          "name": "stdout",
          "output_type": "stream",
          "text": [
            "1/1 [==============================] - 0s 158ms/step\n"
          ]
        },
        {
          "name": "stderr",
          "output_type": "stream",
          "text": [
            "\r 93%|█████████▎| 313/335 [35:09<02:19,  6.34s/it]"
          ]
        },
        {
          "name": "stdout",
          "output_type": "stream",
          "text": [
            "1/1 [==============================] - 0s 136ms/step\n"
          ]
        },
        {
          "name": "stderr",
          "output_type": "stream",
          "text": [
            "\r 94%|█████████▎| 314/335 [35:16<02:17,  6.56s/it]"
          ]
        },
        {
          "name": "stdout",
          "output_type": "stream",
          "text": [
            "1/1 [==============================] - 0s 158ms/step\n"
          ]
        },
        {
          "name": "stderr",
          "output_type": "stream",
          "text": [
            "\r 94%|█████████▍| 315/335 [35:23<02:10,  6.53s/it]"
          ]
        },
        {
          "name": "stdout",
          "output_type": "stream",
          "text": [
            "1/1 [==============================] - 0s 140ms/step\n"
          ]
        },
        {
          "name": "stderr",
          "output_type": "stream",
          "text": [
            "\r 94%|█████████▍| 316/335 [35:29<02:04,  6.54s/it]"
          ]
        },
        {
          "name": "stdout",
          "output_type": "stream",
          "text": [
            "1/1 [==============================] - 0s 136ms/step\n"
          ]
        },
        {
          "name": "stderr",
          "output_type": "stream",
          "text": [
            "\r 95%|█████████▍| 317/335 [35:35<01:52,  6.24s/it]"
          ]
        },
        {
          "name": "stdout",
          "output_type": "stream",
          "text": [
            "1/1 [==============================] - 0s 137ms/step\n"
          ]
        },
        {
          "name": "stderr",
          "output_type": "stream",
          "text": [
            "\r 95%|█████████▍| 318/335 [35:41<01:45,  6.21s/it]"
          ]
        },
        {
          "name": "stdout",
          "output_type": "stream",
          "text": [
            "1/1 [==============================] - 0s 132ms/step\n"
          ]
        },
        {
          "name": "stderr",
          "output_type": "stream",
          "text": [
            "\r 95%|█████████▌| 319/335 [35:46<01:35,  5.95s/it]"
          ]
        },
        {
          "name": "stdout",
          "output_type": "stream",
          "text": [
            "1/1 [==============================] - 0s 160ms/step\n"
          ]
        },
        {
          "name": "stderr",
          "output_type": "stream",
          "text": [
            "\r 96%|█████████▌| 320/335 [35:53<01:31,  6.13s/it]"
          ]
        },
        {
          "name": "stdout",
          "output_type": "stream",
          "text": [
            "1/1 [==============================] - 0s 172ms/step\n"
          ]
        },
        {
          "name": "stderr",
          "output_type": "stream",
          "text": [
            "\r 96%|█████████▌| 321/335 [35:59<01:26,  6.17s/it]"
          ]
        },
        {
          "name": "stdout",
          "output_type": "stream",
          "text": [
            "1/1 [==============================] - 0s 145ms/step\n"
          ]
        },
        {
          "name": "stderr",
          "output_type": "stream",
          "text": [
            "\r 96%|█████████▌| 322/335 [36:05<01:20,  6.16s/it]"
          ]
        },
        {
          "name": "stdout",
          "output_type": "stream",
          "text": [
            "1/1 [==============================] - 0s 135ms/step\n"
          ]
        },
        {
          "name": "stderr",
          "output_type": "stream",
          "text": [
            "\r 96%|█████████▋| 323/335 [36:10<01:10,  5.88s/it]"
          ]
        },
        {
          "name": "stdout",
          "output_type": "stream",
          "text": [
            "1/1 [==============================] - 0s 131ms/step\n"
          ]
        },
        {
          "name": "stderr",
          "output_type": "stream",
          "text": [
            "\r 97%|█████████▋| 324/335 [36:16<01:05,  5.94s/it]"
          ]
        },
        {
          "name": "stdout",
          "output_type": "stream",
          "text": [
            "1/1 [==============================] - 0s 149ms/step\n"
          ]
        },
        {
          "name": "stderr",
          "output_type": "stream",
          "text": [
            "\r 97%|█████████▋| 325/335 [36:23<01:00,  6.02s/it]"
          ]
        },
        {
          "name": "stdout",
          "output_type": "stream",
          "text": [
            "1/1 [==============================] - 0s 136ms/step\n"
          ]
        },
        {
          "name": "stderr",
          "output_type": "stream",
          "text": [
            "\r 97%|█████████▋| 326/335 [36:29<00:54,  6.05s/it]"
          ]
        },
        {
          "name": "stdout",
          "output_type": "stream",
          "text": [
            "1/1 [==============================] - 0s 135ms/step\n"
          ]
        },
        {
          "name": "stderr",
          "output_type": "stream",
          "text": [
            "\r 98%|█████████▊| 327/335 [36:34<00:46,  5.83s/it]"
          ]
        },
        {
          "name": "stdout",
          "output_type": "stream",
          "text": [
            "1/1 [==============================] - 0s 132ms/step\n"
          ]
        },
        {
          "name": "stderr",
          "output_type": "stream",
          "text": [
            "\r 98%|█████████▊| 328/335 [36:40<00:41,  5.92s/it]"
          ]
        },
        {
          "name": "stdout",
          "output_type": "stream",
          "text": [
            "1/1 [==============================] - 0s 138ms/step\n"
          ]
        },
        {
          "name": "stderr",
          "output_type": "stream",
          "text": [
            "\r 98%|█████████▊| 329/335 [36:46<00:34,  5.79s/it]"
          ]
        },
        {
          "name": "stdout",
          "output_type": "stream",
          "text": [
            "1/1 [==============================] - 0s 134ms/step\n"
          ]
        },
        {
          "name": "stderr",
          "output_type": "stream",
          "text": [
            "\r 99%|█████████▊| 330/335 [36:52<00:29,  5.95s/it]"
          ]
        },
        {
          "name": "stdout",
          "output_type": "stream",
          "text": [
            "1/1 [==============================] - 0s 134ms/step\n"
          ]
        },
        {
          "name": "stderr",
          "output_type": "stream",
          "text": [
            "\r 99%|█████████▉| 331/335 [36:57<00:23,  5.76s/it]"
          ]
        },
        {
          "name": "stdout",
          "output_type": "stream",
          "text": [
            "1/1 [==============================] - 0s 134ms/step\n"
          ]
        },
        {
          "name": "stderr",
          "output_type": "stream",
          "text": [
            "\r 99%|█████████▉| 332/335 [37:04<00:18,  6.03s/it]"
          ]
        },
        {
          "name": "stdout",
          "output_type": "stream",
          "text": [
            "1/1 [==============================] - 0s 132ms/step\n"
          ]
        },
        {
          "name": "stderr",
          "output_type": "stream",
          "text": [
            "\r 99%|█████████▉| 333/335 [37:09<00:11,  5.82s/it]"
          ]
        },
        {
          "name": "stdout",
          "output_type": "stream",
          "text": [
            "1/1 [==============================] - 0s 135ms/step\n"
          ]
        },
        {
          "name": "stderr",
          "output_type": "stream",
          "text": [
            "\r100%|█████████▉| 334/335 [37:16<00:06,  6.05s/it]"
          ]
        },
        {
          "name": "stdout",
          "output_type": "stream",
          "text": [
            "1/1 [==============================] - 0s 137ms/step\n"
          ]
        },
        {
          "name": "stderr",
          "output_type": "stream",
          "text": [
            "100%|██████████| 335/335 [37:21<00:00,  6.69s/it]\n"
          ]
        },
        {
          "name": "stdout",
          "output_type": "stream",
          "text": [
            "epoch: 1 g_loss: 99.38018878538217 d_loss: [3.44673697 0.84477612]\n"
          ]
        },
        {
          "name": "stderr",
          "output_type": "stream",
          "text": [
            "\r  0%|          | 0/335 [00:00<?, ?it/s]"
          ]
        },
        {
          "name": "stdout",
          "output_type": "stream",
          "text": [
            "1/1 [==============================] - 0s 136ms/step\n"
          ]
        },
        {
          "name": "stderr",
          "output_type": "stream",
          "text": [
            "\r  0%|          | 1/335 [00:07<39:15,  7.05s/it]"
          ]
        },
        {
          "name": "stdout",
          "output_type": "stream",
          "text": [
            "1/1 [==============================] - 0s 131ms/step\n"
          ]
        },
        {
          "name": "stderr",
          "output_type": "stream",
          "text": [
            "\r  1%|          | 2/335 [00:12<33:35,  6.05s/it]"
          ]
        },
        {
          "name": "stdout",
          "output_type": "stream",
          "text": [
            "1/1 [==============================] - 0s 133ms/step\n"
          ]
        },
        {
          "name": "stderr",
          "output_type": "stream",
          "text": [
            "\r  1%|          | 3/335 [00:18<33:47,  6.11s/it]"
          ]
        },
        {
          "name": "stdout",
          "output_type": "stream",
          "text": [
            "1/1 [==============================] - 0s 152ms/step\n"
          ]
        },
        {
          "name": "stderr",
          "output_type": "stream",
          "text": [
            "\r  1%|          | 4/335 [00:24<32:48,  5.95s/it]"
          ]
        },
        {
          "name": "stdout",
          "output_type": "stream",
          "text": [
            "1/1 [==============================] - 0s 155ms/step\n"
          ]
        },
        {
          "name": "stderr",
          "output_type": "stream",
          "text": [
            "\r  1%|▏         | 5/335 [00:31<35:19,  6.42s/it]"
          ]
        },
        {
          "name": "stdout",
          "output_type": "stream",
          "text": [
            "1/1 [==============================] - 0s 139ms/step\n"
          ]
        },
        {
          "name": "stderr",
          "output_type": "stream",
          "text": [
            "\r  2%|▏         | 6/335 [00:37<33:54,  6.18s/it]"
          ]
        },
        {
          "name": "stdout",
          "output_type": "stream",
          "text": [
            "1/1 [==============================] - 0s 134ms/step\n"
          ]
        },
        {
          "name": "stderr",
          "output_type": "stream",
          "text": [
            "\r  2%|▏         | 7/335 [00:44<36:14,  6.63s/it]"
          ]
        },
        {
          "name": "stdout",
          "output_type": "stream",
          "text": [
            "1/1 [==============================] - 0s 135ms/step\n"
          ]
        },
        {
          "name": "stderr",
          "output_type": "stream",
          "text": [
            "\r  2%|▏         | 8/335 [00:51<35:39,  6.54s/it]"
          ]
        },
        {
          "name": "stdout",
          "output_type": "stream",
          "text": [
            "1/1 [==============================] - 0s 250ms/step\n"
          ]
        },
        {
          "name": "stderr",
          "output_type": "stream",
          "text": [
            "\r  3%|▎         | 9/335 [00:57<34:51,  6.42s/it]"
          ]
        },
        {
          "name": "stdout",
          "output_type": "stream",
          "text": [
            "1/1 [==============================] - 0s 157ms/step\n"
          ]
        },
        {
          "name": "stderr",
          "output_type": "stream",
          "text": [
            "\r  3%|▎         | 10/335 [01:03<33:33,  6.19s/it]"
          ]
        },
        {
          "name": "stdout",
          "output_type": "stream",
          "text": [
            "1/1 [==============================] - 0s 245ms/step\n"
          ]
        },
        {
          "name": "stderr",
          "output_type": "stream",
          "text": [
            "\r  3%|▎         | 11/335 [01:09<33:11,  6.15s/it]"
          ]
        },
        {
          "name": "stdout",
          "output_type": "stream",
          "text": [
            "1/1 [==============================] - 0s 130ms/step\n"
          ]
        },
        {
          "name": "stderr",
          "output_type": "stream",
          "text": [
            "\r  4%|▎         | 12/335 [01:14<31:39,  5.88s/it]"
          ]
        },
        {
          "name": "stdout",
          "output_type": "stream",
          "text": [
            "1/1 [==============================] - 0s 290ms/step\n"
          ]
        },
        {
          "name": "stderr",
          "output_type": "stream",
          "text": [
            "\r  4%|▍         | 13/335 [01:21<33:08,  6.18s/it]"
          ]
        },
        {
          "name": "stdout",
          "output_type": "stream",
          "text": [
            "1/1 [==============================] - 0s 135ms/step\n"
          ]
        },
        {
          "name": "stderr",
          "output_type": "stream",
          "text": [
            "\r  4%|▍         | 14/335 [01:26<31:38,  5.91s/it]"
          ]
        },
        {
          "name": "stdout",
          "output_type": "stream",
          "text": [
            "1/1 [==============================] - 0s 272ms/step\n"
          ]
        },
        {
          "name": "stderr",
          "output_type": "stream",
          "text": [
            "\r  4%|▍         | 15/335 [01:33<32:35,  6.11s/it]"
          ]
        },
        {
          "name": "stdout",
          "output_type": "stream",
          "text": [
            "1/1 [==============================] - 0s 134ms/step\n"
          ]
        },
        {
          "name": "stderr",
          "output_type": "stream",
          "text": [
            "\r  5%|▍         | 16/335 [01:38<31:55,  6.01s/it]"
          ]
        },
        {
          "name": "stdout",
          "output_type": "stream",
          "text": [
            "1/1 [==============================] - 0s 245ms/step\n"
          ]
        },
        {
          "name": "stderr",
          "output_type": "stream",
          "text": [
            "\r  5%|▌         | 17/335 [01:44<31:57,  6.03s/it]"
          ]
        },
        {
          "name": "stdout",
          "output_type": "stream",
          "text": [
            "1/1 [==============================] - 0s 134ms/step\n"
          ]
        },
        {
          "name": "stderr",
          "output_type": "stream",
          "text": [
            "\r  5%|▌         | 18/335 [01:50<30:37,  5.80s/it]"
          ]
        },
        {
          "name": "stdout",
          "output_type": "stream",
          "text": [
            "1/1 [==============================] - 0s 242ms/step\n"
          ]
        },
        {
          "name": "stderr",
          "output_type": "stream",
          "text": [
            "\r  6%|▌         | 19/335 [01:56<30:57,  5.88s/it]"
          ]
        },
        {
          "name": "stdout",
          "output_type": "stream",
          "text": [
            "1/1 [==============================] - 0s 141ms/step\n"
          ]
        },
        {
          "name": "stderr",
          "output_type": "stream",
          "text": [
            "\r  6%|▌         | 20/335 [02:02<30:51,  5.88s/it]"
          ]
        },
        {
          "name": "stdout",
          "output_type": "stream",
          "text": [
            "1/1 [==============================] - 0s 261ms/step\n"
          ]
        },
        {
          "name": "stderr",
          "output_type": "stream",
          "text": [
            "\r  6%|▋         | 21/335 [02:08<32:08,  6.14s/it]"
          ]
        },
        {
          "name": "stdout",
          "output_type": "stream",
          "text": [
            "1/1 [==============================] - 0s 134ms/step\n"
          ]
        },
        {
          "name": "stderr",
          "output_type": "stream",
          "text": [
            "\r  7%|▋         | 22/335 [02:14<30:53,  5.92s/it]"
          ]
        },
        {
          "name": "stdout",
          "output_type": "stream",
          "text": [
            "1/1 [==============================] - 0s 208ms/step\n"
          ]
        },
        {
          "name": "stderr",
          "output_type": "stream",
          "text": [
            "\r  7%|▋         | 23/335 [02:20<31:33,  6.07s/it]"
          ]
        },
        {
          "name": "stdout",
          "output_type": "stream",
          "text": [
            "1/1 [==============================] - 0s 151ms/step\n"
          ]
        },
        {
          "name": "stderr",
          "output_type": "stream",
          "text": [
            "\r  7%|▋         | 24/335 [02:26<30:58,  5.98s/it]"
          ]
        },
        {
          "name": "stdout",
          "output_type": "stream",
          "text": [
            "1/1 [==============================] - 0s 133ms/step\n"
          ]
        },
        {
          "name": "stderr",
          "output_type": "stream",
          "text": [
            "\r  7%|▋         | 25/335 [02:32<31:32,  6.10s/it]"
          ]
        },
        {
          "name": "stdout",
          "output_type": "stream",
          "text": [
            "1/1 [==============================] - 0s 156ms/step\n"
          ]
        },
        {
          "name": "stderr",
          "output_type": "stream",
          "text": [
            "\r  8%|▊         | 26/335 [02:38<31:02,  6.03s/it]"
          ]
        },
        {
          "name": "stdout",
          "output_type": "stream",
          "text": [
            "1/1 [==============================] - 0s 141ms/step\n"
          ]
        },
        {
          "name": "stderr",
          "output_type": "stream",
          "text": [
            "\r  8%|▊         | 27/335 [02:45<31:31,  6.14s/it]"
          ]
        },
        {
          "name": "stdout",
          "output_type": "stream",
          "text": [
            "1/1 [==============================] - 0s 135ms/step\n"
          ]
        },
        {
          "name": "stderr",
          "output_type": "stream",
          "text": [
            "\r  8%|▊         | 28/335 [02:52<33:26,  6.54s/it]"
          ]
        },
        {
          "name": "stdout",
          "output_type": "stream",
          "text": [
            "1/1 [==============================] - 0s 133ms/step\n"
          ]
        },
        {
          "name": "stderr",
          "output_type": "stream",
          "text": [
            "\r  9%|▊         | 29/335 [02:58<31:59,  6.27s/it]"
          ]
        },
        {
          "name": "stdout",
          "output_type": "stream",
          "text": [
            "1/1 [==============================] - 0s 147ms/step\n"
          ]
        },
        {
          "name": "stderr",
          "output_type": "stream",
          "text": [
            "\r  9%|▉         | 30/335 [03:04<32:21,  6.37s/it]"
          ]
        },
        {
          "name": "stdout",
          "output_type": "stream",
          "text": [
            "1/1 [==============================] - 0s 136ms/step\n"
          ]
        },
        {
          "name": "stderr",
          "output_type": "stream",
          "text": [
            "\r  9%|▉         | 31/335 [03:10<30:34,  6.03s/it]"
          ]
        },
        {
          "name": "stdout",
          "output_type": "stream",
          "text": [
            "1/1 [==============================] - 0s 135ms/step\n"
          ]
        },
        {
          "name": "stderr",
          "output_type": "stream",
          "text": [
            "\r 10%|▉         | 32/335 [03:16<31:35,  6.26s/it]"
          ]
        },
        {
          "name": "stdout",
          "output_type": "stream",
          "text": [
            "1/1 [==============================] - 0s 149ms/step\n"
          ]
        },
        {
          "name": "stderr",
          "output_type": "stream",
          "text": [
            "\r 10%|▉         | 33/335 [03:22<30:51,  6.13s/it]"
          ]
        },
        {
          "name": "stdout",
          "output_type": "stream",
          "text": [
            "1/1 [==============================] - 0s 153ms/step\n"
          ]
        },
        {
          "name": "stderr",
          "output_type": "stream",
          "text": [
            "\r 10%|█         | 34/335 [03:29<31:46,  6.34s/it]"
          ]
        },
        {
          "name": "stdout",
          "output_type": "stream",
          "text": [
            "1/1 [==============================] - 0s 140ms/step\n"
          ]
        },
        {
          "name": "stderr",
          "output_type": "stream",
          "text": [
            "\r 10%|█         | 35/335 [03:35<30:32,  6.11s/it]"
          ]
        },
        {
          "name": "stdout",
          "output_type": "stream",
          "text": [
            "1/1 [==============================] - 0s 131ms/step\n"
          ]
        },
        {
          "name": "stderr",
          "output_type": "stream",
          "text": [
            "\r 11%|█         | 36/335 [03:41<30:53,  6.20s/it]"
          ]
        },
        {
          "name": "stdout",
          "output_type": "stream",
          "text": [
            "1/1 [==============================] - 0s 142ms/step\n"
          ]
        },
        {
          "name": "stderr",
          "output_type": "stream",
          "text": [
            "\r 11%|█         | 37/335 [03:47<30:03,  6.05s/it]"
          ]
        },
        {
          "name": "stdout",
          "output_type": "stream",
          "text": [
            "1/1 [==============================] - 0s 134ms/step\n"
          ]
        },
        {
          "name": "stderr",
          "output_type": "stream",
          "text": [
            "\r 11%|█▏        | 38/335 [03:53<30:24,  6.14s/it]"
          ]
        },
        {
          "name": "stdout",
          "output_type": "stream",
          "text": [
            "1/1 [==============================] - 0s 131ms/step\n"
          ]
        },
        {
          "name": "stderr",
          "output_type": "stream",
          "text": [
            "\r 12%|█▏        | 39/335 [03:59<29:29,  5.98s/it]"
          ]
        },
        {
          "name": "stdout",
          "output_type": "stream",
          "text": [
            "1/1 [==============================] - 0s 144ms/step\n"
          ]
        },
        {
          "name": "stderr",
          "output_type": "stream",
          "text": [
            "\r 12%|█▏        | 40/335 [04:07<32:17,  6.57s/it]"
          ]
        },
        {
          "name": "stdout",
          "output_type": "stream",
          "text": [
            "1/1 [==============================] - 0s 141ms/step\n"
          ]
        },
        {
          "name": "stderr",
          "output_type": "stream",
          "text": [
            "\r 12%|█▏        | 41/335 [04:13<31:30,  6.43s/it]"
          ]
        },
        {
          "name": "stdout",
          "output_type": "stream",
          "text": [
            "1/1 [==============================] - 0s 250ms/step\n"
          ]
        },
        {
          "name": "stderr",
          "output_type": "stream",
          "text": [
            "\r 13%|█▎        | 42/335 [04:19<31:04,  6.36s/it]"
          ]
        },
        {
          "name": "stdout",
          "output_type": "stream",
          "text": [
            "1/1 [==============================] - 0s 133ms/step\n"
          ]
        },
        {
          "name": "stderr",
          "output_type": "stream",
          "text": [
            "\r 13%|█▎        | 43/335 [04:24<29:37,  6.09s/it]"
          ]
        },
        {
          "name": "stdout",
          "output_type": "stream",
          "text": [
            "1/1 [==============================] - 0s 266ms/step\n"
          ]
        },
        {
          "name": "stderr",
          "output_type": "stream",
          "text": [
            "\r 13%|█▎        | 44/335 [04:31<29:44,  6.13s/it]"
          ]
        },
        {
          "name": "stdout",
          "output_type": "stream",
          "text": [
            "1/1 [==============================] - 0s 133ms/step\n"
          ]
        },
        {
          "name": "stderr",
          "output_type": "stream",
          "text": [
            "\r 13%|█▎        | 45/335 [04:36<29:08,  6.03s/it]"
          ]
        },
        {
          "name": "stdout",
          "output_type": "stream",
          "text": [
            "1/1 [==============================] - 0s 151ms/step\n"
          ]
        },
        {
          "name": "stderr",
          "output_type": "stream",
          "text": [
            "\r 14%|█▎        | 46/335 [04:50<39:32,  8.21s/it]"
          ]
        },
        {
          "name": "stdout",
          "output_type": "stream",
          "text": [
            "1/1 [==============================] - 0s 132ms/step\n"
          ]
        },
        {
          "name": "stderr",
          "output_type": "stream",
          "text": [
            "\r 14%|█▍        | 47/335 [05:01<44:24,  9.25s/it]"
          ]
        },
        {
          "name": "stdout",
          "output_type": "stream",
          "text": [
            "1/1 [==============================] - 0s 150ms/step\n"
          ]
        },
        {
          "name": "stderr",
          "output_type": "stream",
          "text": [
            "\r 14%|█▍        | 48/335 [05:08<40:41,  8.51s/it]"
          ]
        },
        {
          "name": "stdout",
          "output_type": "stream",
          "text": [
            "1/1 [==============================] - 0s 134ms/step\n"
          ]
        },
        {
          "name": "stderr",
          "output_type": "stream",
          "text": [
            "\r 15%|█▍        | 49/335 [05:15<38:10,  8.01s/it]"
          ]
        },
        {
          "name": "stdout",
          "output_type": "stream",
          "text": [
            "1/1 [==============================] - 0s 133ms/step\n"
          ]
        },
        {
          "name": "stderr",
          "output_type": "stream",
          "text": [
            "\r 15%|█▍        | 50/335 [05:21<35:11,  7.41s/it]"
          ]
        },
        {
          "name": "stdout",
          "output_type": "stream",
          "text": [
            "1/1 [==============================] - 0s 138ms/step\n"
          ]
        },
        {
          "name": "stderr",
          "output_type": "stream",
          "text": [
            "\r 15%|█▌        | 51/335 [05:28<33:58,  7.18s/it]"
          ]
        },
        {
          "name": "stdout",
          "output_type": "stream",
          "text": [
            "1/1 [==============================] - 0s 141ms/step\n"
          ]
        },
        {
          "name": "stderr",
          "output_type": "stream",
          "text": [
            "\r 16%|█▌        | 52/335 [05:33<31:30,  6.68s/it]"
          ]
        },
        {
          "name": "stdout",
          "output_type": "stream",
          "text": [
            "1/1 [==============================] - 0s 138ms/step\n"
          ]
        },
        {
          "name": "stderr",
          "output_type": "stream",
          "text": [
            "\r 16%|█▌        | 53/335 [05:40<31:43,  6.75s/it]"
          ]
        },
        {
          "name": "stdout",
          "output_type": "stream",
          "text": [
            "1/1 [==============================] - 0s 142ms/step\n"
          ]
        },
        {
          "name": "stderr",
          "output_type": "stream",
          "text": [
            "\r 16%|█▌        | 54/335 [05:46<30:52,  6.59s/it]"
          ]
        },
        {
          "name": "stdout",
          "output_type": "stream",
          "text": [
            "1/1 [==============================] - 0s 135ms/step\n"
          ]
        },
        {
          "name": "stderr",
          "output_type": "stream",
          "text": [
            "\r 16%|█▋        | 55/335 [05:53<30:23,  6.51s/it]"
          ]
        },
        {
          "name": "stdout",
          "output_type": "stream",
          "text": [
            "1/1 [==============================] - 0s 142ms/step\n"
          ]
        },
        {
          "name": "stderr",
          "output_type": "stream",
          "text": [
            "\r 17%|█▋        | 56/335 [05:58<28:31,  6.14s/it]"
          ]
        },
        {
          "name": "stdout",
          "output_type": "stream",
          "text": [
            "1/1 [==============================] - 0s 137ms/step\n"
          ]
        },
        {
          "name": "stderr",
          "output_type": "stream",
          "text": [
            "\r 17%|█▋        | 57/335 [06:04<29:06,  6.28s/it]"
          ]
        },
        {
          "name": "stdout",
          "output_type": "stream",
          "text": [
            "1/1 [==============================] - 0s 147ms/step\n"
          ]
        },
        {
          "name": "stderr",
          "output_type": "stream",
          "text": [
            "\r 17%|█▋        | 58/335 [06:11<28:57,  6.27s/it]"
          ]
        },
        {
          "name": "stdout",
          "output_type": "stream",
          "text": [
            "1/1 [==============================] - 0s 132ms/step\n"
          ]
        },
        {
          "name": "stderr",
          "output_type": "stream",
          "text": [
            "\r 18%|█▊        | 59/335 [06:17<28:46,  6.26s/it]"
          ]
        },
        {
          "name": "stdout",
          "output_type": "stream",
          "text": [
            "1/1 [==============================] - 0s 132ms/step\n"
          ]
        },
        {
          "name": "stderr",
          "output_type": "stream",
          "text": [
            "\r 18%|█▊        | 60/335 [06:23<28:07,  6.14s/it]"
          ]
        },
        {
          "name": "stdout",
          "output_type": "stream",
          "text": [
            "1/1 [==============================] - 0s 132ms/step\n"
          ]
        },
        {
          "name": "stderr",
          "output_type": "stream",
          "text": [
            "\r 18%|█▊        | 61/335 [06:29<28:47,  6.30s/it]"
          ]
        },
        {
          "name": "stdout",
          "output_type": "stream",
          "text": [
            "1/1 [==============================] - 0s 147ms/step\n"
          ]
        },
        {
          "name": "stderr",
          "output_type": "stream",
          "text": [
            "\r 19%|█▊        | 62/335 [06:35<28:08,  6.19s/it]"
          ]
        },
        {
          "name": "stdout",
          "output_type": "stream",
          "text": [
            "1/1 [==============================] - 0s 243ms/step\n"
          ]
        },
        {
          "name": "stderr",
          "output_type": "stream",
          "text": [
            "\r 19%|█▉        | 63/335 [06:42<28:07,  6.20s/it]"
          ]
        },
        {
          "name": "stdout",
          "output_type": "stream",
          "text": [
            "1/1 [==============================] - 0s 143ms/step\n"
          ]
        },
        {
          "name": "stderr",
          "output_type": "stream",
          "text": [
            "\r 19%|█▉        | 64/335 [06:47<27:24,  6.07s/it]"
          ]
        },
        {
          "name": "stdout",
          "output_type": "stream",
          "text": [
            "1/1 [==============================] - 0s 251ms/step\n"
          ]
        },
        {
          "name": "stderr",
          "output_type": "stream",
          "text": [
            "\r 19%|█▉        | 65/335 [06:54<27:51,  6.19s/it]"
          ]
        },
        {
          "name": "stdout",
          "output_type": "stream",
          "text": [
            "1/1 [==============================] - 0s 134ms/step\n"
          ]
        },
        {
          "name": "stderr",
          "output_type": "stream",
          "text": [
            "\r 20%|█▉        | 66/335 [07:00<27:39,  6.17s/it]"
          ]
        },
        {
          "name": "stdout",
          "output_type": "stream",
          "text": [
            "1/1 [==============================] - 0s 142ms/step\n"
          ]
        },
        {
          "name": "stderr",
          "output_type": "stream",
          "text": [
            "\r 20%|██        | 67/335 [07:06<27:38,  6.19s/it]"
          ]
        },
        {
          "name": "stdout",
          "output_type": "stream",
          "text": [
            "1/1 [==============================] - 0s 130ms/step\n"
          ]
        },
        {
          "name": "stderr",
          "output_type": "stream",
          "text": [
            "\r 20%|██        | 68/335 [07:12<27:01,  6.07s/it]"
          ]
        },
        {
          "name": "stdout",
          "output_type": "stream",
          "text": [
            "1/1 [==============================] - 0s 133ms/step\n"
          ]
        },
        {
          "name": "stderr",
          "output_type": "stream",
          "text": [
            "\r 21%|██        | 69/335 [07:18<27:19,  6.16s/it]"
          ]
        },
        {
          "name": "stdout",
          "output_type": "stream",
          "text": [
            "1/1 [==============================] - 0s 142ms/step\n"
          ]
        },
        {
          "name": "stderr",
          "output_type": "stream",
          "text": [
            "\r 21%|██        | 70/335 [07:25<28:03,  6.35s/it]"
          ]
        },
        {
          "name": "stdout",
          "output_type": "stream",
          "text": [
            "1/1 [==============================] - 0s 140ms/step\n"
          ]
        },
        {
          "name": "stderr",
          "output_type": "stream",
          "text": [
            "\r 21%|██        | 71/335 [07:32<29:04,  6.61s/it]"
          ]
        },
        {
          "name": "stdout",
          "output_type": "stream",
          "text": [
            "1/1 [==============================] - 0s 136ms/step\n"
          ]
        },
        {
          "name": "stderr",
          "output_type": "stream",
          "text": [
            "\r 21%|██▏       | 72/335 [07:39<28:57,  6.60s/it]"
          ]
        },
        {
          "name": "stdout",
          "output_type": "stream",
          "text": [
            "1/1 [==============================] - 0s 142ms/step\n"
          ]
        },
        {
          "name": "stderr",
          "output_type": "stream",
          "text": [
            "\r 22%|██▏       | 73/335 [07:45<28:13,  6.47s/it]"
          ]
        },
        {
          "name": "stdout",
          "output_type": "stream",
          "text": [
            "1/1 [==============================] - 0s 133ms/step\n"
          ]
        },
        {
          "name": "stderr",
          "output_type": "stream",
          "text": [
            "\r 22%|██▏       | 74/335 [07:52<28:37,  6.58s/it]"
          ]
        },
        {
          "name": "stdout",
          "output_type": "stream",
          "text": [
            "1/1 [==============================] - 0s 138ms/step\n"
          ]
        },
        {
          "name": "stderr",
          "output_type": "stream",
          "text": [
            "\r 22%|██▏       | 75/335 [07:58<27:32,  6.36s/it]"
          ]
        },
        {
          "name": "stdout",
          "output_type": "stream",
          "text": [
            "1/1 [==============================] - 0s 132ms/step\n"
          ]
        },
        {
          "name": "stderr",
          "output_type": "stream",
          "text": [
            "\r 23%|██▎       | 76/335 [08:04<27:24,  6.35s/it]"
          ]
        },
        {
          "name": "stdout",
          "output_type": "stream",
          "text": [
            "1/1 [==============================] - 0s 153ms/step\n"
          ]
        },
        {
          "name": "stderr",
          "output_type": "stream",
          "text": [
            "\r 23%|██▎       | 77/335 [08:10<26:30,  6.17s/it]"
          ]
        },
        {
          "name": "stdout",
          "output_type": "stream",
          "text": [
            "1/1 [==============================] - 0s 132ms/step\n"
          ]
        },
        {
          "name": "stderr",
          "output_type": "stream",
          "text": [
            "\r 23%|██▎       | 78/335 [08:16<26:16,  6.13s/it]"
          ]
        },
        {
          "name": "stdout",
          "output_type": "stream",
          "text": [
            "1/1 [==============================] - 0s 138ms/step\n"
          ]
        },
        {
          "name": "stderr",
          "output_type": "stream",
          "text": [
            "\r 24%|██▎       | 79/335 [08:22<26:04,  6.11s/it]"
          ]
        },
        {
          "name": "stdout",
          "output_type": "stream",
          "text": [
            "1/1 [==============================] - 0s 132ms/step\n"
          ]
        },
        {
          "name": "stderr",
          "output_type": "stream",
          "text": [
            "\r 24%|██▍       | 80/335 [08:28<26:14,  6.17s/it]"
          ]
        },
        {
          "name": "stdout",
          "output_type": "stream",
          "text": [
            "1/1 [==============================] - 0s 143ms/step\n"
          ]
        },
        {
          "name": "stderr",
          "output_type": "stream",
          "text": [
            "\r 24%|██▍       | 81/335 [08:34<25:19,  5.98s/it]"
          ]
        },
        {
          "name": "stdout",
          "output_type": "stream",
          "text": [
            "1/1 [==============================] - 0s 143ms/step\n"
          ]
        },
        {
          "name": "stderr",
          "output_type": "stream",
          "text": [
            "\r 24%|██▍       | 82/335 [08:41<26:10,  6.21s/it]"
          ]
        },
        {
          "name": "stdout",
          "output_type": "stream",
          "text": [
            "1/1 [==============================] - 0s 148ms/step\n"
          ]
        },
        {
          "name": "stderr",
          "output_type": "stream",
          "text": [
            "\r 25%|██▍       | 83/335 [08:47<25:48,  6.14s/it]"
          ]
        },
        {
          "name": "stdout",
          "output_type": "stream",
          "text": [
            "1/1 [==============================] - 0s 131ms/step\n"
          ]
        },
        {
          "name": "stderr",
          "output_type": "stream",
          "text": [
            "\r 25%|██▌       | 84/335 [08:53<25:53,  6.19s/it]"
          ]
        },
        {
          "name": "stdout",
          "output_type": "stream",
          "text": [
            "1/1 [==============================] - 0s 135ms/step\n"
          ]
        },
        {
          "name": "stderr",
          "output_type": "stream",
          "text": [
            "\r 25%|██▌       | 85/335 [08:59<25:39,  6.16s/it]"
          ]
        },
        {
          "name": "stdout",
          "output_type": "stream",
          "text": [
            "1/1 [==============================] - 0s 246ms/step\n"
          ]
        },
        {
          "name": "stderr",
          "output_type": "stream",
          "text": [
            "\r 26%|██▌       | 86/335 [09:06<26:11,  6.31s/it]"
          ]
        },
        {
          "name": "stdout",
          "output_type": "stream",
          "text": [
            "1/1 [==============================] - 0s 138ms/step\n"
          ]
        },
        {
          "name": "stderr",
          "output_type": "stream",
          "text": [
            "\r 26%|██▌       | 87/335 [09:13<27:34,  6.67s/it]"
          ]
        },
        {
          "name": "stdout",
          "output_type": "stream",
          "text": [
            "1/1 [==============================] - 0s 152ms/step\n"
          ]
        },
        {
          "name": "stderr",
          "output_type": "stream",
          "text": [
            "\r 26%|██▋       | 88/335 [09:19<27:00,  6.56s/it]"
          ]
        },
        {
          "name": "stdout",
          "output_type": "stream",
          "text": [
            "1/1 [==============================] - 0s 131ms/step\n"
          ]
        },
        {
          "name": "stderr",
          "output_type": "stream",
          "text": [
            "\r 27%|██▋       | 89/335 [09:25<26:04,  6.36s/it]"
          ]
        },
        {
          "name": "stdout",
          "output_type": "stream",
          "text": [
            "1/1 [==============================] - 0s 145ms/step\n"
          ]
        },
        {
          "name": "stderr",
          "output_type": "stream",
          "text": [
            "\r 27%|██▋       | 90/335 [09:32<26:17,  6.44s/it]"
          ]
        },
        {
          "name": "stdout",
          "output_type": "stream",
          "text": [
            "1/1 [==============================] - 0s 145ms/step\n"
          ]
        },
        {
          "name": "stderr",
          "output_type": "stream",
          "text": [
            "\r 27%|██▋       | 91/335 [09:39<26:29,  6.51s/it]"
          ]
        },
        {
          "name": "stdout",
          "output_type": "stream",
          "text": [
            "1/1 [==============================] - 0s 131ms/step\n"
          ]
        },
        {
          "name": "stderr",
          "output_type": "stream",
          "text": [
            "\r 27%|██▋       | 92/335 [09:44<25:32,  6.31s/it]"
          ]
        },
        {
          "name": "stdout",
          "output_type": "stream",
          "text": [
            "1/1 [==============================] - 0s 133ms/step\n"
          ]
        },
        {
          "name": "stderr",
          "output_type": "stream",
          "text": [
            "\r 28%|██▊       | 93/335 [09:51<25:28,  6.32s/it]"
          ]
        },
        {
          "name": "stdout",
          "output_type": "stream",
          "text": [
            "1/1 [==============================] - 0s 134ms/step\n"
          ]
        },
        {
          "name": "stderr",
          "output_type": "stream",
          "text": [
            "\r 28%|██▊       | 94/335 [09:56<24:34,  6.12s/it]"
          ]
        },
        {
          "name": "stdout",
          "output_type": "stream",
          "text": [
            "1/1 [==============================] - 0s 150ms/step\n"
          ]
        },
        {
          "name": "stderr",
          "output_type": "stream",
          "text": [
            "\r 28%|██▊       | 95/335 [10:03<25:21,  6.34s/it]"
          ]
        },
        {
          "name": "stdout",
          "output_type": "stream",
          "text": [
            "1/1 [==============================] - 0s 134ms/step\n"
          ]
        },
        {
          "name": "stderr",
          "output_type": "stream",
          "text": [
            "\r 29%|██▊       | 96/335 [10:09<24:45,  6.22s/it]"
          ]
        },
        {
          "name": "stdout",
          "output_type": "stream",
          "text": [
            "1/1 [==============================] - 0s 144ms/step\n"
          ]
        },
        {
          "name": "stderr",
          "output_type": "stream",
          "text": [
            "\r 29%|██▉       | 97/335 [10:15<24:37,  6.21s/it]"
          ]
        },
        {
          "name": "stdout",
          "output_type": "stream",
          "text": [
            "1/1 [==============================] - 0s 140ms/step\n"
          ]
        },
        {
          "name": "stderr",
          "output_type": "stream",
          "text": [
            "\r 29%|██▉       | 98/335 [10:21<23:34,  5.97s/it]"
          ]
        },
        {
          "name": "stdout",
          "output_type": "stream",
          "text": [
            "1/1 [==============================] - 0s 133ms/step\n"
          ]
        },
        {
          "name": "stderr",
          "output_type": "stream",
          "text": [
            "\r 30%|██▉       | 99/335 [10:27<24:15,  6.17s/it]"
          ]
        },
        {
          "name": "stdout",
          "output_type": "stream",
          "text": [
            "1/1 [==============================] - 0s 136ms/step\n"
          ]
        },
        {
          "name": "stderr",
          "output_type": "stream",
          "text": [
            "\r 30%|██▉       | 100/335 [10:33<23:07,  5.91s/it]"
          ]
        },
        {
          "name": "stdout",
          "output_type": "stream",
          "text": [
            "1/1 [==============================] - 0s 149ms/step\n"
          ]
        },
        {
          "name": "stderr",
          "output_type": "stream",
          "text": [
            "\r 30%|███       | 101/335 [10:40<24:03,  6.17s/it]"
          ]
        },
        {
          "name": "stdout",
          "output_type": "stream",
          "text": [
            "1/1 [==============================] - 0s 138ms/step\n"
          ]
        },
        {
          "name": "stderr",
          "output_type": "stream",
          "text": [
            "\r 30%|███       | 102/335 [10:46<23:44,  6.11s/it]"
          ]
        },
        {
          "name": "stdout",
          "output_type": "stream",
          "text": [
            "1/1 [==============================] - 0s 160ms/step\n"
          ]
        },
        {
          "name": "stderr",
          "output_type": "stream",
          "text": [
            "\r 31%|███       | 103/335 [10:53<25:02,  6.47s/it]"
          ]
        },
        {
          "name": "stdout",
          "output_type": "stream",
          "text": [
            "1/1 [==============================] - 0s 136ms/step\n"
          ]
        },
        {
          "name": "stderr",
          "output_type": "stream",
          "text": [
            "\r 31%|███       | 104/335 [10:59<24:16,  6.30s/it]"
          ]
        },
        {
          "name": "stdout",
          "output_type": "stream",
          "text": [
            "1/1 [==============================] - 0s 249ms/step\n"
          ]
        },
        {
          "name": "stderr",
          "output_type": "stream",
          "text": [
            "\r 31%|███▏      | 105/335 [11:06<25:21,  6.61s/it]"
          ]
        },
        {
          "name": "stdout",
          "output_type": "stream",
          "text": [
            "1/1 [==============================] - 0s 158ms/step\n"
          ]
        },
        {
          "name": "stderr",
          "output_type": "stream",
          "text": [
            "\r 32%|███▏      | 106/335 [11:13<25:10,  6.60s/it]"
          ]
        },
        {
          "name": "stdout",
          "output_type": "stream",
          "text": [
            "1/1 [==============================] - 0s 136ms/step\n"
          ]
        },
        {
          "name": "stderr",
          "output_type": "stream",
          "text": [
            "\r 32%|███▏      | 107/335 [11:19<24:47,  6.52s/it]"
          ]
        },
        {
          "name": "stdout",
          "output_type": "stream",
          "text": [
            "1/1 [==============================] - 0s 147ms/step\n"
          ]
        },
        {
          "name": "stderr",
          "output_type": "stream",
          "text": [
            "\r 32%|███▏      | 108/335 [11:25<23:58,  6.33s/it]"
          ]
        },
        {
          "name": "stdout",
          "output_type": "stream",
          "text": [
            "1/1 [==============================] - 0s 143ms/step\n"
          ]
        },
        {
          "name": "stderr",
          "output_type": "stream",
          "text": [
            "\r 33%|███▎      | 109/335 [11:31<23:52,  6.34s/it]"
          ]
        },
        {
          "name": "stdout",
          "output_type": "stream",
          "text": [
            "1/1 [==============================] - 0s 147ms/step\n"
          ]
        },
        {
          "name": "stderr",
          "output_type": "stream",
          "text": [
            "\r 33%|███▎      | 110/335 [11:37<23:22,  6.23s/it]"
          ]
        },
        {
          "name": "stdout",
          "output_type": "stream",
          "text": [
            "1/1 [==============================] - 0s 134ms/step\n"
          ]
        },
        {
          "name": "stderr",
          "output_type": "stream",
          "text": [
            "\r 33%|███▎      | 111/335 [11:43<22:42,  6.08s/it]"
          ]
        },
        {
          "name": "stdout",
          "output_type": "stream",
          "text": [
            "1/1 [==============================] - 0s 140ms/step\n"
          ]
        },
        {
          "name": "stderr",
          "output_type": "stream",
          "text": [
            "\r 33%|███▎      | 112/335 [11:50<24:04,  6.48s/it]"
          ]
        },
        {
          "name": "stdout",
          "output_type": "stream",
          "text": [
            "1/1 [==============================] - 0s 130ms/step\n"
          ]
        },
        {
          "name": "stderr",
          "output_type": "stream",
          "text": [
            "\r 34%|███▎      | 113/335 [11:56<23:13,  6.28s/it]"
          ]
        },
        {
          "name": "stdout",
          "output_type": "stream",
          "text": [
            "1/1 [==============================] - 0s 153ms/step\n"
          ]
        },
        {
          "name": "stderr",
          "output_type": "stream",
          "text": [
            "\r 34%|███▍      | 114/335 [12:03<23:53,  6.48s/it]"
          ]
        },
        {
          "name": "stdout",
          "output_type": "stream",
          "text": [
            "1/1 [==============================] - 0s 156ms/step\n"
          ]
        },
        {
          "name": "stderr",
          "output_type": "stream",
          "text": [
            "\r 34%|███▍      | 115/335 [12:09<23:36,  6.44s/it]"
          ]
        },
        {
          "name": "stdout",
          "output_type": "stream",
          "text": [
            "1/1 [==============================] - 0s 134ms/step\n"
          ]
        },
        {
          "name": "stderr",
          "output_type": "stream",
          "text": [
            "\r 35%|███▍      | 116/335 [12:16<23:32,  6.45s/it]"
          ]
        },
        {
          "name": "stdout",
          "output_type": "stream",
          "text": [
            "1/1 [==============================] - 0s 133ms/step\n"
          ]
        },
        {
          "name": "stderr",
          "output_type": "stream",
          "text": [
            "\r 35%|███▍      | 117/335 [12:21<22:26,  6.17s/it]"
          ]
        },
        {
          "name": "stdout",
          "output_type": "stream",
          "text": [
            "1/1 [==============================] - 0s 250ms/step\n"
          ]
        },
        {
          "name": "stderr",
          "output_type": "stream",
          "text": [
            "\r 35%|███▌      | 118/335 [12:29<23:30,  6.50s/it]"
          ]
        },
        {
          "name": "stdout",
          "output_type": "stream",
          "text": [
            "1/1 [==============================] - 0s 143ms/step\n"
          ]
        },
        {
          "name": "stderr",
          "output_type": "stream",
          "text": [
            "\r 36%|███▌      | 119/335 [12:35<23:01,  6.40s/it]"
          ]
        },
        {
          "name": "stdout",
          "output_type": "stream",
          "text": [
            "1/1 [==============================] - 0s 165ms/step\n"
          ]
        },
        {
          "name": "stderr",
          "output_type": "stream",
          "text": [
            "\r 36%|███▌      | 120/335 [12:41<22:59,  6.42s/it]"
          ]
        },
        {
          "name": "stdout",
          "output_type": "stream",
          "text": [
            "1/1 [==============================] - 0s 135ms/step\n"
          ]
        },
        {
          "name": "stderr",
          "output_type": "stream",
          "text": [
            "\r 36%|███▌      | 121/335 [12:47<22:01,  6.17s/it]"
          ]
        },
        {
          "name": "stdout",
          "output_type": "stream",
          "text": [
            "1/1 [==============================] - 0s 139ms/step\n"
          ]
        },
        {
          "name": "stderr",
          "output_type": "stream",
          "text": [
            "\r 36%|███▋      | 122/335 [12:54<22:35,  6.36s/it]"
          ]
        },
        {
          "name": "stdout",
          "output_type": "stream",
          "text": [
            "1/1 [==============================] - 0s 137ms/step\n"
          ]
        },
        {
          "name": "stderr",
          "output_type": "stream",
          "text": [
            "\r 37%|███▋      | 123/335 [12:59<21:43,  6.15s/it]"
          ]
        },
        {
          "name": "stdout",
          "output_type": "stream",
          "text": [
            "1/1 [==============================] - 0s 136ms/step\n"
          ]
        },
        {
          "name": "stderr",
          "output_type": "stream",
          "text": [
            "\r 37%|███▋      | 124/335 [13:06<21:57,  6.24s/it]"
          ]
        },
        {
          "name": "stdout",
          "output_type": "stream",
          "text": [
            "1/1 [==============================] - 0s 135ms/step\n"
          ]
        },
        {
          "name": "stderr",
          "output_type": "stream",
          "text": [
            "\r 37%|███▋      | 125/335 [13:13<22:47,  6.51s/it]"
          ]
        },
        {
          "name": "stdout",
          "output_type": "stream",
          "text": [
            "1/1 [==============================] - 0s 163ms/step\n"
          ]
        },
        {
          "name": "stderr",
          "output_type": "stream",
          "text": [
            "\r 38%|███▊      | 126/335 [13:19<22:01,  6.33s/it]"
          ]
        },
        {
          "name": "stdout",
          "output_type": "stream",
          "text": [
            "1/1 [==============================] - 0s 131ms/step\n"
          ]
        },
        {
          "name": "stderr",
          "output_type": "stream",
          "text": [
            "\r 38%|███▊      | 127/335 [13:25<21:49,  6.30s/it]"
          ]
        },
        {
          "name": "stdout",
          "output_type": "stream",
          "text": [
            "1/1 [==============================] - 0s 135ms/step\n"
          ]
        },
        {
          "name": "stderr",
          "output_type": "stream",
          "text": [
            "\r 38%|███▊      | 128/335 [13:31<20:56,  6.07s/it]"
          ]
        },
        {
          "name": "stdout",
          "output_type": "stream",
          "text": [
            "1/1 [==============================] - 0s 142ms/step\n"
          ]
        },
        {
          "name": "stderr",
          "output_type": "stream",
          "text": [
            "\r 39%|███▊      | 129/335 [13:37<21:09,  6.16s/it]"
          ]
        },
        {
          "name": "stdout",
          "output_type": "stream",
          "text": [
            "1/1 [==============================] - 0s 140ms/step\n"
          ]
        },
        {
          "name": "stderr",
          "output_type": "stream",
          "text": [
            "\r 39%|███▉      | 130/335 [13:43<20:18,  5.94s/it]"
          ]
        },
        {
          "name": "stdout",
          "output_type": "stream",
          "text": [
            "1/1 [==============================] - 0s 131ms/step\n"
          ]
        },
        {
          "name": "stderr",
          "output_type": "stream",
          "text": [
            "\r 39%|███▉      | 131/335 [13:49<20:50,  6.13s/it]"
          ]
        },
        {
          "name": "stdout",
          "output_type": "stream",
          "text": [
            "1/1 [==============================] - 0s 137ms/step\n"
          ]
        },
        {
          "name": "stderr",
          "output_type": "stream",
          "text": [
            "\r 39%|███▉      | 132/335 [13:55<20:36,  6.09s/it]"
          ]
        },
        {
          "name": "stdout",
          "output_type": "stream",
          "text": [
            "1/1 [==============================] - 0s 136ms/step\n"
          ]
        },
        {
          "name": "stderr",
          "output_type": "stream",
          "text": [
            "\r 40%|███▉      | 133/335 [14:02<20:53,  6.20s/it]"
          ]
        },
        {
          "name": "stdout",
          "output_type": "stream",
          "text": [
            "1/1 [==============================] - 0s 143ms/step\n"
          ]
        },
        {
          "name": "stderr",
          "output_type": "stream",
          "text": [
            "\r 40%|████      | 134/335 [14:07<20:26,  6.10s/it]"
          ]
        },
        {
          "name": "stdout",
          "output_type": "stream",
          "text": [
            "1/1 [==============================] - 0s 145ms/step\n"
          ]
        },
        {
          "name": "stderr",
          "output_type": "stream",
          "text": [
            "\r 40%|████      | 135/335 [14:14<20:48,  6.24s/it]"
          ]
        },
        {
          "name": "stdout",
          "output_type": "stream",
          "text": [
            "1/1 [==============================] - 0s 134ms/step\n"
          ]
        },
        {
          "name": "stderr",
          "output_type": "stream",
          "text": [
            "\r 41%|████      | 136/335 [14:20<20:34,  6.20s/it]"
          ]
        },
        {
          "name": "stdout",
          "output_type": "stream",
          "text": [
            "1/1 [==============================] - 0s 142ms/step\n"
          ]
        },
        {
          "name": "stderr",
          "output_type": "stream",
          "text": [
            "\r 41%|████      | 137/335 [14:26<20:27,  6.20s/it]"
          ]
        },
        {
          "name": "stdout",
          "output_type": "stream",
          "text": [
            "1/1 [==============================] - 0s 133ms/step\n"
          ]
        },
        {
          "name": "stderr",
          "output_type": "stream",
          "text": [
            "\r 41%|████      | 138/335 [14:33<20:31,  6.25s/it]"
          ]
        },
        {
          "name": "stdout",
          "output_type": "stream",
          "text": [
            "1/1 [==============================] - 0s 132ms/step\n"
          ]
        },
        {
          "name": "stderr",
          "output_type": "stream",
          "text": [
            "\r 41%|████▏     | 139/335 [14:39<20:53,  6.39s/it]"
          ]
        },
        {
          "name": "stdout",
          "output_type": "stream",
          "text": [
            "1/1 [==============================] - 0s 133ms/step\n"
          ]
        },
        {
          "name": "stderr",
          "output_type": "stream",
          "text": [
            "\r 42%|████▏     | 140/335 [14:45<20:16,  6.24s/it]"
          ]
        },
        {
          "name": "stdout",
          "output_type": "stream",
          "text": [
            "1/1 [==============================] - 0s 250ms/step\n"
          ]
        },
        {
          "name": "stderr",
          "output_type": "stream",
          "text": [
            "\r 42%|████▏     | 141/335 [14:52<20:13,  6.26s/it]"
          ]
        },
        {
          "name": "stdout",
          "output_type": "stream",
          "text": [
            "1/1 [==============================] - 0s 148ms/step\n"
          ]
        },
        {
          "name": "stderr",
          "output_type": "stream",
          "text": [
            "\r 42%|████▏     | 142/335 [15:04<25:56,  8.07s/it]"
          ]
        },
        {
          "name": "stdout",
          "output_type": "stream",
          "text": [
            "1/1 [==============================] - 0s 272ms/step\n"
          ]
        },
        {
          "name": "stderr",
          "output_type": "stream",
          "text": [
            "\r 43%|████▎     | 143/335 [15:17<31:03,  9.70s/it]"
          ]
        },
        {
          "name": "stdout",
          "output_type": "stream",
          "text": [
            "1/1 [==============================] - 0s 132ms/step\n"
          ]
        },
        {
          "name": "stderr",
          "output_type": "stream",
          "text": [
            "\r 43%|████▎     | 144/335 [15:23<27:07,  8.52s/it]"
          ]
        },
        {
          "name": "stdout",
          "output_type": "stream",
          "text": [
            "1/1 [==============================] - 0s 251ms/step\n"
          ]
        },
        {
          "name": "stderr",
          "output_type": "stream",
          "text": [
            "\r 43%|████▎     | 145/335 [15:30<25:14,  7.97s/it]"
          ]
        },
        {
          "name": "stdout",
          "output_type": "stream",
          "text": [
            "1/1 [==============================] - 0s 136ms/step\n"
          ]
        },
        {
          "name": "stderr",
          "output_type": "stream",
          "text": [
            "\r 44%|████▎     | 146/335 [15:36<23:18,  7.40s/it]"
          ]
        },
        {
          "name": "stdout",
          "output_type": "stream",
          "text": [
            "1/1 [==============================] - 0s 134ms/step\n"
          ]
        },
        {
          "name": "stderr",
          "output_type": "stream",
          "text": [
            "\r 44%|████▍     | 147/335 [15:42<22:25,  7.16s/it]"
          ]
        },
        {
          "name": "stdout",
          "output_type": "stream",
          "text": [
            "1/1 [==============================] - 0s 135ms/step\n"
          ]
        },
        {
          "name": "stderr",
          "output_type": "stream",
          "text": [
            "\r 44%|████▍     | 148/335 [15:49<21:33,  6.92s/it]"
          ]
        },
        {
          "name": "stdout",
          "output_type": "stream",
          "text": [
            "1/1 [==============================] - 0s 137ms/step\n"
          ]
        },
        {
          "name": "stderr",
          "output_type": "stream",
          "text": [
            "\r 44%|████▍     | 149/335 [15:55<21:00,  6.77s/it]"
          ]
        },
        {
          "name": "stdout",
          "output_type": "stream",
          "text": [
            "1/1 [==============================] - 0s 142ms/step\n"
          ]
        },
        {
          "name": "stderr",
          "output_type": "stream",
          "text": [
            "\r 45%|████▍     | 150/335 [16:02<21:03,  6.83s/it]"
          ]
        },
        {
          "name": "stdout",
          "output_type": "stream",
          "text": [
            "1/1 [==============================] - 0s 134ms/step\n"
          ]
        },
        {
          "name": "stderr",
          "output_type": "stream",
          "text": [
            "\r 45%|████▌     | 151/335 [16:08<20:12,  6.59s/it]"
          ]
        },
        {
          "name": "stdout",
          "output_type": "stream",
          "text": [
            "1/1 [==============================] - 0s 138ms/step\n"
          ]
        },
        {
          "name": "stderr",
          "output_type": "stream",
          "text": [
            "\r 45%|████▌     | 152/335 [16:16<20:55,  6.86s/it]"
          ]
        },
        {
          "name": "stdout",
          "output_type": "stream",
          "text": [
            "1/1 [==============================] - 0s 144ms/step\n"
          ]
        },
        {
          "name": "stderr",
          "output_type": "stream",
          "text": [
            "\r 46%|████▌     | 153/335 [16:22<19:50,  6.54s/it]"
          ]
        },
        {
          "name": "stdout",
          "output_type": "stream",
          "text": [
            "1/1 [==============================] - 0s 135ms/step\n"
          ]
        },
        {
          "name": "stderr",
          "output_type": "stream",
          "text": [
            "\r 46%|████▌     | 154/335 [16:28<19:40,  6.52s/it]"
          ]
        },
        {
          "name": "stdout",
          "output_type": "stream",
          "text": [
            "1/1 [==============================] - 0s 147ms/step\n"
          ]
        },
        {
          "name": "stderr",
          "output_type": "stream",
          "text": [
            "\r 46%|████▋     | 155/335 [16:34<19:05,  6.36s/it]"
          ]
        },
        {
          "name": "stdout",
          "output_type": "stream",
          "text": [
            "1/1 [==============================] - 0s 132ms/step\n"
          ]
        },
        {
          "name": "stderr",
          "output_type": "stream",
          "text": [
            "\r 47%|████▋     | 156/335 [16:41<19:09,  6.42s/it]"
          ]
        },
        {
          "name": "stdout",
          "output_type": "stream",
          "text": [
            "1/1 [==============================] - 0s 131ms/step\n"
          ]
        },
        {
          "name": "stderr",
          "output_type": "stream",
          "text": [
            "\r 47%|████▋     | 157/335 [16:46<18:19,  6.17s/it]"
          ]
        },
        {
          "name": "stdout",
          "output_type": "stream",
          "text": [
            "1/1 [==============================] - 0s 133ms/step\n"
          ]
        },
        {
          "name": "stderr",
          "output_type": "stream",
          "text": [
            "\r 47%|████▋     | 158/335 [16:52<18:19,  6.21s/it]"
          ]
        },
        {
          "name": "stdout",
          "output_type": "stream",
          "text": [
            "1/1 [==============================] - 0s 133ms/step\n"
          ]
        },
        {
          "name": "stderr",
          "output_type": "stream",
          "text": [
            "\r 47%|████▋     | 159/335 [16:58<17:44,  6.05s/it]"
          ]
        },
        {
          "name": "stdout",
          "output_type": "stream",
          "text": [
            "1/1 [==============================] - 0s 156ms/step\n"
          ]
        },
        {
          "name": "stderr",
          "output_type": "stream",
          "text": [
            "\r 48%|████▊     | 160/335 [17:05<18:14,  6.25s/it]"
          ]
        },
        {
          "name": "stdout",
          "output_type": "stream",
          "text": [
            "1/1 [==============================] - 0s 141ms/step\n"
          ]
        },
        {
          "name": "stderr",
          "output_type": "stream",
          "text": [
            "\r 48%|████▊     | 161/335 [17:11<17:59,  6.21s/it]"
          ]
        },
        {
          "name": "stdout",
          "output_type": "stream",
          "text": [
            "1/1 [==============================] - 0s 255ms/step\n"
          ]
        },
        {
          "name": "stderr",
          "output_type": "stream",
          "text": [
            "\r 48%|████▊     | 162/335 [17:18<18:17,  6.35s/it]"
          ]
        },
        {
          "name": "stdout",
          "output_type": "stream",
          "text": [
            "1/1 [==============================] - 0s 133ms/step\n"
          ]
        },
        {
          "name": "stderr",
          "output_type": "stream",
          "text": [
            "\r 49%|████▊     | 163/335 [17:23<17:27,  6.09s/it]"
          ]
        },
        {
          "name": "stdout",
          "output_type": "stream",
          "text": [
            "1/1 [==============================] - 0s 261ms/step\n"
          ]
        },
        {
          "name": "stderr",
          "output_type": "stream",
          "text": [
            "\r 49%|████▉     | 164/335 [17:30<17:57,  6.30s/it]"
          ]
        },
        {
          "name": "stdout",
          "output_type": "stream",
          "text": [
            "1/1 [==============================] - 0s 139ms/step\n"
          ]
        },
        {
          "name": "stderr",
          "output_type": "stream",
          "text": [
            "\r 49%|████▉     | 165/335 [17:36<17:36,  6.22s/it]"
          ]
        },
        {
          "name": "stdout",
          "output_type": "stream",
          "text": [
            "1/1 [==============================] - 0s 157ms/step\n"
          ]
        },
        {
          "name": "stderr",
          "output_type": "stream",
          "text": [
            "\r 50%|████▉     | 166/335 [17:42<17:39,  6.27s/it]"
          ]
        },
        {
          "name": "stdout",
          "output_type": "stream",
          "text": [
            "1/1 [==============================] - 0s 143ms/step\n"
          ]
        },
        {
          "name": "stderr",
          "output_type": "stream",
          "text": [
            "\r 50%|████▉     | 167/335 [17:49<17:32,  6.26s/it]"
          ]
        },
        {
          "name": "stdout",
          "output_type": "stream",
          "text": [
            "1/1 [==============================] - 0s 138ms/step\n"
          ]
        },
        {
          "name": "stderr",
          "output_type": "stream",
          "text": [
            "\r 50%|█████     | 168/335 [17:58<19:52,  7.14s/it]"
          ]
        },
        {
          "name": "stdout",
          "output_type": "stream",
          "text": [
            "1/1 [==============================] - 0s 133ms/step\n"
          ]
        },
        {
          "name": "stderr",
          "output_type": "stream",
          "text": [
            "\r 50%|█████     | 169/335 [18:04<19:10,  6.93s/it]"
          ]
        },
        {
          "name": "stdout",
          "output_type": "stream",
          "text": [
            "1/1 [==============================] - 0s 133ms/step\n"
          ]
        },
        {
          "name": "stderr",
          "output_type": "stream",
          "text": [
            "\r 51%|█████     | 170/335 [18:10<18:05,  6.58s/it]"
          ]
        },
        {
          "name": "stdout",
          "output_type": "stream",
          "text": [
            "1/1 [==============================] - 0s 130ms/step\n"
          ]
        },
        {
          "name": "stderr",
          "output_type": "stream",
          "text": [
            "\r 51%|█████     | 171/335 [18:16<17:43,  6.49s/it]"
          ]
        },
        {
          "name": "stdout",
          "output_type": "stream",
          "text": [
            "1/1 [==============================] - 0s 137ms/step\n"
          ]
        },
        {
          "name": "stderr",
          "output_type": "stream",
          "text": [
            "\r 51%|█████▏    | 172/335 [18:22<17:04,  6.28s/it]"
          ]
        },
        {
          "name": "stdout",
          "output_type": "stream",
          "text": [
            "1/1 [==============================] - 0s 160ms/step\n"
          ]
        },
        {
          "name": "stderr",
          "output_type": "stream",
          "text": [
            "\r 52%|█████▏    | 173/335 [18:29<17:22,  6.43s/it]"
          ]
        },
        {
          "name": "stdout",
          "output_type": "stream",
          "text": [
            "1/1 [==============================] - 0s 142ms/step\n"
          ]
        },
        {
          "name": "stderr",
          "output_type": "stream",
          "text": [
            "\r 52%|█████▏    | 174/335 [18:35<16:52,  6.29s/it]"
          ]
        },
        {
          "name": "stdout",
          "output_type": "stream",
          "text": [
            "1/1 [==============================] - 0s 160ms/step\n"
          ]
        },
        {
          "name": "stderr",
          "output_type": "stream",
          "text": [
            "\r 52%|█████▏    | 175/335 [18:42<17:16,  6.48s/it]"
          ]
        },
        {
          "name": "stdout",
          "output_type": "stream",
          "text": [
            "1/1 [==============================] - 0s 136ms/step\n"
          ]
        },
        {
          "name": "stderr",
          "output_type": "stream",
          "text": [
            "\r 53%|█████▎    | 176/335 [18:47<16:29,  6.22s/it]"
          ]
        },
        {
          "name": "stdout",
          "output_type": "stream",
          "text": [
            "1/1 [==============================] - 0s 132ms/step\n"
          ]
        },
        {
          "name": "stderr",
          "output_type": "stream",
          "text": [
            "\r 53%|█████▎    | 177/335 [18:54<16:43,  6.35s/it]"
          ]
        },
        {
          "name": "stdout",
          "output_type": "stream",
          "text": [
            "1/1 [==============================] - 0s 150ms/step\n"
          ]
        },
        {
          "name": "stderr",
          "output_type": "stream",
          "text": [
            "\r 53%|█████▎    | 178/335 [19:00<16:22,  6.26s/it]"
          ]
        },
        {
          "name": "stdout",
          "output_type": "stream",
          "text": [
            "1/1 [==============================] - 0s 289ms/step\n"
          ]
        },
        {
          "name": "stderr",
          "output_type": "stream",
          "text": [
            "\r 53%|█████▎    | 179/335 [19:07<16:37,  6.40s/it]"
          ]
        },
        {
          "name": "stdout",
          "output_type": "stream",
          "text": [
            "1/1 [==============================] - 0s 159ms/step\n"
          ]
        },
        {
          "name": "stderr",
          "output_type": "stream",
          "text": [
            "\r 54%|█████▎    | 180/335 [19:13<16:21,  6.33s/it]"
          ]
        },
        {
          "name": "stdout",
          "output_type": "stream",
          "text": [
            "1/1 [==============================] - 0s 151ms/step\n"
          ]
        },
        {
          "name": "stderr",
          "output_type": "stream",
          "text": [
            "\r 54%|█████▍    | 181/335 [19:20<16:30,  6.43s/it]"
          ]
        },
        {
          "name": "stdout",
          "output_type": "stream",
          "text": [
            "1/1 [==============================] - 0s 137ms/step\n"
          ]
        },
        {
          "name": "stderr",
          "output_type": "stream",
          "text": [
            "\r 54%|█████▍    | 182/335 [19:26<16:06,  6.32s/it]"
          ]
        },
        {
          "name": "stdout",
          "output_type": "stream",
          "text": [
            "1/1 [==============================] - 0s 155ms/step\n"
          ]
        },
        {
          "name": "stderr",
          "output_type": "stream",
          "text": [
            "\r 55%|█████▍    | 183/335 [19:32<16:13,  6.40s/it]"
          ]
        },
        {
          "name": "stdout",
          "output_type": "stream",
          "text": [
            "1/1 [==============================] - 0s 134ms/step\n"
          ]
        },
        {
          "name": "stderr",
          "output_type": "stream",
          "text": [
            "\r 55%|█████▍    | 184/335 [19:38<15:22,  6.11s/it]"
          ]
        },
        {
          "name": "stdout",
          "output_type": "stream",
          "text": [
            "1/1 [==============================] - 0s 134ms/step\n"
          ]
        },
        {
          "name": "stderr",
          "output_type": "stream",
          "text": [
            "\r 55%|█████▌    | 185/335 [19:45<15:49,  6.33s/it]"
          ]
        },
        {
          "name": "stdout",
          "output_type": "stream",
          "text": [
            "1/1 [==============================] - 0s 159ms/step\n"
          ]
        },
        {
          "name": "stderr",
          "output_type": "stream",
          "text": [
            "\r 56%|█████▌    | 186/335 [19:52<16:39,  6.71s/it]"
          ]
        },
        {
          "name": "stdout",
          "output_type": "stream",
          "text": [
            "1/1 [==============================] - 0s 151ms/step\n"
          ]
        },
        {
          "name": "stderr",
          "output_type": "stream",
          "text": [
            "\r 56%|█████▌    | 187/335 [19:59<16:28,  6.68s/it]"
          ]
        },
        {
          "name": "stdout",
          "output_type": "stream",
          "text": [
            "1/1 [==============================] - 0s 136ms/step\n"
          ]
        },
        {
          "name": "stderr",
          "output_type": "stream",
          "text": [
            "\r 56%|█████▌    | 188/335 [20:05<16:05,  6.57s/it]"
          ]
        },
        {
          "name": "stdout",
          "output_type": "stream",
          "text": [
            "1/1 [==============================] - 0s 156ms/step\n"
          ]
        },
        {
          "name": "stderr",
          "output_type": "stream",
          "text": [
            "\r 56%|█████▋    | 189/335 [20:11<15:22,  6.32s/it]"
          ]
        },
        {
          "name": "stdout",
          "output_type": "stream",
          "text": [
            "1/1 [==============================] - 0s 138ms/step\n"
          ]
        },
        {
          "name": "stderr",
          "output_type": "stream",
          "text": [
            "\r 57%|█████▋    | 190/335 [20:17<15:28,  6.41s/it]"
          ]
        },
        {
          "name": "stdout",
          "output_type": "stream",
          "text": [
            "1/1 [==============================] - 0s 148ms/step\n"
          ]
        },
        {
          "name": "stderr",
          "output_type": "stream",
          "text": [
            "\r 57%|█████▋    | 191/335 [20:24<15:27,  6.44s/it]"
          ]
        },
        {
          "name": "stdout",
          "output_type": "stream",
          "text": [
            "1/1 [==============================] - 0s 238ms/step\n"
          ]
        },
        {
          "name": "stderr",
          "output_type": "stream",
          "text": [
            "\r 57%|█████▋    | 192/335 [20:30<15:20,  6.44s/it]"
          ]
        },
        {
          "name": "stdout",
          "output_type": "stream",
          "text": [
            "1/1 [==============================] - 0s 151ms/step\n"
          ]
        },
        {
          "name": "stderr",
          "output_type": "stream",
          "text": [
            "\r 58%|█████▊    | 193/335 [20:37<15:09,  6.41s/it]"
          ]
        },
        {
          "name": "stdout",
          "output_type": "stream",
          "text": [
            "1/1 [==============================] - 0s 137ms/step\n"
          ]
        },
        {
          "name": "stderr",
          "output_type": "stream",
          "text": [
            "\r 58%|█████▊    | 194/335 [20:43<15:01,  6.40s/it]"
          ]
        },
        {
          "name": "stdout",
          "output_type": "stream",
          "text": [
            "1/1 [==============================] - 0s 134ms/step\n"
          ]
        },
        {
          "name": "stderr",
          "output_type": "stream",
          "text": [
            "\r 58%|█████▊    | 195/335 [20:49<14:25,  6.18s/it]"
          ]
        },
        {
          "name": "stdout",
          "output_type": "stream",
          "text": [
            "1/1 [==============================] - 0s 143ms/step\n"
          ]
        },
        {
          "name": "stderr",
          "output_type": "stream",
          "text": [
            "\r 59%|█████▊    | 196/335 [20:56<15:05,  6.51s/it]"
          ]
        },
        {
          "name": "stdout",
          "output_type": "stream",
          "text": [
            "1/1 [==============================] - 0s 150ms/step\n"
          ]
        },
        {
          "name": "stderr",
          "output_type": "stream",
          "text": [
            "\r 59%|█████▉    | 197/335 [21:02<14:40,  6.38s/it]"
          ]
        },
        {
          "name": "stdout",
          "output_type": "stream",
          "text": [
            "1/1 [==============================] - 0s 137ms/step\n"
          ]
        },
        {
          "name": "stderr",
          "output_type": "stream",
          "text": [
            "\r 59%|█████▉    | 198/335 [21:08<14:30,  6.35s/it]"
          ]
        },
        {
          "name": "stdout",
          "output_type": "stream",
          "text": [
            "1/1 [==============================] - 0s 136ms/step\n"
          ]
        },
        {
          "name": "stderr",
          "output_type": "stream",
          "text": [
            "\r 59%|█████▉    | 199/335 [21:21<18:37,  8.22s/it]"
          ]
        },
        {
          "name": "stdout",
          "output_type": "stream",
          "text": [
            "1/1 [==============================] - 0s 135ms/step\n"
          ]
        },
        {
          "name": "stderr",
          "output_type": "stream",
          "text": [
            "\r 60%|█████▉    | 200/335 [21:28<17:34,  7.81s/it]"
          ]
        },
        {
          "name": "stdout",
          "output_type": "stream",
          "text": [
            "1/1 [==============================] - 0s 137ms/step\n"
          ]
        },
        {
          "name": "stderr",
          "output_type": "stream",
          "text": [
            "\r 60%|██████    | 201/335 [21:34<16:28,  7.38s/it]"
          ]
        },
        {
          "name": "stdout",
          "output_type": "stream",
          "text": [
            "1/1 [==============================] - 0s 146ms/step\n"
          ]
        },
        {
          "name": "stderr",
          "output_type": "stream",
          "text": [
            "\r 60%|██████    | 202/335 [21:41<16:08,  7.28s/it]"
          ]
        },
        {
          "name": "stdout",
          "output_type": "stream",
          "text": [
            "1/1 [==============================] - 0s 135ms/step\n"
          ]
        },
        {
          "name": "stderr",
          "output_type": "stream",
          "text": [
            "\r 61%|██████    | 203/335 [21:47<14:43,  6.69s/it]"
          ]
        },
        {
          "name": "stdout",
          "output_type": "stream",
          "text": [
            "1/1 [==============================] - 0s 162ms/step\n"
          ]
        },
        {
          "name": "stderr",
          "output_type": "stream",
          "text": [
            "\r 61%|██████    | 204/335 [21:53<14:42,  6.74s/it]"
          ]
        },
        {
          "name": "stdout",
          "output_type": "stream",
          "text": [
            "1/1 [==============================] - 0s 162ms/step\n"
          ]
        },
        {
          "name": "stderr",
          "output_type": "stream",
          "text": [
            "\r 61%|██████    | 205/335 [22:00<14:40,  6.77s/it]"
          ]
        },
        {
          "name": "stdout",
          "output_type": "stream",
          "text": [
            "1/1 [==============================] - 0s 164ms/step\n"
          ]
        },
        {
          "name": "stderr",
          "output_type": "stream",
          "text": [
            "\r 61%|██████▏   | 206/335 [22:07<14:22,  6.69s/it]"
          ]
        },
        {
          "name": "stdout",
          "output_type": "stream",
          "text": [
            "1/1 [==============================] - 0s 137ms/step\n"
          ]
        },
        {
          "name": "stderr",
          "output_type": "stream",
          "text": [
            "\r 62%|██████▏   | 207/335 [22:13<13:48,  6.47s/it]"
          ]
        },
        {
          "name": "stdout",
          "output_type": "stream",
          "text": [
            "1/1 [==============================] - 0s 300ms/step\n"
          ]
        },
        {
          "name": "stderr",
          "output_type": "stream",
          "text": [
            "\r 62%|██████▏   | 208/335 [22:19<13:50,  6.54s/it]"
          ]
        },
        {
          "name": "stdout",
          "output_type": "stream",
          "text": [
            "1/1 [==============================] - 0s 134ms/step\n"
          ]
        },
        {
          "name": "stderr",
          "output_type": "stream",
          "text": [
            "\r 62%|██████▏   | 209/335 [22:26<14:05,  6.71s/it]"
          ]
        },
        {
          "name": "stdout",
          "output_type": "stream",
          "text": [
            "1/1 [==============================] - 0s 156ms/step\n"
          ]
        }
      ],
      "source": [
        "import ssl\n",
        "ssl._create_default_https_context = ssl._create_unverified_context\n",
        "\n",
        "import os\n",
        "import cv2\n",
        "import numpy as np\n",
        "import matplotlib.pyplot as plt\n",
        "from keras.models import Sequential\n",
        "from keras import layers, Model\n",
        "from sklearn.model_selection import train_test_split\n",
        "\n",
        "import numpy as np\n",
        "from keras import Model\n",
        "from keras.layers import Conv2D, PReLU,BatchNormalization, Flatten\n",
        "from keras.layers import UpSampling2D, LeakyReLU, Dense, Input, add\n",
        "from tqdm import tqdm\n",
        "\n",
        "#########################################################################\n",
        "\n",
        "#Define blocks to build the generator\n",
        "def res_block(ip):\n",
        "\n",
        "    res_model = Conv2D(64, (3,3), padding = \"same\")(ip)\n",
        "    res_model = BatchNormalization(momentum = 0.5)(res_model)\n",
        "    res_model = PReLU(shared_axes = [1,2])(res_model)\n",
        "\n",
        "    res_model = Conv2D(64, (3,3), padding = \"same\")(res_model)\n",
        "    res_model = BatchNormalization(momentum = 0.5)(res_model)\n",
        "\n",
        "    return add([ip,res_model])\n",
        "\n",
        "def upscale_block(ip):\n",
        "\n",
        "    up_model = Conv2D(256, (3,3), padding=\"same\")(ip)\n",
        "    up_model = UpSampling2D( size = 2 )(up_model)\n",
        "    up_model = PReLU(shared_axes=[1,2])(up_model)\n",
        "\n",
        "    return up_model\n",
        "\n",
        "#Generator model\n",
        "def create_gen(gen_ip, num_res_block):\n",
        "    layers = Conv2D(64, (9,9), padding=\"same\")(gen_ip)\n",
        "    layers = PReLU(shared_axes=[1,2])(layers)\n",
        "\n",
        "    temp = layers\n",
        "\n",
        "    for i in range(num_res_block):\n",
        "        layers = res_block(layers)\n",
        "\n",
        "    layers = Conv2D(64, (3,3), padding=\"same\")(layers)\n",
        "    layers = BatchNormalization(momentum=0.5)(layers)\n",
        "    layers = add([layers,temp])\n",
        "\n",
        "    layers = upscale_block(layers)\n",
        "    layers = upscale_block(layers)\n",
        "\n",
        "    op = Conv2D(3, (9,9), padding=\"same\")(layers)\n",
        "\n",
        "    return Model(inputs=gen_ip, outputs=op)\n",
        "\n",
        "#Descriminator block that will be used to construct the discriminator\n",
        "def discriminator_block(ip, filters, strides=1, bn=True):\n",
        "\n",
        "    disc_model = Conv2D(filters, (3,3), strides = strides, padding=\"same\")(ip)\n",
        "\n",
        "    if bn:\n",
        "        disc_model = BatchNormalization( momentum=0.8 )(disc_model)\n",
        "\n",
        "    disc_model = LeakyReLU( alpha=0.2 )(disc_model)\n",
        "\n",
        "    return disc_model\n",
        "\n",
        "\n",
        "#Descriminartor, as described in the original paper\n",
        "def create_disc(disc_ip):\n",
        "\n",
        "    df = 64\n",
        "\n",
        "    d1 = discriminator_block(disc_ip, df, bn=False)\n",
        "    d2 = discriminator_block(d1, df, strides=2)\n",
        "    d3 = discriminator_block(d2, df*2)\n",
        "    d4 = discriminator_block(d3, df*2, strides=2)\n",
        "    d5 = discriminator_block(d4, df*4)\n",
        "    d6 = discriminator_block(d5, df*4, strides=2)\n",
        "    d7 = discriminator_block(d6, df*8)\n",
        "    d8 = discriminator_block(d7, df*8, strides=2)\n",
        "\n",
        "    d8_5 = Flatten()(d8)\n",
        "    d9 = Dense(df*16)(d8_5)\n",
        "    d10 = LeakyReLU(alpha=0.2)(d9)\n",
        "    validity = Dense(1, activation='sigmoid')(d10)\n",
        "\n",
        "    return Model(disc_ip, validity)\n",
        "\n",
        "\n",
        "#VGG19\n",
        "#We need VGG19 for the feature map obtained by the j-th convolution (after activation)\n",
        "#before the i-th maxpooling layer within the VGG19 network.(as described in the paper)\n",
        "#Let us pick the 3rd block, last conv layer.\n",
        "#Build a pre-trained VGG19 model that outputs image features extracted at the\n",
        "# third block of the model\n",
        "# VGG architecture: https://github.com/keras-team/keras/blob/master/keras/applications/vgg19.py\n",
        "from keras.applications import VGG19\n",
        "\n",
        "def build_vgg(hr_shape):\n",
        "\n",
        "    vgg = VGG19(weights=\"imagenet\",include_top=False, input_shape=hr_shape)\n",
        "\n",
        "    return Model(inputs=vgg.inputs, outputs=vgg.layers[10].output)\n",
        "\n",
        "#Combined model\n",
        "def create_comb(gen_model, disc_model, vgg, lr_ip, hr_ip):\n",
        "    gen_img = gen_model(lr_ip)\n",
        "\n",
        "    gen_features = vgg(gen_img)\n",
        "\n",
        "    disc_model.trainable = False\n",
        "    validity = disc_model(gen_img)\n",
        "\n",
        "    return Model(inputs=[lr_ip, hr_ip], outputs=[validity, gen_features])\n",
        "\n",
        "# 2 losses... adversarial loss and content (VGG) loss\n",
        "#AdversariaL: is defined based on the probabilities of the discriminator over all training samples\n",
        "# use binary_crossentropy\n",
        "\n",
        "#Content: feature map obtained by the j-th convolution (after activation)\n",
        "#before the i-th maxpooling layer within the VGG19 network.\n",
        "# MSE between the feature representations of a reconstructed image\n",
        "# and the reference image.\n",
        "\n",
        "###################################################################################\n",
        "\n",
        "#Load first n number of images (to train on a subset of all images)\n",
        "#For demo purposes, let us use 5000 images\n",
        "n=500\n",
        "lr_list = os.listdir(\"data/lr_images\")[:n]\n",
        "\n",
        "lr_images = []\n",
        "for img in lr_list:\n",
        "    img_lr = cv2.imread(\"data/lr_images/\" + img)\n",
        "    img_lr = cv2.cvtColor(img_lr, cv2.COLOR_BGR2RGB)\n",
        "    lr_images.append(img_lr)\n",
        "\n",
        "\n",
        "hr_list = os.listdir(\"data/hr_images\")[:n]\n",
        "\n",
        "hr_images = []\n",
        "for img in hr_list:\n",
        "    img_hr = cv2.imread(\"data/hr_images/\" + img)\n",
        "    img_hr = cv2.cvtColor(img_hr, cv2.COLOR_BGR2RGB)\n",
        "    hr_images.append(img_hr)\n",
        "\n",
        "lr_images = np.array(lr_images)\n",
        "hr_images = np.array(hr_images)\n",
        "\n",
        "#Sanity check, view few mages\n",
        "import random\n",
        "import numpy as np\n",
        "image_number = random.randint(0, len(lr_images)-1)\n",
        "plt.figure(figsize=(12, 6))\n",
        "plt.subplot(121)\n",
        "plt.imshow(np.reshape(lr_images[image_number], (32, 32, 3)))\n",
        "plt.subplot(122)\n",
        "plt.imshow(np.reshape(hr_images[image_number], (128, 128, 3)))\n",
        "plt.show()\n",
        "\n",
        "#Scale values\n",
        "lr_images = lr_images / 255.\n",
        "hr_images = hr_images / 255.\n",
        "\n",
        "#Split to train and test\n",
        "lr_train, lr_test, hr_train, hr_test = train_test_split(lr_images, hr_images,\n",
        "                                                      test_size=0.33, random_state=42)\n",
        "\n",
        "\n",
        "\n",
        "hr_shape = (hr_train.shape[1], hr_train.shape[2], hr_train.shape[3])\n",
        "lr_shape = (lr_train.shape[1], lr_train.shape[2], lr_train.shape[3])\n",
        "\n",
        "lr_ip = Input(shape=lr_shape)\n",
        "hr_ip = Input(shape=hr_shape)\n",
        "\n",
        "generator = create_gen(lr_ip, num_res_block = 16)\n",
        "generator.summary()\n",
        "\n",
        "discriminator = create_disc(hr_ip)\n",
        "discriminator.compile(loss=\"binary_crossentropy\", optimizer=\"adam\", metrics=['accuracy'])\n",
        "discriminator.summary()\n",
        "\n",
        "vgg = build_vgg((128,128,3))\n",
        "print(vgg.summary())\n",
        "vgg.trainable = False\n",
        "\n",
        "gan_model = create_comb(generator, discriminator, vgg, lr_ip, hr_ip)\n",
        "\n",
        "# 2 losses... adversarial loss and content (VGG) loss\n",
        "#AdversariaL: is defined based on the probabilities of the discriminator over all training samples\n",
        "# use binary_crossentropy\n",
        "\n",
        "#Content: feature map obtained by the j-th convolution (after activation)\n",
        "#before the i-th maxpooling layer within the VGG19 network.\n",
        "# MSE between the feature representations of a reconstructed image\n",
        "# and the reference image.\n",
        "gan_model.compile(loss=[\"binary_crossentropy\", \"mse\"], loss_weights=[1e-3, 1], optimizer=\"adam\")\n",
        "gan_model.summary()\n",
        "\n",
        "#Create a list of images for LR and HR in batches from which a batch of images\n",
        "#would be fetched during training.\n",
        "batch_size = 1\n",
        "train_lr_batches = []\n",
        "train_hr_batches = []\n",
        "for it in range(int(hr_train.shape[0] / batch_size)):\n",
        "    start_idx = it * batch_size\n",
        "    end_idx = start_idx + batch_size\n",
        "    train_hr_batches.append(hr_train[start_idx:end_idx])\n",
        "    train_lr_batches.append(lr_train[start_idx:end_idx])\n",
        "\n",
        "\n",
        "epochs = 15\n",
        "#Enumerate training over epochs\n",
        "for e in range(epochs):\n",
        "\n",
        "    fake_label = np.zeros((batch_size, 1)) # Assign a label of 0 to all fake (generated images)\n",
        "    real_label = np.ones((batch_size,1)) # Assign a label of 1 to all real images.\n",
        "\n",
        "    #Create empty lists to populate gen and disc losses.\n",
        "    g_losses = []\n",
        "    d_losses = []\n",
        "\n",
        "    #Enumerate training over batches.\n",
        "    for b in tqdm(range(len(train_hr_batches))):\n",
        "        lr_imgs = train_lr_batches[b] #Fetch a batch of LR images for training\n",
        "        hr_imgs = train_hr_batches[b] #Fetch a batch of HR images for training\n",
        "\n",
        "        fake_imgs = generator.predict_on_batch(lr_imgs) #Fake images\n",
        "\n",
        "        #First, train the discriminator on fake and real HR images.\n",
        "        discriminator.trainable = True\n",
        "        d_loss_gen = discriminator.train_on_batch(fake_imgs, fake_label)\n",
        "        d_loss_real = discriminator.train_on_batch(hr_imgs, real_label)\n",
        "\n",
        "        #Now, train the generator by fixing discriminator as non-trainable\n",
        "        discriminator.trainable = False\n",
        "\n",
        "        #Average the discriminator loss, just for reporting purposes.\n",
        "        d_loss = 0.5 * np.add(d_loss_gen, d_loss_real)\n",
        "\n",
        "        #Extract VGG features, to be used towards calculating loss\n",
        "        image_features = vgg.predict(hr_imgs)\n",
        "\n",
        "        #Train the generator via GAN.\n",
        "        #Remember that we have 2 losses, adversarial loss and content (VGG) loss\n",
        "        g_loss, _, _ = gan_model.train_on_batch([lr_imgs, hr_imgs], [real_label, image_features])\n",
        "\n",
        "        #Save losses to a list so we can average and report.\n",
        "        d_losses.append(d_loss)\n",
        "        g_losses.append(g_loss)\n",
        "\n",
        "    #Convert the list of losses to an array to make it easy to average\n",
        "    g_losses = np.array(g_losses)\n",
        "    d_losses = np.array(d_losses)\n",
        "\n",
        "    #Calculate the average losses for generator and discriminator\n",
        "    g_loss = np.sum(g_losses, axis=0) / len(g_losses)\n",
        "    d_loss = np.sum(d_losses, axis=0) / len(d_losses)\n",
        "\n",
        "    #Report the progress during training.\n",
        "    print(\"epoch:\", e+1 ,\"g_loss:\", g_loss, \"d_loss:\", d_loss)\n",
        "\n",
        "    if (e+1) % 5 == 0: #Change the frequency for model saving, if needed\n",
        "        #Save the generator after every n epochs (Usually 10 epochs)\n",
        "        generator.save(\"gen_e_\"+ str(e+1) +\".h5\")\n",
        "\n"
      ]
    },
    {
      "cell_type": "code",
      "execution_count": null,
      "metadata": {
        "colab": {
          "base_uri": "https://localhost:8080/",
          "height": 369
        },
        "id": "aANr4dfzzzyo",
        "outputId": "07e53ebc-302a-433b-95c4-29f88eed6666"
      },
      "outputs": [
        {
          "name": "stdout",
          "output_type": "stream",
          "text": [
            "1/1 [==============================] - 3s 3s/step\n"
          ]
        },
        {
          "name": "stderr",
          "output_type": "stream",
          "text": [
            "WARNING:matplotlib.image:Clipping input data to the valid range for imshow with RGB data ([0..1] for floats or [0..255] for integers).\n"
          ]
        },
        {
          "data": {
            "image/png": "[encoded data removed]",
            "text/plain": [
              "<Figure size 1600x800 with 3 Axes>"
            ]
          },
          "metadata": {},
          "output_type": "display_data"
        }
      ],
      "source": [
        "###################################################################################\n",
        "#Test - perform super resolution using saved generator model\n",
        "from keras.models import load_model\n",
        "from numpy.random import randint\n",
        "\n",
        "generator = load_model('gen_e_5.h5', compile=False)\n",
        "\n",
        "\n",
        "[X1, X2] = [lr_test, hr_test]\n",
        "# select random example\n",
        "ix = randint(0, len(X1), 1)\n",
        "src_image, tar_image = X1[ix], X2[ix]\n",
        "\n",
        "# generate image from source\n",
        "gen_image = generator.predict(src_image)\n",
        "\n",
        "\n",
        "# plot all three images\n",
        "\n",
        "plt.figure(figsize=(16, 8))\n",
        "plt.subplot(231)\n",
        "plt.title('LR Image')\n",
        "plt.imshow(src_image[0,:,:,:])\n",
        "plt.subplot(232)\n",
        "plt.title('Superresolution')\n",
        "plt.imshow(gen_image[0,:,:,:])\n",
        "plt.subplot(233)\n",
        "plt.title('Orig. HR image')\n",
        "plt.imshow(tar_image[0,:,:,:])\n",
        "\n",
        "plt.show()\n"
      ]
    },
    {
      "cell_type": "code",
      "execution_count": null,
      "metadata": {
        "id": "T-qYqsGr0yAM"
      },
      "outputs": [],
      "source": []
    }
  ],
  "metadata": {
    "colab": {
      "provenance": []
    },
    "kernelspec": {
      "display_name": "Python 3",
      "name": "python3"
    },
    "language_info": {
      "name": "python"
    }
  },
  "nbformat": 4,
  "nbformat_minor": 0
}